{
 "cells": [
  {
   "cell_type": "markdown",
   "metadata": {},
   "source": [
    "\n",
    "## Project Name:  Computational Prediction of Treatment Outcome by Machine Learning\n",
    "\n",
    "### Predicating High-Risk Prostate Cancer from a set of test results (Without doing biopsy)\n"
   ]
  },
  {
   "cell_type": "markdown",
   "metadata": {},
   "source": [
    "## Read Data"
   ]
  },
  {
   "cell_type": "markdown",
   "metadata": {},
   "source": [
    "#### Initialize global variables"
   ]
  },
  {
   "cell_type": "code",
   "execution_count": 1,
   "metadata": {},
   "outputs": [],
   "source": [
    "Random_State_Split=1\n",
    "Random_State_Ada=44\n",
    "Random_State_Sampling=1\n",
    "Random_State_Imputing=41\n",
    "Random_State_RF=44\n",
    "Random_State_Ada_DT=0\n"
   ]
  },
  {
   "cell_type": "markdown",
   "metadata": {},
   "source": [
    "### Import libraries"
   ]
  },
  {
   "cell_type": "code",
   "execution_count": 2,
   "metadata": {},
   "outputs": [
    {
     "name": "stderr",
     "output_type": "stream",
     "text": [
      "Using TensorFlow backend.\n"
     ]
    }
   ],
   "source": [
    "\n",
    "import numpy as np\n",
    "import pandas as pd\n",
    "import numpy as np\n",
    "import matplotlib.pyplot as pl\n",
    "#from ipywidgets import interact, widgets\n",
    "from matplotlib import animation\n",
    "import keras\n",
    "import matplotlib.pyplot as plt\n",
    "%matplotlib inline\n",
    "%matplotlib notebook\n",
    "%matplotlib inline\n",
    "import seaborn as sns\n",
    "import datetime\n",
    "from sklearn.preprocessing import Imputer\n",
    "from sklearn.metrics import roc_curve\n",
    "from sklearn.metrics import confusion_matrix\n",
    "from sklearn.metrics import confusion_matrix, classification_report\n",
    "from sklearn.metrics import accuracy_score, roc_auc_score\n"
   ]
  },
  {
   "cell_type": "markdown",
   "metadata": {},
   "source": [
    "### Custom functions for displaying and comparing results"
   ]
  },
  {
   "cell_type": "code",
   "execution_count": 3,
   "metadata": {},
   "outputs": [],
   "source": [
    "C1=0 #Cost for TN\n",
    "C2=1 ##Cost for FP\n",
    "C3=100 ##Cost for FN\n",
    "C4=-1 #Cost for TP\n",
    "\n",
    "result_table = pd.DataFrame(columns=['classifiers', 'fpr','tpr','auc'])\n",
    "accuracy_table = pd.DataFrame(columns=['Model', 'Accuracy','Sensitivity','Specificity','Precision', 'Recall',\n",
    "                                       'F1-Sore','AUC','Cost'])\n",
    "\n",
    "def Add_Update_df(df, accuracy, sensitivity,specificity,precision, recall,f1,auc,cost, algorithm):\n",
    "    df_new=pd.DataFrame()\n",
    "    \n",
    "    if len(df) == 0:\n",
    "        df_new = df_new.append({'Model':algorithm,\n",
    "                                        'Accuracy':accuracy, \n",
    "                                        'Sensitivity':sensitivity, \n",
    "                                        'Specificity':specificity,\n",
    "                                        'Precision':precision, \n",
    "                                        'Recall':recall, \n",
    "                                        'F1-Sore':f1,\n",
    "                                        'AUC':auc,\n",
    "                                        'Cost':cost\n",
    "                                            \n",
    "                                        \n",
    "                                          }, ignore_index=True)\n",
    "    else:\n",
    "    \n",
    "        for index, row in df.iterrows():\n",
    "    \n",
    "            if row['Model'] != algorithm:\n",
    "                df_new=df_new.append(row)\n",
    "            elif row['Model'] == algorithm:\n",
    "                row['Model']=algorithm\n",
    "                row['Accuracy']=accuracy\n",
    "                row['Sensitivity']=sensitivity\n",
    "                row['Specificity']=specificity\n",
    "                row['Precision']=precision                                 \n",
    "                row['Recall'] = recall                           \n",
    "                row['F1'] =f1                             \n",
    "                df_new=df_new.append(row)    \n",
    "        \n",
    "           \n",
    "    return df_new   \n",
    "    \n",
    "\n",
    "def get_accuracy_table(accuracy_table, y_tests, y_pred, algorithm):\n",
    "    \n",
    "    fper, tper, thresholds = roc_curve(y_tests, y_pred)\n",
    "    \n",
    "    auc = roc_auc_score(y_tests, y_pred)\n",
    "    \n",
    "    tn, fp, fn, tp = confusion_matrix(y_tests, y_pred).ravel()\n",
    "    cost = tp*C4 + tn*C1 + fp*C2 + fn*C3\n",
    "    \n",
    "    accuracy=(tp + tn)/(tn + fp + fn + tp)\n",
    "    \n",
    "    sensitivity = tp / (tp + fn)\n",
    "    \n",
    "    specificity = tn / (tn+fp)\n",
    "    precision=tp/(tp+fp)\n",
    "    recall= tp / (tp + fn)\n",
    "    f1=(2*(precision*recall))/(precision + recall)\n",
    "    \n",
    "    cost = tp*(-1) + tn * 0 + fp*1 + fn*100\n",
    "    \n",
    "    \n",
    "    accuracy_table = accuracy_table.append({'Model':algorithm,\n",
    "                                        'Accuracy':accuracy, \n",
    "                                        'Sensitivity':sensitivity, \n",
    "                                        'Specificity':specificity,\n",
    "                                        'Precision':precision, \n",
    "                                        'Recall':recall, \n",
    "                                        'F1-Sore':f1,\n",
    "                                        'AUC': auc,\n",
    "                                         'Cost': cost\n",
    "                                                                                    \n",
    "                                          }, ignore_index=True)\n",
    "   \n",
    "    \n",
    "    #accuracy_table = Add_Update_df(accuracy_table, accuracy, sensitivity, specificity, precision, recall, f1, algorithm)\n",
    "    \n",
    "    return accuracy_table\n",
    "\n",
    "def color_conf_mat(cm,algorithm):\n",
    "    plt.clf()\n",
    "    plt.imshow(cm, interpolation='nearest', cmap=plt.cm.cool)\n",
    "    classNames = ['Negative','Positive']\n",
    "    plt.title('Confusion Matrix-' + algorithm)\n",
    "    plt.ylabel('True label')\n",
    "    plt.xlabel('Predicted label')\n",
    "    tick_marks = np.arange(len(classNames))\n",
    "    plt.xticks(tick_marks, classNames, rotation=45)\n",
    "    plt.yticks(tick_marks, classNames)\n",
    "    s = [['TN','FP'], ['FN', 'TP']]\n",
    "    for i in range(2):\n",
    "        for j in range(2):\n",
    "            plt.text(j,i, str(s[i][j])+\" = \"+str(cm[i][j]), horizontalalignment='center')\n",
    "    plt.show()\n",
    "    \n"
   ]
  },
  {
   "cell_type": "code",
   "execution_count": 4,
   "metadata": {},
   "outputs": [],
   "source": [
    "def plot_all_roc(result_table, sampling):\n",
    "    fig = plt.figure(figsize=(8,6))\n",
    "\n",
    "    for i in result_table.index:\n",
    "        plt.plot(result_table.loc[i]['fpr'], \n",
    "                 result_table.loc[i]['tpr'], \n",
    "                 label=\"{}, AUC={:.3f}\".format(result_table.loc[i]['classifiers'], result_table.loc[i]['auc']))\n",
    "\n",
    "    plt.plot([0,1], [0,1], color='orange', linestyle='--')\n",
    "\n",
    "    plt.xticks(np.arange(0.0, 1.1, step=0.1))\n",
    "    plt.xlabel(\"Flase Positive Rate\", fontsize=15)\n",
    "\n",
    "    plt.yticks(np.arange(0.0, 1.1, step=0.1))\n",
    "    plt.ylabel(\"True Positive Rate\", fontsize=15)\n",
    "    \n",
    "    title1='ROC - Predicting High-Risk Cancer using ' + sampling + \" No PSA_Recent_2\"\n",
    "    plt.title(title1, fontweight='bold', fontsize=15)\n",
    "    plt.legend(prop={'size':13}, loc='lower right')\n",
    "\n",
    "    plt.show()"
   ]
  },
  {
   "cell_type": "code",
   "execution_count": 5,
   "metadata": {},
   "outputs": [],
   "source": [
    "#!pip install fancyimpute\n",
    "def scale(X, x_min, x_max):\n",
    "    nom = (X-X.min(axis=0))*(x_max-x_min)\n",
    "    denom = X.max(axis=0) - X.min(axis=0)\n",
    "    denom[denom==0] = 1\n",
    "    return x_min + nom/denom \n",
    "\n",
    "def get_confusion_matrix(prediction, actual):\n",
    "    conf_matrix = pd.DataFrame(list(zip(prediction,actual)), \n",
    "                                    columns=['predicted labels','actual labels'])\n",
    "    conf_matrix['const'] = 1\n",
    "    conf_matrix = pd.pivot_table(data=conf_matrix, \n",
    "                               index='actual labels', \n",
    "                               columns='predicted labels', \n",
    "                               values='const', \n",
    "                               aggfunc=sum)\n",
    "    conf_matrix = conf_matrix.fillna(0)\n",
    "    return conf_matrix\n",
    "  \n",
    "def heatmap_confusion_matrix(conf_matrix):\n",
    "    plt.figure(figsize=(8,6))\n",
    "    g = sns.heatmap(conf_matrix, cbar_kws={'label':'Frequency'}, center=0, cmap=sns.diverging_palette(10, 5, as_cmap=True)).set_title('Confusion Matrix')\n",
    "    return g\n",
    "def plot_roc_curve(fper, tper, algorithm):  \n",
    "    plt.plot(fper, tper, color='orange', label='ROC')\n",
    "    plt.plot([0, 1], [0, 1], color='darkblue', linestyle='--')\n",
    "    plt.xlabel('False Positive Rate')\n",
    "    plt.ylabel('True Positive Rate')\n",
    "    plt.title('Receiver Operating Characteristic (ROC) Curve-' + algorithm)\n",
    "    plt.legend()\n",
    "    plt.show()\n",
    "    \n",
    "def roc_curve_sen_spec(y_tests, y_pred, algorithm):\n",
    "    \n",
    "    fper, tper, thresholds = roc_curve(y_tests, y_pred) \n",
    "    plot_roc_curve(fper, tper, algorithm)\n",
    "\n",
    "\n",
    "    tn, fp, fn, tp = confusion_matrix(y_tests, y_pred).ravel()\n",
    "    \n",
    "    accuracy=(tp + tn)/(tn + fp + fn + tp)\n",
    "    print('Accuracy:', accuracy)\n",
    "    sensitivity = tp / (tp + fn)\n",
    "    print('sensitivity:', sensitivity)\n",
    "\n",
    "    specificity = tn / (tn+fp)\n",
    "    print('specificity:', specificity)\n",
    "    \n",
    "    print(confusion_matrix(y_tests, y_pred))\n",
    "    print(classification_report(y_tests,y_pred))\n",
    "\n"
   ]
  },
  {
   "cell_type": "markdown",
   "metadata": {},
   "source": [
    "## Show raw data"
   ]
  },
  {
   "cell_type": "code",
   "execution_count": 7,
   "metadata": {
    "scrolled": true
   },
   "outputs": [
    {
     "name": "stdout",
     "output_type": "stream",
     "text": [
      "Total Raw data:  76682\n"
     ]
    },
    {
     "data": {
      "text/html": [
       "<div>\n",
       "<style scoped>\n",
       "    .dataframe tbody tr th:only-of-type {\n",
       "        vertical-align: middle;\n",
       "    }\n",
       "\n",
       "    .dataframe tbody tr th {\n",
       "        vertical-align: top;\n",
       "    }\n",
       "\n",
       "    .dataframe thead th {\n",
       "        text-align: right;\n",
       "    }\n",
       "</style>\n",
       "<table border=\"1\" class=\"dataframe\">\n",
       "  <thead>\n",
       "    <tr style=\"text-align: right;\">\n",
       "      <th></th>\n",
       "      <th>dcf_dthp</th>\n",
       "      <th>f_dthp</th>\n",
       "      <th>reasfollp</th>\n",
       "      <th>reassympp</th>\n",
       "      <th>reassurvp</th>\n",
       "      <th>reasothp</th>\n",
       "      <th>hasdep0</th>\n",
       "      <th>hasdep1</th>\n",
       "      <th>hasdep2</th>\n",
       "      <th>hasdep3</th>\n",
       "      <th>...</th>\n",
       "      <th>age</th>\n",
       "      <th>agelevel</th>\n",
       "      <th>dual</th>\n",
       "      <th>has_nrf</th>\n",
       "      <th>nrf_reason</th>\n",
       "      <th>nrf_days</th>\n",
       "      <th>eligible_bq</th>\n",
       "      <th>eligible_sqx</th>\n",
       "      <th>eligible_dqx</th>\n",
       "      <th>eligible_dhq</th>\n",
       "    </tr>\n",
       "  </thead>\n",
       "  <tbody>\n",
       "    <tr>\n",
       "      <th>0</th>\n",
       "      <td>NaN</td>\n",
       "      <td>0.0</td>\n",
       "      <td>NaN</td>\n",
       "      <td>NaN</td>\n",
       "      <td>NaN</td>\n",
       "      <td>NaN</td>\n",
       "      <td>0.0</td>\n",
       "      <td>0.0</td>\n",
       "      <td>0.0</td>\n",
       "      <td>0.0</td>\n",
       "      <td>...</td>\n",
       "      <td>67.0</td>\n",
       "      <td>2.0</td>\n",
       "      <td>1.0</td>\n",
       "      <td>0.0</td>\n",
       "      <td>NaN</td>\n",
       "      <td>NaN</td>\n",
       "      <td>1.0</td>\n",
       "      <td>1.0</td>\n",
       "      <td>0.0</td>\n",
       "      <td>1.0</td>\n",
       "    </tr>\n",
       "    <tr>\n",
       "      <th>1</th>\n",
       "      <td>NaN</td>\n",
       "      <td>0.0</td>\n",
       "      <td>NaN</td>\n",
       "      <td>NaN</td>\n",
       "      <td>NaN</td>\n",
       "      <td>NaN</td>\n",
       "      <td>0.0</td>\n",
       "      <td>0.0</td>\n",
       "      <td>0.0</td>\n",
       "      <td>0.0</td>\n",
       "      <td>...</td>\n",
       "      <td>62.0</td>\n",
       "      <td>1.0</td>\n",
       "      <td>0.0</td>\n",
       "      <td>0.0</td>\n",
       "      <td>NaN</td>\n",
       "      <td>NaN</td>\n",
       "      <td>1.0</td>\n",
       "      <td>0.0</td>\n",
       "      <td>1.0</td>\n",
       "      <td>1.0</td>\n",
       "    </tr>\n",
       "    <tr>\n",
       "      <th>2</th>\n",
       "      <td>NaN</td>\n",
       "      <td>0.0</td>\n",
       "      <td>NaN</td>\n",
       "      <td>NaN</td>\n",
       "      <td>NaN</td>\n",
       "      <td>NaN</td>\n",
       "      <td>0.0</td>\n",
       "      <td>0.0</td>\n",
       "      <td>0.0</td>\n",
       "      <td>0.0</td>\n",
       "      <td>...</td>\n",
       "      <td>62.0</td>\n",
       "      <td>1.0</td>\n",
       "      <td>0.0</td>\n",
       "      <td>0.0</td>\n",
       "      <td>NaN</td>\n",
       "      <td>NaN</td>\n",
       "      <td>1.0</td>\n",
       "      <td>1.0</td>\n",
       "      <td>0.0</td>\n",
       "      <td>1.0</td>\n",
       "    </tr>\n",
       "    <tr>\n",
       "      <th>3</th>\n",
       "      <td>NaN</td>\n",
       "      <td>0.0</td>\n",
       "      <td>NaN</td>\n",
       "      <td>NaN</td>\n",
       "      <td>NaN</td>\n",
       "      <td>NaN</td>\n",
       "      <td>0.0</td>\n",
       "      <td>0.0</td>\n",
       "      <td>0.0</td>\n",
       "      <td>0.0</td>\n",
       "      <td>...</td>\n",
       "      <td>57.0</td>\n",
       "      <td>0.0</td>\n",
       "      <td>0.0</td>\n",
       "      <td>0.0</td>\n",
       "      <td>NaN</td>\n",
       "      <td>NaN</td>\n",
       "      <td>1.0</td>\n",
       "      <td>1.0</td>\n",
       "      <td>0.0</td>\n",
       "      <td>0.0</td>\n",
       "    </tr>\n",
       "    <tr>\n",
       "      <th>4</th>\n",
       "      <td>NaN</td>\n",
       "      <td>0.0</td>\n",
       "      <td>NaN</td>\n",
       "      <td>NaN</td>\n",
       "      <td>NaN</td>\n",
       "      <td>NaN</td>\n",
       "      <td>1.0</td>\n",
       "      <td>0.0</td>\n",
       "      <td>0.0</td>\n",
       "      <td>1.0</td>\n",
       "      <td>...</td>\n",
       "      <td>56.0</td>\n",
       "      <td>0.0</td>\n",
       "      <td>0.0</td>\n",
       "      <td>0.0</td>\n",
       "      <td>NaN</td>\n",
       "      <td>NaN</td>\n",
       "      <td>1.0</td>\n",
       "      <td>1.0</td>\n",
       "      <td>1.0</td>\n",
       "      <td>1.0</td>\n",
       "    </tr>\n",
       "  </tbody>\n",
       "</table>\n",
       "<p>5 rows × 223 columns</p>\n",
       "</div>"
      ],
      "text/plain": [
       "   dcf_dthp  f_dthp  reasfollp  reassympp  reassurvp  reasothp  hasdep0  \\\n",
       "0       NaN     0.0        NaN        NaN        NaN       NaN      0.0   \n",
       "1       NaN     0.0        NaN        NaN        NaN       NaN      0.0   \n",
       "2       NaN     0.0        NaN        NaN        NaN       NaN      0.0   \n",
       "3       NaN     0.0        NaN        NaN        NaN       NaN      0.0   \n",
       "4       NaN     0.0        NaN        NaN        NaN       NaN      1.0   \n",
       "\n",
       "   hasdep1  hasdep2  hasdep3  ...   age  agelevel  dual  has_nrf  nrf_reason  \\\n",
       "0      0.0      0.0      0.0  ...  67.0       2.0   1.0      0.0         NaN   \n",
       "1      0.0      0.0      0.0  ...  62.0       1.0   0.0      0.0         NaN   \n",
       "2      0.0      0.0      0.0  ...  62.0       1.0   0.0      0.0         NaN   \n",
       "3      0.0      0.0      0.0  ...  57.0       0.0   0.0      0.0         NaN   \n",
       "4      0.0      0.0      1.0  ...  56.0       0.0   0.0      0.0         NaN   \n",
       "\n",
       "   nrf_days  eligible_bq  eligible_sqx  eligible_dqx  eligible_dhq  \n",
       "0       NaN          1.0           1.0           0.0           1.0  \n",
       "1       NaN          1.0           0.0           1.0           1.0  \n",
       "2       NaN          1.0           1.0           0.0           1.0  \n",
       "3       NaN          1.0           1.0           0.0           0.0  \n",
       "4       NaN          1.0           1.0           1.0           1.0  \n",
       "\n",
       "[5 rows x 223 columns]"
      ]
     },
     "execution_count": 7,
     "metadata": {},
     "output_type": "execute_result"
    }
   ],
   "source": [
    "import pandas as pd\n",
    "df = pd.read_csv('Data/Prostate_cancer.csv')\n",
    "lst_all_columns=list(df.columns.values)\n",
    "#print('\\n'.join(df.columns))\n",
    "print(\"Total Raw data: \", len(df))\n",
    "df.head()"
   ]
  },
  {
   "cell_type": "markdown",
   "metadata": {},
   "source": [
    "## Filter data"
   ]
  },
  {
   "cell_type": "markdown",
   "metadata": {},
   "source": [
    "### Filter out patients using Randomize Intervention arm"
   ]
  },
  {
   "cell_type": "code",
   "execution_count": 120,
   "metadata": {},
   "outputs": [
    {
     "name": "stdout",
     "output_type": "stream",
     "text": [
      "Men with Randomize Intervention arm: 38340\n"
     ]
    }
   ],
   "source": [
    "\n",
    "df=df.loc[(df['arm'] == 1)]\n",
    "print(\"Men with Randomize Intervention arm:\",len(df))"
   ]
  },
  {
   "cell_type": "markdown",
   "metadata": {},
   "source": [
    "### Filter out patients using Age (Age between 50 and 75 exclussive are taken for this model)"
   ]
  },
  {
   "cell_type": "code",
   "execution_count": 121,
   "metadata": {},
   "outputs": [
    {
     "name": "stdout",
     "output_type": "stream",
     "text": [
      "Men Age between 50 and 75 exclusive: 37415\n"
     ]
    }
   ],
   "source": [
    "## Age between between 50 and 75 exclussive are taken for this model\n",
    "df_new=df.copy()\n",
    "#print(len(df))\n",
    "df_new=df.loc[(df['bq_cohort_entryage'] > 50) & (df['bq_cohort_entryage'] < 75)]                                                \n",
    "                                                   \n",
    "print(\"Men Age between 50 and 75 exclusive:\",len(df_new))"
   ]
  },
  {
   "cell_type": "markdown",
   "metadata": {},
   "source": [
    "### Filter out patients with less than 4 PSA results. We saved that filtered data to csv file(psa4_new.csv) to save next run"
   ]
  },
  {
   "cell_type": "code",
   "execution_count": 122,
   "metadata": {},
   "outputs": [
    {
     "data": {
      "text/plain": [
       "\"\\ndf_psa4=pd.DataFrame()\\nfor index, row in df.iterrows():\\n    # access data using column names\\n    #print(index, row['age'], row['psa_level5'], row['is_dead'])\\n    num_nan_psa=0\\n    if (np.isnan(row['psa_level0'])):\\n           num_nan_psa +=1\\n    if (np.isnan(row['psa_level1'])):\\n           num_nan_psa +=1\\n    if (np.isnan(row['psa_level2'])):\\n           num_nan_psa +=1\\n    if (np.isnan(row['psa_level3'])):\\n           num_nan_psa +=1\\n    if (np.isnan(row['psa_level4'])):\\n           num_nan_psa +=1\\n    if (np.isnan(row['psa_level5'])):\\n           num_nan_psa +=1\\n    #print(num_nan_psa)     \\n    if num_nan_psa<=2:\\n        df_psa4=df_psa4.append(row)\\n        num_nan_psa=0\\n    else:\\n        num_nan_psa=0\\n    \\n    #print(row['psa_level0'])\\nlen(df_psa4), num_nan_psa\\n\""
      ]
     },
     "execution_count": 122,
     "metadata": {},
     "output_type": "execute_result"
    }
   ],
   "source": [
    "'''\n",
    "df_psa4=pd.DataFrame()\n",
    "for index, row in df.iterrows():\n",
    "    # access data using column names\n",
    "    #print(index, row['age'], row['psa_level5'], row['is_dead'])\n",
    "    num_nan_psa=0\n",
    "    if (np.isnan(row['psa_level0'])):\n",
    "           num_nan_psa +=1\n",
    "    if (np.isnan(row['psa_level1'])):\n",
    "           num_nan_psa +=1\n",
    "    if (np.isnan(row['psa_level2'])):\n",
    "           num_nan_psa +=1\n",
    "    if (np.isnan(row['psa_level3'])):\n",
    "           num_nan_psa +=1\n",
    "    if (np.isnan(row['psa_level4'])):\n",
    "           num_nan_psa +=1\n",
    "    if (np.isnan(row['psa_level5'])):\n",
    "           num_nan_psa +=1\n",
    "    #print(num_nan_psa)     \n",
    "    if num_nan_psa<=2:\n",
    "        df_psa4=df_psa4.append(row)\n",
    "        num_nan_psa=0\n",
    "    else:\n",
    "        num_nan_psa=0\n",
    "    \n",
    "    #print(row['psa_level0'])\n",
    "len(df_psa4), num_nan_psa\n",
    "'''"
   ]
  },
  {
   "cell_type": "code",
   "execution_count": 123,
   "metadata": {},
   "outputs": [],
   "source": [
    "#df_psa4.to_csv('Data/psa4_new.csv')"
   ]
  },
  {
   "cell_type": "code",
   "execution_count": 124,
   "metadata": {},
   "outputs": [
    {
     "data": {
      "text/plain": [
       "30362"
      ]
     },
     "execution_count": 124,
     "metadata": {},
     "output_type": "execute_result"
    }
   ],
   "source": [
    "df_new=pd.read_csv('Data/psa4_new.csv')\n",
    "#df_new=pd.read_csv('Data/filtered_masud.csv')\n",
    "len(df_new)"
   ]
  },
  {
   "cell_type": "markdown",
   "metadata": {},
   "source": [
    "## Remove all Dead Patients"
   ]
  },
  {
   "cell_type": "code",
   "execution_count": 125,
   "metadata": {},
   "outputs": [
    {
     "name": "stdout",
     "output_type": "stream",
     "text": [
      "26295\n",
      "After Removing dead patients:  26295\n"
     ]
    }
   ],
   "source": [
    "df_new=df_new[df_new.is_dead==0]\n",
    "print(len(df_new))\n",
    "#df_new=df_new[df_new.psa_level5>=4]\n",
    "print(\"After Removing dead patients: \",len(df_new))"
   ]
  },
  {
   "cell_type": "markdown",
   "metadata": {},
   "source": [
    "## Remove all Except (enlpros_f = 0 or enlpros_f = 1, section 22) BPH (Benign Prostate Hyperplasia)"
   ]
  },
  {
   "cell_type": "code",
   "execution_count": 126,
   "metadata": {},
   "outputs": [
    {
     "name": "stdout",
     "output_type": "stream",
     "text": [
      "26124\n"
     ]
    }
   ],
   "source": [
    "#df_bph=df_new[((df_new.enlpros_f==0) | (df_new.enlpros_f==1))]\n",
    "df_bph=df_new[(df_new.enlpros_f>=0)]\n",
    "#df_bph=df_new[['enlpros_f']]\n",
    "print(len(df_bph))\n",
    "df_new=df_bph.copy()"
   ]
  },
  {
   "cell_type": "code",
   "execution_count": 127,
   "metadata": {},
   "outputs": [
    {
     "data": {
      "text/plain": [
       "26124"
      ]
     },
     "execution_count": 127,
     "metadata": {},
     "output_type": "execute_result"
    }
   ],
   "source": [
    "len(df_new)"
   ]
  },
  {
   "cell_type": "markdown",
   "metadata": {},
   "source": [
    "## Remove Outliers before Imputing (If we want to)"
   ]
  },
  {
   "cell_type": "code",
   "execution_count": 128,
   "metadata": {},
   "outputs": [
    {
     "data": {
      "text/plain": [
       "26113"
      ]
     },
     "execution_count": 128,
     "metadata": {},
     "output_type": "execute_result"
    }
   ],
   "source": [
    "df_new['outliers']=0\n",
    "df_new['outliers_low']=0\n",
    "df_new.loc[(df_new.confirmed_pros == 0) & ((df_new.pros_gleason >=8) | (df_new.psa_level5>=20)), 'outliers']=1\n",
    "#df_new.loc[(df_new.confirmed_pros == 1) & ((df_new.pros_gleason <=3) & (df_new.psa_level5<4)), 'outliers_low']=1\n",
    "df_new.loc[(df_new.confirmed_pros == 1) & ((df_new.pros_gleason <=3) & (df_new.psa_level5<4)), 'outliers_low']=1\n",
    "df_new=df_new[df_new.outliers==0]\n",
    "df_new=df_new[df_new.outliers_low==0]\n",
    "len(df_new)"
   ]
  },
  {
   "cell_type": "code",
   "execution_count": 129,
   "metadata": {},
   "outputs": [
    {
     "data": {
      "text/plain": [
       "26113"
      ]
     },
     "execution_count": 129,
     "metadata": {},
     "output_type": "execute_result"
    }
   ],
   "source": [
    "'''\n",
    "df_pros = df[['pros_stage','pros_clinstage']]#.fillna(0)#df['pros_stage']\n",
    "df_pros=df_pros.fillna(0)\n",
    "df_pros.head()\n",
    "'''\n",
    "df=df_new.copy()\n",
    "len(df)"
   ]
  },
  {
   "cell_type": "markdown",
   "metadata": {},
   "source": [
    "### Label “high-risk” for patients with either Gleason Score ≥8, or PSA ≥20"
   ]
  },
  {
   "cell_type": "code",
   "execution_count": 130,
   "metadata": {},
   "outputs": [
    {
     "name": "stderr",
     "output_type": "stream",
     "text": [
      "C:\\Users\\syedm\\Anaconda3\\envs\\tf-gpu\\lib\\site-packages\\ipykernel_launcher.py:3: SettingWithCopyWarning: \n",
      "A value is trying to be set on a copy of a slice from a DataFrame.\n",
      "Try using .loc[row_indexer,col_indexer] = value instead\n",
      "\n",
      "See the caveats in the documentation: http://pandas.pydata.org/pandas-docs/stable/indexing.html#indexing-view-versus-copy\n",
      "  This is separate from the ipykernel package so we can avoid doing imports until\n",
      "C:\\Users\\syedm\\Anaconda3\\envs\\tf-gpu\\lib\\site-packages\\ipykernel_launcher.py:4: SettingWithCopyWarning: \n",
      "A value is trying to be set on a copy of a slice from a DataFrame.\n",
      "Try using .loc[row_indexer,col_indexer] = value instead\n",
      "\n",
      "See the caveats in the documentation: http://pandas.pydata.org/pandas-docs/stable/indexing.html#indexing-view-versus-copy\n",
      "  after removing the cwd from sys.path.\n"
     ]
    },
    {
     "data": {
      "text/html": [
       "<div>\n",
       "<style scoped>\n",
       "    .dataframe tbody tr th:only-of-type {\n",
       "        vertical-align: middle;\n",
       "    }\n",
       "\n",
       "    .dataframe tbody tr th {\n",
       "        vertical-align: top;\n",
       "    }\n",
       "\n",
       "    .dataframe thead th {\n",
       "        text-align: right;\n",
       "    }\n",
       "</style>\n",
       "<table border=\"1\" class=\"dataframe\">\n",
       "  <thead>\n",
       "    <tr style=\"text-align: right;\">\n",
       "      <th></th>\n",
       "      <th>confirmed_pros</th>\n",
       "      <th>intstatp_cat</th>\n",
       "      <th>cstatusp_cat</th>\n",
       "      <th>pros_clinstage</th>\n",
       "      <th>pros_stage</th>\n",
       "      <th>age</th>\n",
       "      <th>pros_gleason</th>\n",
       "      <th>pros_gleason_source</th>\n",
       "      <th>bmi_20</th>\n",
       "      <th>bmi_50</th>\n",
       "      <th>...</th>\n",
       "      <th>psa_result5</th>\n",
       "      <th>psa_level0</th>\n",
       "      <th>psa_level1</th>\n",
       "      <th>psa_level1</th>\n",
       "      <th>psa_level2</th>\n",
       "      <th>psa_level3</th>\n",
       "      <th>psa_level4</th>\n",
       "      <th>psa_level5</th>\n",
       "      <th>race7</th>\n",
       "      <th>dre_result3</th>\n",
       "    </tr>\n",
       "  </thead>\n",
       "  <tbody>\n",
       "    <tr>\n",
       "      <th>0</th>\n",
       "      <td>0.0</td>\n",
       "      <td>0.0</td>\n",
       "      <td>0.0</td>\n",
       "      <td>0.0</td>\n",
       "      <td>0.0</td>\n",
       "      <td>67.0</td>\n",
       "      <td>NaN</td>\n",
       "      <td>NaN</td>\n",
       "      <td>26.441992</td>\n",
       "      <td>29.086191</td>\n",
       "      <td>...</td>\n",
       "      <td>1.0</td>\n",
       "      <td>1.57</td>\n",
       "      <td>1.53</td>\n",
       "      <td>1.53</td>\n",
       "      <td>1.41</td>\n",
       "      <td>2.10</td>\n",
       "      <td>2.17</td>\n",
       "      <td>2.63</td>\n",
       "      <td>2.0</td>\n",
       "      <td>1.0</td>\n",
       "    </tr>\n",
       "    <tr>\n",
       "      <th>1</th>\n",
       "      <td>0.0</td>\n",
       "      <td>0.0</td>\n",
       "      <td>0.0</td>\n",
       "      <td>0.0</td>\n",
       "      <td>0.0</td>\n",
       "      <td>62.0</td>\n",
       "      <td>NaN</td>\n",
       "      <td>NaN</td>\n",
       "      <td>22.362130</td>\n",
       "      <td>27.952663</td>\n",
       "      <td>...</td>\n",
       "      <td>1.0</td>\n",
       "      <td>0.73</td>\n",
       "      <td>0.44</td>\n",
       "      <td>0.44</td>\n",
       "      <td>0.80</td>\n",
       "      <td>0.45</td>\n",
       "      <td>0.82</td>\n",
       "      <td>0.55</td>\n",
       "      <td>1.0</td>\n",
       "      <td>1.0</td>\n",
       "    </tr>\n",
       "    <tr>\n",
       "      <th>2</th>\n",
       "      <td>0.0</td>\n",
       "      <td>0.0</td>\n",
       "      <td>0.0</td>\n",
       "      <td>0.0</td>\n",
       "      <td>0.0</td>\n",
       "      <td>57.0</td>\n",
       "      <td>NaN</td>\n",
       "      <td>NaN</td>\n",
       "      <td>18.833955</td>\n",
       "      <td>24.170242</td>\n",
       "      <td>...</td>\n",
       "      <td>1.0</td>\n",
       "      <td>1.87</td>\n",
       "      <td>1.72</td>\n",
       "      <td>1.72</td>\n",
       "      <td>2.65</td>\n",
       "      <td>2.50</td>\n",
       "      <td>1.77</td>\n",
       "      <td>2.69</td>\n",
       "      <td>1.0</td>\n",
       "      <td>1.0</td>\n",
       "    </tr>\n",
       "    <tr>\n",
       "      <th>3</th>\n",
       "      <td>0.0</td>\n",
       "      <td>0.0</td>\n",
       "      <td>0.0</td>\n",
       "      <td>0.0</td>\n",
       "      <td>0.0</td>\n",
       "      <td>56.0</td>\n",
       "      <td>NaN</td>\n",
       "      <td>NaN</td>\n",
       "      <td>26.600239</td>\n",
       "      <td>28.038089</td>\n",
       "      <td>...</td>\n",
       "      <td>1.0</td>\n",
       "      <td>1.54</td>\n",
       "      <td>1.35</td>\n",
       "      <td>1.35</td>\n",
       "      <td>2.33</td>\n",
       "      <td>1.11</td>\n",
       "      <td>1.25</td>\n",
       "      <td>1.43</td>\n",
       "      <td>1.0</td>\n",
       "      <td>2.0</td>\n",
       "    </tr>\n",
       "    <tr>\n",
       "      <th>4</th>\n",
       "      <td>1.0</td>\n",
       "      <td>3.0</td>\n",
       "      <td>1.0</td>\n",
       "      <td>2.0</td>\n",
       "      <td>2.0</td>\n",
       "      <td>56.0</td>\n",
       "      <td>6.0</td>\n",
       "      <td>2.0</td>\n",
       "      <td>25.897018</td>\n",
       "      <td>29.596592</td>\n",
       "      <td>...</td>\n",
       "      <td>8.0</td>\n",
       "      <td>3.88</td>\n",
       "      <td>2.27</td>\n",
       "      <td>2.27</td>\n",
       "      <td>2.65</td>\n",
       "      <td>2.81</td>\n",
       "      <td>NaN</td>\n",
       "      <td>NaN</td>\n",
       "      <td>1.0</td>\n",
       "      <td>1.0</td>\n",
       "    </tr>\n",
       "    <tr>\n",
       "      <th>6</th>\n",
       "      <td>1.0</td>\n",
       "      <td>5.0</td>\n",
       "      <td>1.0</td>\n",
       "      <td>2.0</td>\n",
       "      <td>2.0</td>\n",
       "      <td>56.0</td>\n",
       "      <td>6.0</td>\n",
       "      <td>2.0</td>\n",
       "      <td>23.542444</td>\n",
       "      <td>26.681436</td>\n",
       "      <td>...</td>\n",
       "      <td>2.0</td>\n",
       "      <td>1.48</td>\n",
       "      <td>1.52</td>\n",
       "      <td>1.52</td>\n",
       "      <td>2.24</td>\n",
       "      <td>2.88</td>\n",
       "      <td>2.82</td>\n",
       "      <td>4.45</td>\n",
       "      <td>2.0</td>\n",
       "      <td>1.0</td>\n",
       "    </tr>\n",
       "    <tr>\n",
       "      <th>7</th>\n",
       "      <td>0.0</td>\n",
       "      <td>0.0</td>\n",
       "      <td>0.0</td>\n",
       "      <td>0.0</td>\n",
       "      <td>0.0</td>\n",
       "      <td>61.0</td>\n",
       "      <td>NaN</td>\n",
       "      <td>NaN</td>\n",
       "      <td>27.181592</td>\n",
       "      <td>30.579291</td>\n",
       "      <td>...</td>\n",
       "      <td>1.0</td>\n",
       "      <td>3.03</td>\n",
       "      <td>2.08</td>\n",
       "      <td>2.08</td>\n",
       "      <td>2.14</td>\n",
       "      <td>2.14</td>\n",
       "      <td>2.05</td>\n",
       "      <td>2.52</td>\n",
       "      <td>2.0</td>\n",
       "      <td>1.0</td>\n",
       "    </tr>\n",
       "    <tr>\n",
       "      <th>8</th>\n",
       "      <td>0.0</td>\n",
       "      <td>0.0</td>\n",
       "      <td>0.0</td>\n",
       "      <td>0.0</td>\n",
       "      <td>0.0</td>\n",
       "      <td>56.0</td>\n",
       "      <td>NaN</td>\n",
       "      <td>NaN</td>\n",
       "      <td>22.855110</td>\n",
       "      <td>28.949806</td>\n",
       "      <td>...</td>\n",
       "      <td>1.0</td>\n",
       "      <td>1.21</td>\n",
       "      <td>0.90</td>\n",
       "      <td>0.90</td>\n",
       "      <td>1.11</td>\n",
       "      <td>1.14</td>\n",
       "      <td>1.53</td>\n",
       "      <td>1.73</td>\n",
       "      <td>1.0</td>\n",
       "      <td>3.0</td>\n",
       "    </tr>\n",
       "    <tr>\n",
       "      <th>9</th>\n",
       "      <td>0.0</td>\n",
       "      <td>0.0</td>\n",
       "      <td>0.0</td>\n",
       "      <td>0.0</td>\n",
       "      <td>0.0</td>\n",
       "      <td>62.0</td>\n",
       "      <td>NaN</td>\n",
       "      <td>NaN</td>\n",
       "      <td>20.848836</td>\n",
       "      <td>20.848836</td>\n",
       "      <td>...</td>\n",
       "      <td>1.0</td>\n",
       "      <td>2.17</td>\n",
       "      <td>0.81</td>\n",
       "      <td>0.81</td>\n",
       "      <td>0.90</td>\n",
       "      <td>1.04</td>\n",
       "      <td>1.19</td>\n",
       "      <td>0.94</td>\n",
       "      <td>1.0</td>\n",
       "      <td>3.0</td>\n",
       "    </tr>\n",
       "    <tr>\n",
       "      <th>10</th>\n",
       "      <td>0.0</td>\n",
       "      <td>0.0</td>\n",
       "      <td>0.0</td>\n",
       "      <td>0.0</td>\n",
       "      <td>0.0</td>\n",
       "      <td>66.0</td>\n",
       "      <td>NaN</td>\n",
       "      <td>NaN</td>\n",
       "      <td>24.443463</td>\n",
       "      <td>28.757015</td>\n",
       "      <td>...</td>\n",
       "      <td>1.0</td>\n",
       "      <td>0.53</td>\n",
       "      <td>0.43</td>\n",
       "      <td>0.43</td>\n",
       "      <td>0.54</td>\n",
       "      <td>0.46</td>\n",
       "      <td>0.46</td>\n",
       "      <td>0.52</td>\n",
       "      <td>1.0</td>\n",
       "      <td>1.0</td>\n",
       "    </tr>\n",
       "  </tbody>\n",
       "</table>\n",
       "<p>10 rows × 33 columns</p>\n",
       "</div>"
      ],
      "text/plain": [
       "    confirmed_pros  intstatp_cat  cstatusp_cat  pros_clinstage  pros_stage  \\\n",
       "0              0.0           0.0           0.0             0.0         0.0   \n",
       "1              0.0           0.0           0.0             0.0         0.0   \n",
       "2              0.0           0.0           0.0             0.0         0.0   \n",
       "3              0.0           0.0           0.0             0.0         0.0   \n",
       "4              1.0           3.0           1.0             2.0         2.0   \n",
       "6              1.0           5.0           1.0             2.0         2.0   \n",
       "7              0.0           0.0           0.0             0.0         0.0   \n",
       "8              0.0           0.0           0.0             0.0         0.0   \n",
       "9              0.0           0.0           0.0             0.0         0.0   \n",
       "10             0.0           0.0           0.0             0.0         0.0   \n",
       "\n",
       "     age  pros_gleason  pros_gleason_source     bmi_20     bmi_50  ...  \\\n",
       "0   67.0           NaN                  NaN  26.441992  29.086191  ...   \n",
       "1   62.0           NaN                  NaN  22.362130  27.952663  ...   \n",
       "2   57.0           NaN                  NaN  18.833955  24.170242  ...   \n",
       "3   56.0           NaN                  NaN  26.600239  28.038089  ...   \n",
       "4   56.0           6.0                  2.0  25.897018  29.596592  ...   \n",
       "6   56.0           6.0                  2.0  23.542444  26.681436  ...   \n",
       "7   61.0           NaN                  NaN  27.181592  30.579291  ...   \n",
       "8   56.0           NaN                  NaN  22.855110  28.949806  ...   \n",
       "9   62.0           NaN                  NaN  20.848836  20.848836  ...   \n",
       "10  66.0           NaN                  NaN  24.443463  28.757015  ...   \n",
       "\n",
       "    psa_result5  psa_level0  psa_level1  psa_level1  psa_level2  psa_level3  \\\n",
       "0           1.0        1.57        1.53        1.53        1.41        2.10   \n",
       "1           1.0        0.73        0.44        0.44        0.80        0.45   \n",
       "2           1.0        1.87        1.72        1.72        2.65        2.50   \n",
       "3           1.0        1.54        1.35        1.35        2.33        1.11   \n",
       "4           8.0        3.88        2.27        2.27        2.65        2.81   \n",
       "6           2.0        1.48        1.52        1.52        2.24        2.88   \n",
       "7           1.0        3.03        2.08        2.08        2.14        2.14   \n",
       "8           1.0        1.21        0.90        0.90        1.11        1.14   \n",
       "9           1.0        2.17        0.81        0.81        0.90        1.04   \n",
       "10          1.0        0.53        0.43        0.43        0.54        0.46   \n",
       "\n",
       "    psa_level4  psa_level5  race7  dre_result3  \n",
       "0         2.17        2.63    2.0          1.0  \n",
       "1         0.82        0.55    1.0          1.0  \n",
       "2         1.77        2.69    1.0          1.0  \n",
       "3         1.25        1.43    1.0          2.0  \n",
       "4          NaN         NaN    1.0          1.0  \n",
       "6         2.82        4.45    2.0          1.0  \n",
       "7         2.05        2.52    2.0          1.0  \n",
       "8         1.53        1.73    1.0          3.0  \n",
       "9         1.19        0.94    1.0          3.0  \n",
       "10        0.46        0.52    1.0          1.0  \n",
       "\n",
       "[10 rows x 33 columns]"
      ]
     },
     "execution_count": 130,
     "metadata": {},
     "output_type": "execute_result"
    }
   ],
   "source": [
    "#Filter column manually selecting some features\n",
    "df_FE=df[['confirmed_pros','intstatp_cat','cstatusp_cat','pros_clinstage','pros_stage','age','pros_gleason','pros_gleason_source','bmi_20','bmi_50','bmi_curr','bmi_curc','psa_days0','psa_days1','psa_days2', 'psa_days3','psa_days4','psa_days5','psa_result0','psa_result1','psa_result2','psa_result3','psa_result4','psa_result5','psa_level0','psa_level1','psa_level1','psa_level2','psa_level3','psa_level4','psa_level5','race7','dre_result3' ]]\n",
    "df_FE['pros_clinstage']=df_FE['pros_clinstage'].fillna(0)\n",
    "df_FE['pros_stage']=df_FE['pros_stage'].fillna(0)\n",
    "\n",
    "df_FE1=((df_FE['pros_gleason']>=8) | (df_FE['psa_level5']>=20))\n",
    "df_FE2=df_FE[df_FE1]\n",
    "df_FE.head(10)"
   ]
  },
  {
   "cell_type": "markdown",
   "metadata": {},
   "source": [
    "## Impute NaN Values"
   ]
  },
  {
   "cell_type": "code",
   "execution_count": 131,
   "metadata": {},
   "outputs": [
    {
     "data": {
      "text/html": [
       "<div>\n",
       "<style scoped>\n",
       "    .dataframe tbody tr th:only-of-type {\n",
       "        vertical-align: middle;\n",
       "    }\n",
       "\n",
       "    .dataframe tbody tr th {\n",
       "        vertical-align: top;\n",
       "    }\n",
       "\n",
       "    .dataframe thead th {\n",
       "        text-align: right;\n",
       "    }\n",
       "</style>\n",
       "<table border=\"1\" class=\"dataframe\">\n",
       "  <thead>\n",
       "    <tr style=\"text-align: right;\">\n",
       "      <th></th>\n",
       "      <th>confirmed_pros</th>\n",
       "      <th>intstatp_cat</th>\n",
       "      <th>cstatusp_cat</th>\n",
       "      <th>pros_clinstage</th>\n",
       "      <th>pros_stage</th>\n",
       "      <th>age</th>\n",
       "      <th>pros_gleason</th>\n",
       "      <th>pros_gleason_source</th>\n",
       "      <th>bmi_20</th>\n",
       "      <th>bmi_50</th>\n",
       "      <th>...</th>\n",
       "      <th>psa_result5</th>\n",
       "      <th>psa_level0</th>\n",
       "      <th>psa_level1</th>\n",
       "      <th>psa_level1</th>\n",
       "      <th>psa_level2</th>\n",
       "      <th>psa_level3</th>\n",
       "      <th>psa_level4</th>\n",
       "      <th>psa_level5</th>\n",
       "      <th>race7</th>\n",
       "      <th>dre_result3</th>\n",
       "    </tr>\n",
       "  </thead>\n",
       "  <tbody>\n",
       "    <tr>\n",
       "      <th>0</th>\n",
       "      <td>0.0</td>\n",
       "      <td>0.0</td>\n",
       "      <td>0.0</td>\n",
       "      <td>0.0</td>\n",
       "      <td>0.0</td>\n",
       "      <td>67.0</td>\n",
       "      <td>NaN</td>\n",
       "      <td>NaN</td>\n",
       "      <td>26.441992</td>\n",
       "      <td>29.086191</td>\n",
       "      <td>...</td>\n",
       "      <td>1.0</td>\n",
       "      <td>1.57</td>\n",
       "      <td>1.53</td>\n",
       "      <td>1.53</td>\n",
       "      <td>1.41</td>\n",
       "      <td>2.10</td>\n",
       "      <td>2.17</td>\n",
       "      <td>2.63</td>\n",
       "      <td>2.0</td>\n",
       "      <td>1.0</td>\n",
       "    </tr>\n",
       "    <tr>\n",
       "      <th>1</th>\n",
       "      <td>0.0</td>\n",
       "      <td>0.0</td>\n",
       "      <td>0.0</td>\n",
       "      <td>0.0</td>\n",
       "      <td>0.0</td>\n",
       "      <td>62.0</td>\n",
       "      <td>NaN</td>\n",
       "      <td>NaN</td>\n",
       "      <td>22.362130</td>\n",
       "      <td>27.952663</td>\n",
       "      <td>...</td>\n",
       "      <td>1.0</td>\n",
       "      <td>0.73</td>\n",
       "      <td>0.44</td>\n",
       "      <td>0.44</td>\n",
       "      <td>0.80</td>\n",
       "      <td>0.45</td>\n",
       "      <td>0.82</td>\n",
       "      <td>0.55</td>\n",
       "      <td>1.0</td>\n",
       "      <td>1.0</td>\n",
       "    </tr>\n",
       "    <tr>\n",
       "      <th>2</th>\n",
       "      <td>0.0</td>\n",
       "      <td>0.0</td>\n",
       "      <td>0.0</td>\n",
       "      <td>0.0</td>\n",
       "      <td>0.0</td>\n",
       "      <td>57.0</td>\n",
       "      <td>NaN</td>\n",
       "      <td>NaN</td>\n",
       "      <td>18.833955</td>\n",
       "      <td>24.170242</td>\n",
       "      <td>...</td>\n",
       "      <td>1.0</td>\n",
       "      <td>1.87</td>\n",
       "      <td>1.72</td>\n",
       "      <td>1.72</td>\n",
       "      <td>2.65</td>\n",
       "      <td>2.50</td>\n",
       "      <td>1.77</td>\n",
       "      <td>2.69</td>\n",
       "      <td>1.0</td>\n",
       "      <td>1.0</td>\n",
       "    </tr>\n",
       "    <tr>\n",
       "      <th>3</th>\n",
       "      <td>0.0</td>\n",
       "      <td>0.0</td>\n",
       "      <td>0.0</td>\n",
       "      <td>0.0</td>\n",
       "      <td>0.0</td>\n",
       "      <td>56.0</td>\n",
       "      <td>NaN</td>\n",
       "      <td>NaN</td>\n",
       "      <td>26.600239</td>\n",
       "      <td>28.038089</td>\n",
       "      <td>...</td>\n",
       "      <td>1.0</td>\n",
       "      <td>1.54</td>\n",
       "      <td>1.35</td>\n",
       "      <td>1.35</td>\n",
       "      <td>2.33</td>\n",
       "      <td>1.11</td>\n",
       "      <td>1.25</td>\n",
       "      <td>1.43</td>\n",
       "      <td>1.0</td>\n",
       "      <td>2.0</td>\n",
       "    </tr>\n",
       "    <tr>\n",
       "      <th>4</th>\n",
       "      <td>1.0</td>\n",
       "      <td>3.0</td>\n",
       "      <td>1.0</td>\n",
       "      <td>2.0</td>\n",
       "      <td>2.0</td>\n",
       "      <td>56.0</td>\n",
       "      <td>6.0</td>\n",
       "      <td>2.0</td>\n",
       "      <td>25.897018</td>\n",
       "      <td>29.596592</td>\n",
       "      <td>...</td>\n",
       "      <td>8.0</td>\n",
       "      <td>3.88</td>\n",
       "      <td>2.27</td>\n",
       "      <td>2.27</td>\n",
       "      <td>2.65</td>\n",
       "      <td>2.81</td>\n",
       "      <td>NaN</td>\n",
       "      <td>NaN</td>\n",
       "      <td>1.0</td>\n",
       "      <td>1.0</td>\n",
       "    </tr>\n",
       "  </tbody>\n",
       "</table>\n",
       "<p>5 rows × 33 columns</p>\n",
       "</div>"
      ],
      "text/plain": [
       "   confirmed_pros  intstatp_cat  cstatusp_cat  pros_clinstage  pros_stage  \\\n",
       "0             0.0           0.0           0.0             0.0         0.0   \n",
       "1             0.0           0.0           0.0             0.0         0.0   \n",
       "2             0.0           0.0           0.0             0.0         0.0   \n",
       "3             0.0           0.0           0.0             0.0         0.0   \n",
       "4             1.0           3.0           1.0             2.0         2.0   \n",
       "\n",
       "    age  pros_gleason  pros_gleason_source     bmi_20     bmi_50  ...  \\\n",
       "0  67.0           NaN                  NaN  26.441992  29.086191  ...   \n",
       "1  62.0           NaN                  NaN  22.362130  27.952663  ...   \n",
       "2  57.0           NaN                  NaN  18.833955  24.170242  ...   \n",
       "3  56.0           NaN                  NaN  26.600239  28.038089  ...   \n",
       "4  56.0           6.0                  2.0  25.897018  29.596592  ...   \n",
       "\n",
       "   psa_result5  psa_level0  psa_level1  psa_level1  psa_level2  psa_level3  \\\n",
       "0          1.0        1.57        1.53        1.53        1.41        2.10   \n",
       "1          1.0        0.73        0.44        0.44        0.80        0.45   \n",
       "2          1.0        1.87        1.72        1.72        2.65        2.50   \n",
       "3          1.0        1.54        1.35        1.35        2.33        1.11   \n",
       "4          8.0        3.88        2.27        2.27        2.65        2.81   \n",
       "\n",
       "   psa_level4  psa_level5  race7  dre_result3  \n",
       "0        2.17        2.63    2.0          1.0  \n",
       "1        0.82        0.55    1.0          1.0  \n",
       "2        1.77        2.69    1.0          1.0  \n",
       "3        1.25        1.43    1.0          2.0  \n",
       "4         NaN         NaN    1.0          1.0  \n",
       "\n",
       "[5 rows x 33 columns]"
      ]
     },
     "execution_count": 131,
     "metadata": {},
     "output_type": "execute_result"
    }
   ],
   "source": [
    "df_FE.head()\n",
    "    "
   ]
  },
  {
   "cell_type": "markdown",
   "metadata": {},
   "source": [
    "### Impute using Iterative Imputer (KNN, DT,  ET)"
   ]
  },
  {
   "cell_type": "markdown",
   "metadata": {},
   "source": [
    "#### Please uncomment the code block to run Impute and choose different impute method "
   ]
  },
  {
   "cell_type": "code",
   "execution_count": 132,
   "metadata": {},
   "outputs": [
    {
     "name": "stderr",
     "output_type": "stream",
     "text": [
      "C:\\Users\\syedm\\Anaconda3\\envs\\tf-gpu\\lib\\site-packages\\sklearn\\impute\\_iterative.py:603: ConvergenceWarning: [IterativeImputer] Early stopping criterion not reached.\n",
      "  \" reached.\", ConvergenceWarning)\n"
     ]
    }
   ],
   "source": [
    "\n",
    "from sklearn.experimental import enable_iterative_imputer\n",
    "from sklearn.impute import IterativeImputer\n",
    "from sklearn.impute import IterativeImputer\n",
    "from sklearn.linear_model import BayesianRidge\n",
    "from sklearn.tree import DecisionTreeRegressor\n",
    "from sklearn.ensemble import ExtraTreesRegressor\n",
    "from sklearn.neighbors import KNeighborsRegressor\n",
    "\n",
    "data=df_FE#[['age','bmi_20','bmi_50']]\n",
    "\n",
    "#estimator1=ExtraTreesRegressor(n_estimators=10, random_state=Random_State_Imputing),\n",
    "estimator_knn= KNeighborsRegressor(n_neighbors=5)\n",
    "estimator_extra_tree=ExtraTreesRegressor(n_estimators=10, random_state=Random_State_Imputing) #\n",
    "estimator_dtree=DecisionTreeRegressor(max_features='sqrt', random_state=Random_State_Imputing)\n",
    "#ExtraTreesRegressor(n_estimators=10, random_state=0),\n",
    "   \n",
    "\n",
    "imp = IterativeImputer(estimator=estimator_extra_tree, missing_values=np.nan, sample_posterior=False, \n",
    "                                 max_iter=10, tol=0.001, \n",
    "                                 n_nearest_features=10, initial_strategy='median')\n",
    "imp.fit(data)\n",
    "\n",
    "imputed_data = pd.DataFrame(data=imp.transform(data), \n",
    "                             columns=['confirmed_pros','cstatusp_cat','intstatp_cat','pros_clinstage','pros_stage','age','pros_gleason','pros_gleason_source','bmi_20','bmi_50','bmi_curr','bmi_curc','psa_days0','psa_days1','psa_days2', 'psa_days3','psa_days4','psa_days5','psa_result0','psa_result1','psa_result2','psa_result3','psa_result4','psa_result5','psa_level0','psa_level1','psa_level1','psa_level2','psa_level3','psa_level4','psa_level5','race7','dre_result3'],\n",
    "                             dtype='float')\n",
    "imputed_data\n",
    "\n",
    "df_new=imputed_data\n",
    "\n",
    "\n"
   ]
  },
  {
   "cell_type": "code",
   "execution_count": 133,
   "metadata": {},
   "outputs": [],
   "source": [
    "#imputed_data.head()"
   ]
  },
  {
   "cell_type": "markdown",
   "metadata": {},
   "source": [
    "#### Please uncomment the first line if you run the Impute to save the imputed data frame in csv file"
   ]
  },
  {
   "cell_type": "code",
   "execution_count": 9,
   "metadata": {},
   "outputs": [
    {
     "data": {
      "text/html": [
       "<div>\n",
       "<style scoped>\n",
       "    .dataframe tbody tr th:only-of-type {\n",
       "        vertical-align: middle;\n",
       "    }\n",
       "\n",
       "    .dataframe tbody tr th {\n",
       "        vertical-align: top;\n",
       "    }\n",
       "\n",
       "    .dataframe thead th {\n",
       "        text-align: right;\n",
       "    }\n",
       "</style>\n",
       "<table border=\"1\" class=\"dataframe\">\n",
       "  <thead>\n",
       "    <tr style=\"text-align: right;\">\n",
       "      <th></th>\n",
       "      <th>Unnamed: 0</th>\n",
       "      <th>confirmed_pros</th>\n",
       "      <th>cstatusp_cat</th>\n",
       "      <th>intstatp_cat</th>\n",
       "      <th>pros_clinstage</th>\n",
       "      <th>pros_stage</th>\n",
       "      <th>age</th>\n",
       "      <th>pros_gleason</th>\n",
       "      <th>pros_gleason_source</th>\n",
       "      <th>bmi_20</th>\n",
       "      <th>...</th>\n",
       "      <th>psa_level4</th>\n",
       "      <th>psa_level5</th>\n",
       "      <th>race7</th>\n",
       "      <th>dre_result3</th>\n",
       "      <th>PSA_chg_rate</th>\n",
       "      <th>PSA_Level_Change</th>\n",
       "      <th>PSA_Recent_Change</th>\n",
       "      <th>PSA_Recent_2</th>\n",
       "      <th>BMI_chg_rate</th>\n",
       "      <th>High_Risk_Cancer</th>\n",
       "    </tr>\n",
       "  </thead>\n",
       "  <tbody>\n",
       "    <tr>\n",
       "      <th>0</th>\n",
       "      <td>0</td>\n",
       "      <td>0.0</td>\n",
       "      <td>0.0</td>\n",
       "      <td>0.0</td>\n",
       "      <td>0.0</td>\n",
       "      <td>0.0</td>\n",
       "      <td>67.0</td>\n",
       "      <td>4.8</td>\n",
       "      <td>1.9</td>\n",
       "      <td>26.441992</td>\n",
       "      <td>...</td>\n",
       "      <td>2.170</td>\n",
       "      <td>2.630</td>\n",
       "      <td>2.0</td>\n",
       "      <td>1.0</td>\n",
       "      <td>0.000000</td>\n",
       "      <td>0.000594</td>\n",
       "      <td>0.001233</td>\n",
       "      <td>0.001066</td>\n",
       "      <td>25.780942</td>\n",
       "      <td>0</td>\n",
       "    </tr>\n",
       "    <tr>\n",
       "      <th>1</th>\n",
       "      <td>1</td>\n",
       "      <td>0.0</td>\n",
       "      <td>0.0</td>\n",
       "      <td>0.0</td>\n",
       "      <td>0.0</td>\n",
       "      <td>0.0</td>\n",
       "      <td>62.0</td>\n",
       "      <td>4.1</td>\n",
       "      <td>1.9</td>\n",
       "      <td>22.362130</td>\n",
       "      <td>...</td>\n",
       "      <td>0.820</td>\n",
       "      <td>0.550</td>\n",
       "      <td>1.0</td>\n",
       "      <td>1.0</td>\n",
       "      <td>0.000000</td>\n",
       "      <td>-0.000101</td>\n",
       "      <td>-0.000769</td>\n",
       "      <td>-0.000225</td>\n",
       "      <td>25.716450</td>\n",
       "      <td>0</td>\n",
       "    </tr>\n",
       "    <tr>\n",
       "      <th>2</th>\n",
       "      <td>2</td>\n",
       "      <td>0.0</td>\n",
       "      <td>0.0</td>\n",
       "      <td>0.0</td>\n",
       "      <td>0.0</td>\n",
       "      <td>0.0</td>\n",
       "      <td>57.0</td>\n",
       "      <td>4.9</td>\n",
       "      <td>1.3</td>\n",
       "      <td>18.833955</td>\n",
       "      <td>...</td>\n",
       "      <td>1.770</td>\n",
       "      <td>2.690</td>\n",
       "      <td>1.0</td>\n",
       "      <td>1.0</td>\n",
       "      <td>0.000000</td>\n",
       "      <td>0.000461</td>\n",
       "      <td>0.002682</td>\n",
       "      <td>0.000039</td>\n",
       "      <td>23.542444</td>\n",
       "      <td>0</td>\n",
       "    </tr>\n",
       "    <tr>\n",
       "      <th>3</th>\n",
       "      <td>3</td>\n",
       "      <td>0.0</td>\n",
       "      <td>0.0</td>\n",
       "      <td>0.0</td>\n",
       "      <td>0.0</td>\n",
       "      <td>0.0</td>\n",
       "      <td>56.0</td>\n",
       "      <td>4.9</td>\n",
       "      <td>1.9</td>\n",
       "      <td>26.600239</td>\n",
       "      <td>...</td>\n",
       "      <td>1.250</td>\n",
       "      <td>1.430</td>\n",
       "      <td>1.0</td>\n",
       "      <td>2.0</td>\n",
       "      <td>0.000000</td>\n",
       "      <td>-0.000061</td>\n",
       "      <td>0.000484</td>\n",
       "      <td>-0.000827</td>\n",
       "      <td>32.064072</td>\n",
       "      <td>0</td>\n",
       "    </tr>\n",
       "    <tr>\n",
       "      <th>4</th>\n",
       "      <td>4</td>\n",
       "      <td>1.0</td>\n",
       "      <td>3.0</td>\n",
       "      <td>1.0</td>\n",
       "      <td>2.0</td>\n",
       "      <td>2.0</td>\n",
       "      <td>56.0</td>\n",
       "      <td>6.0</td>\n",
       "      <td>2.0</td>\n",
       "      <td>25.897018</td>\n",
       "      <td>...</td>\n",
       "      <td>4.007</td>\n",
       "      <td>3.957</td>\n",
       "      <td>1.0</td>\n",
       "      <td>1.0</td>\n",
       "      <td>0.003809</td>\n",
       "      <td>0.000042</td>\n",
       "      <td>-0.000128</td>\n",
       "      <td>0.001087</td>\n",
       "      <td>31.076421</td>\n",
       "      <td>0</td>\n",
       "    </tr>\n",
       "  </tbody>\n",
       "</table>\n",
       "<p>5 rows × 40 columns</p>\n",
       "</div>"
      ],
      "text/plain": [
       "   Unnamed: 0  confirmed_pros  cstatusp_cat  intstatp_cat  pros_clinstage  \\\n",
       "0           0             0.0           0.0           0.0             0.0   \n",
       "1           1             0.0           0.0           0.0             0.0   \n",
       "2           2             0.0           0.0           0.0             0.0   \n",
       "3           3             0.0           0.0           0.0             0.0   \n",
       "4           4             1.0           3.0           1.0             2.0   \n",
       "\n",
       "   pros_stage   age  pros_gleason  pros_gleason_source     bmi_20  ...  \\\n",
       "0         0.0  67.0           4.8                  1.9  26.441992  ...   \n",
       "1         0.0  62.0           4.1                  1.9  22.362130  ...   \n",
       "2         0.0  57.0           4.9                  1.3  18.833955  ...   \n",
       "3         0.0  56.0           4.9                  1.9  26.600239  ...   \n",
       "4         2.0  56.0           6.0                  2.0  25.897018  ...   \n",
       "\n",
       "   psa_level4  psa_level5  race7  dre_result3  PSA_chg_rate  PSA_Level_Change  \\\n",
       "0       2.170       2.630    2.0          1.0      0.000000          0.000594   \n",
       "1       0.820       0.550    1.0          1.0      0.000000         -0.000101   \n",
       "2       1.770       2.690    1.0          1.0      0.000000          0.000461   \n",
       "3       1.250       1.430    1.0          2.0      0.000000         -0.000061   \n",
       "4       4.007       3.957    1.0          1.0      0.003809          0.000042   \n",
       "\n",
       "   PSA_Recent_Change  PSA_Recent_2  BMI_chg_rate  High_Risk_Cancer  \n",
       "0           0.001233      0.001066     25.780942                 0  \n",
       "1          -0.000769     -0.000225     25.716450                 0  \n",
       "2           0.002682      0.000039     23.542444                 0  \n",
       "3           0.000484     -0.000827     32.064072                 0  \n",
       "4          -0.000128      0.001087     31.076421                 0  \n",
       "\n",
       "[5 rows x 40 columns]"
      ]
     },
     "execution_count": 9,
     "metadata": {},
     "output_type": "execute_result"
    }
   ],
   "source": [
    "#df_new.to_csv('Data/Imputed_extra_tree.csv')\n",
    "df_new=pd.read_csv('Data/Imputed_extra_tree.csv')\n",
    "\n",
    "df_new.head()"
   ]
  },
  {
   "cell_type": "markdown",
   "metadata": {},
   "source": [
    "## Calculate Rate of PSA-Change"
   ]
  },
  {
   "cell_type": "code",
   "execution_count": 10,
   "metadata": {},
   "outputs": [],
   "source": [
    "#Calculate rate of change of PSA\n",
    "PSA_chg_rate = [ (row.psa_result5 - row.psa_result0)/((row.psa_days5 - row.psa_days0) + 0.000001) for index, row in df_new.iterrows() ]\n",
    "df_new['PSA_chg_rate'] = PSA_chg_rate\n",
    "PSA_Level_Change = [ (row.psa_level5 - row.psa_level0)/((row.psa_days5 - row.psa_days0) + 0.000001) for index, row in df_new.iterrows() ]\n",
    "df_new['PSA_Level_Change'] = PSA_Level_Change\n",
    "\n",
    "PSA_Recent_Change = [ (row.psa_level5 - row.psa_level4)/((row.psa_days5 - row.psa_days4) + 0.000001) for index, row in df_new.iterrows() ]\n",
    "df_new['PSA_Recent_Change'] = PSA_Recent_Change\n",
    "\n",
    "PSA_Recent_2 = [ (row.psa_level5 - row.psa_level2)/((row.psa_days5 - row.psa_days2) + 0.000001) for index, row in df_new.iterrows() ]\n",
    "df_new['PSA_Recent_2'] = PSA_Recent_2\n",
    "\n",
    "BMI_chg_rate = [ (row.bmi_50 - row.bmi_20)/(30 + 0.000001) for index, row in df_new.iterrows() ]\n",
    "\n",
    "#df_new['BMI_chg_rate'] = df_new['bmi_curc']#BMI_chg_rate\n",
    "\n",
    "df_new['BMI_chg_rate'] = df_new['bmi_curr']#BMI_chg_rate"
   ]
  },
  {
   "cell_type": "code",
   "execution_count": 11,
   "metadata": {},
   "outputs": [
    {
     "data": {
      "text/html": [
       "<div>\n",
       "<style scoped>\n",
       "    .dataframe tbody tr th:only-of-type {\n",
       "        vertical-align: middle;\n",
       "    }\n",
       "\n",
       "    .dataframe tbody tr th {\n",
       "        vertical-align: top;\n",
       "    }\n",
       "\n",
       "    .dataframe thead th {\n",
       "        text-align: right;\n",
       "    }\n",
       "</style>\n",
       "<table border=\"1\" class=\"dataframe\">\n",
       "  <thead>\n",
       "    <tr style=\"text-align: right;\">\n",
       "      <th></th>\n",
       "      <th>Unnamed: 0</th>\n",
       "      <th>confirmed_pros</th>\n",
       "      <th>cstatusp_cat</th>\n",
       "      <th>intstatp_cat</th>\n",
       "      <th>pros_clinstage</th>\n",
       "      <th>pros_stage</th>\n",
       "      <th>age</th>\n",
       "      <th>pros_gleason</th>\n",
       "      <th>pros_gleason_source</th>\n",
       "      <th>bmi_20</th>\n",
       "      <th>...</th>\n",
       "      <th>psa_level4</th>\n",
       "      <th>psa_level5</th>\n",
       "      <th>race7</th>\n",
       "      <th>dre_result3</th>\n",
       "      <th>PSA_chg_rate</th>\n",
       "      <th>PSA_Level_Change</th>\n",
       "      <th>PSA_Recent_Change</th>\n",
       "      <th>PSA_Recent_2</th>\n",
       "      <th>BMI_chg_rate</th>\n",
       "      <th>High_Risk_Cancer</th>\n",
       "    </tr>\n",
       "  </thead>\n",
       "  <tbody>\n",
       "    <tr>\n",
       "      <th>0</th>\n",
       "      <td>0</td>\n",
       "      <td>0.0</td>\n",
       "      <td>0.0</td>\n",
       "      <td>0.0</td>\n",
       "      <td>0.0</td>\n",
       "      <td>0.0</td>\n",
       "      <td>67.0</td>\n",
       "      <td>4.8</td>\n",
       "      <td>1.9</td>\n",
       "      <td>26.441992</td>\n",
       "      <td>...</td>\n",
       "      <td>2.170</td>\n",
       "      <td>2.630</td>\n",
       "      <td>2.0</td>\n",
       "      <td>1.0</td>\n",
       "      <td>0.000000</td>\n",
       "      <td>0.000594</td>\n",
       "      <td>0.001233</td>\n",
       "      <td>0.001066</td>\n",
       "      <td>25.780942</td>\n",
       "      <td>0</td>\n",
       "    </tr>\n",
       "    <tr>\n",
       "      <th>1</th>\n",
       "      <td>1</td>\n",
       "      <td>0.0</td>\n",
       "      <td>0.0</td>\n",
       "      <td>0.0</td>\n",
       "      <td>0.0</td>\n",
       "      <td>0.0</td>\n",
       "      <td>62.0</td>\n",
       "      <td>4.1</td>\n",
       "      <td>1.9</td>\n",
       "      <td>22.362130</td>\n",
       "      <td>...</td>\n",
       "      <td>0.820</td>\n",
       "      <td>0.550</td>\n",
       "      <td>1.0</td>\n",
       "      <td>1.0</td>\n",
       "      <td>0.000000</td>\n",
       "      <td>-0.000101</td>\n",
       "      <td>-0.000769</td>\n",
       "      <td>-0.000225</td>\n",
       "      <td>25.716450</td>\n",
       "      <td>0</td>\n",
       "    </tr>\n",
       "    <tr>\n",
       "      <th>2</th>\n",
       "      <td>2</td>\n",
       "      <td>0.0</td>\n",
       "      <td>0.0</td>\n",
       "      <td>0.0</td>\n",
       "      <td>0.0</td>\n",
       "      <td>0.0</td>\n",
       "      <td>57.0</td>\n",
       "      <td>4.9</td>\n",
       "      <td>1.3</td>\n",
       "      <td>18.833955</td>\n",
       "      <td>...</td>\n",
       "      <td>1.770</td>\n",
       "      <td>2.690</td>\n",
       "      <td>1.0</td>\n",
       "      <td>1.0</td>\n",
       "      <td>0.000000</td>\n",
       "      <td>0.000461</td>\n",
       "      <td>0.002682</td>\n",
       "      <td>0.000039</td>\n",
       "      <td>23.542444</td>\n",
       "      <td>0</td>\n",
       "    </tr>\n",
       "    <tr>\n",
       "      <th>3</th>\n",
       "      <td>3</td>\n",
       "      <td>0.0</td>\n",
       "      <td>0.0</td>\n",
       "      <td>0.0</td>\n",
       "      <td>0.0</td>\n",
       "      <td>0.0</td>\n",
       "      <td>56.0</td>\n",
       "      <td>4.9</td>\n",
       "      <td>1.9</td>\n",
       "      <td>26.600239</td>\n",
       "      <td>...</td>\n",
       "      <td>1.250</td>\n",
       "      <td>1.430</td>\n",
       "      <td>1.0</td>\n",
       "      <td>2.0</td>\n",
       "      <td>0.000000</td>\n",
       "      <td>-0.000061</td>\n",
       "      <td>0.000484</td>\n",
       "      <td>-0.000827</td>\n",
       "      <td>32.064072</td>\n",
       "      <td>0</td>\n",
       "    </tr>\n",
       "    <tr>\n",
       "      <th>4</th>\n",
       "      <td>4</td>\n",
       "      <td>1.0</td>\n",
       "      <td>3.0</td>\n",
       "      <td>1.0</td>\n",
       "      <td>2.0</td>\n",
       "      <td>2.0</td>\n",
       "      <td>56.0</td>\n",
       "      <td>6.0</td>\n",
       "      <td>2.0</td>\n",
       "      <td>25.897018</td>\n",
       "      <td>...</td>\n",
       "      <td>4.007</td>\n",
       "      <td>3.957</td>\n",
       "      <td>1.0</td>\n",
       "      <td>1.0</td>\n",
       "      <td>0.003809</td>\n",
       "      <td>0.000042</td>\n",
       "      <td>-0.000128</td>\n",
       "      <td>0.001087</td>\n",
       "      <td>31.076421</td>\n",
       "      <td>0</td>\n",
       "    </tr>\n",
       "  </tbody>\n",
       "</table>\n",
       "<p>5 rows × 40 columns</p>\n",
       "</div>"
      ],
      "text/plain": [
       "   Unnamed: 0  confirmed_pros  cstatusp_cat  intstatp_cat  pros_clinstage  \\\n",
       "0           0             0.0           0.0           0.0             0.0   \n",
       "1           1             0.0           0.0           0.0             0.0   \n",
       "2           2             0.0           0.0           0.0             0.0   \n",
       "3           3             0.0           0.0           0.0             0.0   \n",
       "4           4             1.0           3.0           1.0             2.0   \n",
       "\n",
       "   pros_stage   age  pros_gleason  pros_gleason_source     bmi_20  ...  \\\n",
       "0         0.0  67.0           4.8                  1.9  26.441992  ...   \n",
       "1         0.0  62.0           4.1                  1.9  22.362130  ...   \n",
       "2         0.0  57.0           4.9                  1.3  18.833955  ...   \n",
       "3         0.0  56.0           4.9                  1.9  26.600239  ...   \n",
       "4         2.0  56.0           6.0                  2.0  25.897018  ...   \n",
       "\n",
       "   psa_level4  psa_level5  race7  dre_result3  PSA_chg_rate  PSA_Level_Change  \\\n",
       "0       2.170       2.630    2.0          1.0      0.000000          0.000594   \n",
       "1       0.820       0.550    1.0          1.0      0.000000         -0.000101   \n",
       "2       1.770       2.690    1.0          1.0      0.000000          0.000461   \n",
       "3       1.250       1.430    1.0          2.0      0.000000         -0.000061   \n",
       "4       4.007       3.957    1.0          1.0      0.003809          0.000042   \n",
       "\n",
       "   PSA_Recent_Change  PSA_Recent_2  BMI_chg_rate  High_Risk_Cancer  \n",
       "0           0.001233      0.001066     25.780942                 0  \n",
       "1          -0.000769     -0.000225     25.716450                 0  \n",
       "2           0.002682      0.000039     23.542444                 0  \n",
       "3           0.000484     -0.000827     32.064072                 0  \n",
       "4          -0.000128      0.001087     31.076421                 0  \n",
       "\n",
       "[5 rows x 40 columns]"
      ]
     },
     "execution_count": 11,
     "metadata": {},
     "output_type": "execute_result"
    }
   ],
   "source": [
    "df_new.head()"
   ]
  },
  {
   "cell_type": "markdown",
   "metadata": {},
   "source": [
    "## Check Data Statistics"
   ]
  },
  {
   "cell_type": "code",
   "execution_count": 12,
   "metadata": {},
   "outputs": [
    {
     "name": "stdout",
     "output_type": "stream",
     "text": [
      "2310\n",
      "Gleason Score >=8: 262\n",
      "PSA level5 >=20: 21\n",
      "Gleason Score >=8 or PSA level5 >=20 AND Confirmed_Pros=1 280\n",
      "Gleason Score >=8 or PSA level5 >=20 AND Confirmed_Pros=0 0\n",
      "Gleason Score <=3 or PSA level5<4 AND Confirmed_Pros=1 0\n",
      "280\n"
     ]
    },
    {
     "data": {
      "text/plain": [
       "0"
      ]
     },
     "execution_count": 12,
     "metadata": {},
     "output_type": "execute_result"
    }
   ],
   "source": [
    "#seperate No cancer\n",
    "df_filtered = df_new[df_new.confirmed_pros == 1] #& ((df_new[df_new.pros_gleason >=8]) | (df_new[df_new.psa_level5>=20]))\n",
    "print(len(df_filtered))\n",
    "\n",
    "f1 = df_new[df_new.pros_gleason >=8] #((df_new[df_new.pros_gleason >=8]) | (df_new[df_new.psa_level5>=20]))\n",
    "f2 = df_new[df_new.psa_level5>=20]\n",
    "f3 =  df_new[(df_new.confirmed_pros == 1) & ((df_new.pros_gleason >=8) | (df_new.psa_level5>=20))]\n",
    "f4 =  df_new[((df_new.pros_clinstage>=1) & (df_new.pros_clinstage<=5)) & ((df_new.pros_gleason >=8) | (df_new.psa_level5>=20))]\n",
    "f5 =  df_new[(df_new.confirmed_pros == 0) & ((df_new.pros_gleason >=8) | (df_new.psa_level5>=20))]\n",
    "f6=df_new[(df_new.confirmed_pros == 1) & ((df_new.pros_gleason <=3) & (df_new.psa_level5<4))]\n",
    "print('Gleason Score >=8:',len(f1))\n",
    "print('PSA level5 >=20:',len(f2))\n",
    "print('Gleason Score >=8 or PSA level5 >=20 AND Confirmed_Pros=1',len(f3))\n",
    "print('Gleason Score >=8 or PSA level5 >=20 AND Confirmed_Pros=0',len(f5))\n",
    "print('Gleason Score <=3 or PSA level5<4 AND Confirmed_Pros=1',len(f6))\n",
    "print(len(f4))\n",
    "\n",
    "df_filtered1 = df_new[df_new.cstatusp_cat == 1]\n",
    "len(df_filtered1)"
   ]
  },
  {
   "cell_type": "code",
   "execution_count": 13,
   "metadata": {},
   "outputs": [
    {
     "data": {
      "text/html": [
       "<div>\n",
       "<style scoped>\n",
       "    .dataframe tbody tr th:only-of-type {\n",
       "        vertical-align: middle;\n",
       "    }\n",
       "\n",
       "    .dataframe tbody tr th {\n",
       "        vertical-align: top;\n",
       "    }\n",
       "\n",
       "    .dataframe thead th {\n",
       "        text-align: right;\n",
       "    }\n",
       "</style>\n",
       "<table border=\"1\" class=\"dataframe\">\n",
       "  <thead>\n",
       "    <tr style=\"text-align: right;\">\n",
       "      <th></th>\n",
       "      <th>pros_gleason</th>\n",
       "      <th>psa_level5</th>\n",
       "      <th>psa_level3</th>\n",
       "      <th>psa_level2</th>\n",
       "    </tr>\n",
       "  </thead>\n",
       "  <tbody>\n",
       "  </tbody>\n",
       "</table>\n",
       "</div>"
      ],
      "text/plain": [
       "Empty DataFrame\n",
       "Columns: [pros_gleason, psa_level5, psa_level3, psa_level2]\n",
       "Index: []"
      ]
     },
     "execution_count": 13,
     "metadata": {},
     "output_type": "execute_result"
    }
   ],
   "source": [
    "f5[['pros_gleason','psa_level5','psa_level3', 'psa_level2']]"
   ]
  },
  {
   "cell_type": "code",
   "execution_count": 14,
   "metadata": {},
   "outputs": [
    {
     "name": "stdout",
     "output_type": "stream",
     "text": [
      "26113 2310\n"
     ]
    },
    {
     "data": {
      "text/plain": [
       "280"
      ]
     },
     "execution_count": 14,
     "metadata": {},
     "output_type": "execute_result"
    }
   ],
   "source": [
    "print(len(df_new), len(df_filtered))\n",
    "df_new_copy=df_new.copy()\n",
    "len(df_new_copy)\n",
    "df_new1 = df_new[(df_new.confirmed_pros != 0) & ((df_new.pros_gleason >7) | (df_new.psa_level5>=20))]\n",
    "\n",
    "len(df_new1)"
   ]
  },
  {
   "cell_type": "markdown",
   "metadata": {},
   "source": [
    "## Remove Outliers for Positive and Negative Class (If we want to)"
   ]
  },
  {
   "cell_type": "markdown",
   "metadata": {},
   "source": [
    "## Change label to High-risk or Not"
   ]
  },
  {
   "cell_type": "code",
   "execution_count": 15,
   "metadata": {},
   "outputs": [
    {
     "data": {
      "text/html": [
       "<div>\n",
       "<style scoped>\n",
       "    .dataframe tbody tr th:only-of-type {\n",
       "        vertical-align: middle;\n",
       "    }\n",
       "\n",
       "    .dataframe tbody tr th {\n",
       "        vertical-align: top;\n",
       "    }\n",
       "\n",
       "    .dataframe thead th {\n",
       "        text-align: right;\n",
       "    }\n",
       "</style>\n",
       "<table border=\"1\" class=\"dataframe\">\n",
       "  <thead>\n",
       "    <tr style=\"text-align: right;\">\n",
       "      <th></th>\n",
       "      <th>Unnamed: 0</th>\n",
       "      <th>confirmed_pros</th>\n",
       "      <th>cstatusp_cat</th>\n",
       "      <th>intstatp_cat</th>\n",
       "      <th>pros_clinstage</th>\n",
       "      <th>pros_stage</th>\n",
       "      <th>age</th>\n",
       "      <th>pros_gleason</th>\n",
       "      <th>pros_gleason_source</th>\n",
       "      <th>bmi_20</th>\n",
       "      <th>...</th>\n",
       "      <th>psa_level4</th>\n",
       "      <th>psa_level5</th>\n",
       "      <th>race7</th>\n",
       "      <th>dre_result3</th>\n",
       "      <th>PSA_chg_rate</th>\n",
       "      <th>PSA_Level_Change</th>\n",
       "      <th>PSA_Recent_Change</th>\n",
       "      <th>PSA_Recent_2</th>\n",
       "      <th>BMI_chg_rate</th>\n",
       "      <th>High_Risk_Cancer</th>\n",
       "    </tr>\n",
       "  </thead>\n",
       "  <tbody>\n",
       "    <tr>\n",
       "      <th>0</th>\n",
       "      <td>0</td>\n",
       "      <td>0.0</td>\n",
       "      <td>0.0</td>\n",
       "      <td>0.0</td>\n",
       "      <td>0.0</td>\n",
       "      <td>0.0</td>\n",
       "      <td>67.0</td>\n",
       "      <td>4.8</td>\n",
       "      <td>1.9</td>\n",
       "      <td>26.441992</td>\n",
       "      <td>...</td>\n",
       "      <td>2.170</td>\n",
       "      <td>2.630</td>\n",
       "      <td>2.0</td>\n",
       "      <td>1.0</td>\n",
       "      <td>0.000000</td>\n",
       "      <td>0.000594</td>\n",
       "      <td>0.001233</td>\n",
       "      <td>0.001066</td>\n",
       "      <td>25.780942</td>\n",
       "      <td>0</td>\n",
       "    </tr>\n",
       "    <tr>\n",
       "      <th>1</th>\n",
       "      <td>1</td>\n",
       "      <td>0.0</td>\n",
       "      <td>0.0</td>\n",
       "      <td>0.0</td>\n",
       "      <td>0.0</td>\n",
       "      <td>0.0</td>\n",
       "      <td>62.0</td>\n",
       "      <td>4.1</td>\n",
       "      <td>1.9</td>\n",
       "      <td>22.362130</td>\n",
       "      <td>...</td>\n",
       "      <td>0.820</td>\n",
       "      <td>0.550</td>\n",
       "      <td>1.0</td>\n",
       "      <td>1.0</td>\n",
       "      <td>0.000000</td>\n",
       "      <td>-0.000101</td>\n",
       "      <td>-0.000769</td>\n",
       "      <td>-0.000225</td>\n",
       "      <td>25.716450</td>\n",
       "      <td>0</td>\n",
       "    </tr>\n",
       "    <tr>\n",
       "      <th>2</th>\n",
       "      <td>2</td>\n",
       "      <td>0.0</td>\n",
       "      <td>0.0</td>\n",
       "      <td>0.0</td>\n",
       "      <td>0.0</td>\n",
       "      <td>0.0</td>\n",
       "      <td>57.0</td>\n",
       "      <td>4.9</td>\n",
       "      <td>1.3</td>\n",
       "      <td>18.833955</td>\n",
       "      <td>...</td>\n",
       "      <td>1.770</td>\n",
       "      <td>2.690</td>\n",
       "      <td>1.0</td>\n",
       "      <td>1.0</td>\n",
       "      <td>0.000000</td>\n",
       "      <td>0.000461</td>\n",
       "      <td>0.002682</td>\n",
       "      <td>0.000039</td>\n",
       "      <td>23.542444</td>\n",
       "      <td>0</td>\n",
       "    </tr>\n",
       "    <tr>\n",
       "      <th>3</th>\n",
       "      <td>3</td>\n",
       "      <td>0.0</td>\n",
       "      <td>0.0</td>\n",
       "      <td>0.0</td>\n",
       "      <td>0.0</td>\n",
       "      <td>0.0</td>\n",
       "      <td>56.0</td>\n",
       "      <td>4.9</td>\n",
       "      <td>1.9</td>\n",
       "      <td>26.600239</td>\n",
       "      <td>...</td>\n",
       "      <td>1.250</td>\n",
       "      <td>1.430</td>\n",
       "      <td>1.0</td>\n",
       "      <td>2.0</td>\n",
       "      <td>0.000000</td>\n",
       "      <td>-0.000061</td>\n",
       "      <td>0.000484</td>\n",
       "      <td>-0.000827</td>\n",
       "      <td>32.064072</td>\n",
       "      <td>0</td>\n",
       "    </tr>\n",
       "    <tr>\n",
       "      <th>4</th>\n",
       "      <td>4</td>\n",
       "      <td>1.0</td>\n",
       "      <td>3.0</td>\n",
       "      <td>1.0</td>\n",
       "      <td>2.0</td>\n",
       "      <td>2.0</td>\n",
       "      <td>56.0</td>\n",
       "      <td>6.0</td>\n",
       "      <td>2.0</td>\n",
       "      <td>25.897018</td>\n",
       "      <td>...</td>\n",
       "      <td>4.007</td>\n",
       "      <td>3.957</td>\n",
       "      <td>1.0</td>\n",
       "      <td>1.0</td>\n",
       "      <td>0.003809</td>\n",
       "      <td>0.000042</td>\n",
       "      <td>-0.000128</td>\n",
       "      <td>0.001087</td>\n",
       "      <td>31.076421</td>\n",
       "      <td>0</td>\n",
       "    </tr>\n",
       "  </tbody>\n",
       "</table>\n",
       "<p>5 rows × 40 columns</p>\n",
       "</div>"
      ],
      "text/plain": [
       "   Unnamed: 0  confirmed_pros  cstatusp_cat  intstatp_cat  pros_clinstage  \\\n",
       "0           0             0.0           0.0           0.0             0.0   \n",
       "1           1             0.0           0.0           0.0             0.0   \n",
       "2           2             0.0           0.0           0.0             0.0   \n",
       "3           3             0.0           0.0           0.0             0.0   \n",
       "4           4             1.0           3.0           1.0             2.0   \n",
       "\n",
       "   pros_stage   age  pros_gleason  pros_gleason_source     bmi_20  ...  \\\n",
       "0         0.0  67.0           4.8                  1.9  26.441992  ...   \n",
       "1         0.0  62.0           4.1                  1.9  22.362130  ...   \n",
       "2         0.0  57.0           4.9                  1.3  18.833955  ...   \n",
       "3         0.0  56.0           4.9                  1.9  26.600239  ...   \n",
       "4         2.0  56.0           6.0                  2.0  25.897018  ...   \n",
       "\n",
       "   psa_level4  psa_level5  race7  dre_result3  PSA_chg_rate  PSA_Level_Change  \\\n",
       "0       2.170       2.630    2.0          1.0      0.000000          0.000594   \n",
       "1       0.820       0.550    1.0          1.0      0.000000         -0.000101   \n",
       "2       1.770       2.690    1.0          1.0      0.000000          0.000461   \n",
       "3       1.250       1.430    1.0          2.0      0.000000         -0.000061   \n",
       "4       4.007       3.957    1.0          1.0      0.003809          0.000042   \n",
       "\n",
       "   PSA_Recent_Change  PSA_Recent_2  BMI_chg_rate  High_Risk_Cancer  \n",
       "0           0.001233      0.001066     25.780942                 0  \n",
       "1          -0.000769     -0.000225     25.716450                 0  \n",
       "2           0.002682      0.000039     23.542444                 0  \n",
       "3           0.000484     -0.000827     32.064072                 0  \n",
       "4          -0.000128      0.001087     31.076421                 0  \n",
       "\n",
       "[5 rows x 40 columns]"
      ]
     },
     "execution_count": 15,
     "metadata": {},
     "output_type": "execute_result"
    }
   ],
   "source": [
    "#df_new=df_filtered\n",
    "# change label to High-Risk or Not from Cancer or Not\n",
    "df_new['High_Risk_Cancer']=0\n",
    "\n",
    "df_new.loc[(((df_new.pros_gleason > 7) | (df_new.psa_level5>=20)) & df_new.cstatusp_cat==1), 'High_Risk_Cancer'] = 1 \n",
    "\n",
    "df_new.head()"
   ]
  },
  {
   "cell_type": "code",
   "execution_count": 16,
   "metadata": {},
   "outputs": [
    {
     "name": "stdout",
     "output_type": "stream",
     "text": [
      "Total and high-Risk patients:  26113  and : 280\n"
     ]
    }
   ],
   "source": [
    "Is_High_Risk=((df_new['High_Risk_Cancer']==1))\n",
    "df_highrisk=df_new[Is_High_Risk]\n",
    "print(\"Total and high-Risk patients: \", len(df_new), \" and :\", len(df_highrisk))\n"
   ]
  },
  {
   "cell_type": "code",
   "execution_count": 18,
   "metadata": {},
   "outputs": [
    {
     "data": {
      "text/plain": [
       "High_Risk_Cancer       int64\n",
       "age                  float64\n",
       "PSA_Level_Change     float64\n",
       "PSA_Recent_Change    float64\n",
       "BMI_chg_rate         float64\n",
       "race7                float64\n",
       "dtype: object"
      ]
     },
     "execution_count": 18,
     "metadata": {},
     "output_type": "execute_result"
    }
   ],
   "source": [
    "#df_new=df_highrisk\n",
    "df_new['PSA_chg_rate']\n",
    "#df2=df_new[['High_Risk_Cancer','age','PSA_Level_Change','PSA_Recent_Change','PSA_Recent_2','BMI_chg_rate','race7']]\n",
    "df2=df_new[['High_Risk_Cancer','age','PSA_Level_Change','PSA_Recent_Change','BMI_chg_rate','race7']]\n",
    "\n",
    "df2.head(25),df2.count()\n",
    "df2.dtypes"
   ]
  },
  {
   "cell_type": "markdown",
   "metadata": {},
   "source": [
    "## Show Label distribution"
   ]
  },
  {
   "cell_type": "code",
   "execution_count": 19,
   "metadata": {},
   "outputs": [
    {
     "name": "stdout",
     "output_type": "stream",
     "text": [
      "High_Risk_Cancer     26113\n",
      "age                  26113\n",
      "PSA_Level_Change     26113\n",
      "PSA_Recent_Change    26113\n",
      "BMI_chg_rate         26113\n",
      "race7                26113\n",
      "dtype: int64\n"
     ]
    },
    {
     "data": {
      "text/html": [
       "<div>\n",
       "<style scoped>\n",
       "    .dataframe tbody tr th:only-of-type {\n",
       "        vertical-align: middle;\n",
       "    }\n",
       "\n",
       "    .dataframe tbody tr th {\n",
       "        vertical-align: top;\n",
       "    }\n",
       "\n",
       "    .dataframe thead th {\n",
       "        text-align: right;\n",
       "    }\n",
       "</style>\n",
       "<table border=\"1\" class=\"dataframe\">\n",
       "  <thead>\n",
       "    <tr style=\"text-align: right;\">\n",
       "      <th></th>\n",
       "      <th>High_Risk_Cancer</th>\n",
       "      <th>age</th>\n",
       "      <th>PSA_Level_Change</th>\n",
       "      <th>PSA_Recent_Change</th>\n",
       "      <th>BMI_chg_rate</th>\n",
       "      <th>race7</th>\n",
       "    </tr>\n",
       "  </thead>\n",
       "  <tbody>\n",
       "    <tr>\n",
       "      <th>0</th>\n",
       "      <td>0</td>\n",
       "      <td>67.0</td>\n",
       "      <td>0.000594</td>\n",
       "      <td>0.001233</td>\n",
       "      <td>25.780942</td>\n",
       "      <td>2.0</td>\n",
       "    </tr>\n",
       "    <tr>\n",
       "      <th>1</th>\n",
       "      <td>0</td>\n",
       "      <td>62.0</td>\n",
       "      <td>-0.000101</td>\n",
       "      <td>-0.000769</td>\n",
       "      <td>25.716450</td>\n",
       "      <td>1.0</td>\n",
       "    </tr>\n",
       "    <tr>\n",
       "      <th>2</th>\n",
       "      <td>0</td>\n",
       "      <td>57.0</td>\n",
       "      <td>0.000461</td>\n",
       "      <td>0.002682</td>\n",
       "      <td>23.542444</td>\n",
       "      <td>1.0</td>\n",
       "    </tr>\n",
       "    <tr>\n",
       "      <th>3</th>\n",
       "      <td>0</td>\n",
       "      <td>56.0</td>\n",
       "      <td>-0.000061</td>\n",
       "      <td>0.000484</td>\n",
       "      <td>32.064072</td>\n",
       "      <td>1.0</td>\n",
       "    </tr>\n",
       "    <tr>\n",
       "      <th>4</th>\n",
       "      <td>0</td>\n",
       "      <td>56.0</td>\n",
       "      <td>0.000042</td>\n",
       "      <td>-0.000128</td>\n",
       "      <td>31.076421</td>\n",
       "      <td>1.0</td>\n",
       "    </tr>\n",
       "    <tr>\n",
       "      <th>5</th>\n",
       "      <td>0</td>\n",
       "      <td>56.0</td>\n",
       "      <td>0.001666</td>\n",
       "      <td>0.004503</td>\n",
       "      <td>26.681436</td>\n",
       "      <td>2.0</td>\n",
       "    </tr>\n",
       "  </tbody>\n",
       "</table>\n",
       "</div>"
      ],
      "text/plain": [
       "   High_Risk_Cancer   age  PSA_Level_Change  PSA_Recent_Change  BMI_chg_rate  \\\n",
       "0                 0  67.0          0.000594           0.001233     25.780942   \n",
       "1                 0  62.0         -0.000101          -0.000769     25.716450   \n",
       "2                 0  57.0          0.000461           0.002682     23.542444   \n",
       "3                 0  56.0         -0.000061           0.000484     32.064072   \n",
       "4                 0  56.0          0.000042          -0.000128     31.076421   \n",
       "5                 0  56.0          0.001666           0.004503     26.681436   \n",
       "\n",
       "   race7  \n",
       "0    2.0  \n",
       "1    1.0  \n",
       "2    1.0  \n",
       "3    1.0  \n",
       "4    1.0  \n",
       "5    2.0  "
      ]
     },
     "execution_count": 19,
     "metadata": {},
     "output_type": "execute_result"
    }
   ],
   "source": [
    "\n",
    "print(df2.count())\n",
    "df2.head(6)"
   ]
  },
  {
   "cell_type": "markdown",
   "metadata": {},
   "source": [
    "### Visualize the distribution of labels using pie chart"
   ]
  },
  {
   "cell_type": "code",
   "execution_count": 20,
   "metadata": {},
   "outputs": [
    {
     "name": "stderr",
     "output_type": "stream",
     "text": [
      "C:\\Users\\Masud\\Anaconda3\\lib\\site-packages\\pandas\\core\\generic.py:5096: SettingWithCopyWarning: \n",
      "A value is trying to be set on a copy of a slice from a DataFrame.\n",
      "Try using .loc[row_indexer,col_indexer] = value instead\n",
      "\n",
      "See the caveats in the documentation: http://pandas.pydata.org/pandas-docs/stable/indexing.html#indexing-view-versus-copy\n",
      "  self[name] = value\n"
     ]
    },
    {
     "data": {
      "image/png": "[encoded data removed]",
      "text/plain": [
       "<Figure size 432x288 with 1 Axes>"
      ]
     },
     "metadata": {},
     "output_type": "display_data"
    }
   ],
   "source": [
    "import matplotlib.pyplot as plt\n",
    "df=df2\n",
    "df.High_Risk_Cancer=df.High_Risk_Cancer.astype('int64')\n",
    "sums = df.High_Risk_Cancer.groupby(df.High_Risk_Cancer).count()\n",
    "plt.axis('equal');\n",
    "plt.pie(sums,radius=1.5, labels=['Not Cancer or Low-Risk','High-Risk'],autopct='%1.1f%%',colors = ['lightgreen', 'red']);\n",
    "plt.show()\n"
   ]
  },
  {
   "cell_type": "markdown",
   "metadata": {},
   "source": [
    "## Show Correlation"
   ]
  },
  {
   "cell_type": "markdown",
   "metadata": {},
   "source": [
    "## Select Correlated Features"
   ]
  },
  {
   "cell_type": "code",
   "execution_count": 21,
   "metadata": {},
   "outputs": [
    {
     "name": "stdout",
     "output_type": "stream",
     "text": [
      "High_Risk_Cancer     1.000000\n",
      "PSA_Level_Change     0.194572\n",
      "PSA_Recent_Change    0.052753\n",
      "age                  0.042638\n",
      "race7                0.011300\n",
      "BMI_chg_rate         0.004387\n",
      "Name: High_Risk_Cancer, dtype: float64\n"
     ]
    }
   ],
   "source": [
    "#show correlation between confirmed_pros and other features\n",
    "corr_matrix = df.corr()\n",
    "print(corr_matrix[\"High_Risk_Cancer\"].sort_values(ascending=False))"
   ]
  },
  {
   "cell_type": "code",
   "execution_count": 146,
   "metadata": {},
   "outputs": [
    {
     "data": {
      "image/png": "[encoded data removed]",
      "text/plain": [
       "<Figure size 576x576 with 2 Axes>"
      ]
     },
     "metadata": {
      "needs_background": "light"
     },
     "output_type": "display_data"
    }
   ],
   "source": [
    "corr = df2.corr()\n",
    "\n",
    "plt.figure(figsize=(8, 8))\n",
    "\n",
    "ax = sns.heatmap(\n",
    "    corr, \n",
    "    vmin=-1, vmax=1, center=0,\n",
    "    cmap=sns.diverging_palette(20, 220, n=220),\n",
    "    square=True\n",
    ")\n",
    "ax.set_xticklabels(\n",
    "    ax.get_xticklabels(),\n",
    "    rotation=45,\n",
    "    horizontalalignment='right'\n",
    ");"
   ]
  },
  {
   "cell_type": "code",
   "execution_count": 147,
   "metadata": {},
   "outputs": [
    {
     "data": {
      "text/plain": [
       "<matplotlib.axes._subplots.AxesSubplot at 0x2ae7b8bae10>"
      ]
     },
     "execution_count": 147,
     "metadata": {},
     "output_type": "execute_result"
    },
    {
     "data": {
      "image/png": "[encoded data removed]",
      "text/plain": [
       "<Figure size 432x288 with 1 Axes>"
      ]
     },
     "metadata": {
      "needs_background": "light"
     },
     "output_type": "display_data"
    }
   ],
   "source": [
    "df.plot(kind=\"scatter\", x=\"PSA_Level_Change\", y=\"High_Risk_Cancer\", alpha=0.5)\n"
   ]
  },
  {
   "cell_type": "code",
   "execution_count": 22,
   "metadata": {},
   "outputs": [],
   "source": [
    "# Importing MinMaxScaler and initializing it\n",
    "from sklearn.preprocessing import MinMaxScaler\n",
    "min_max=MinMaxScaler()\n",
    "# Scaling down both train and test data set\n"
   ]
  },
  {
   "cell_type": "code",
   "execution_count": 23,
   "metadata": {},
   "outputs": [
    {
     "data": {
      "text/html": [
       "<div>\n",
       "<style scoped>\n",
       "    .dataframe tbody tr th:only-of-type {\n",
       "        vertical-align: middle;\n",
       "    }\n",
       "\n",
       "    .dataframe tbody tr th {\n",
       "        vertical-align: top;\n",
       "    }\n",
       "\n",
       "    .dataframe thead th {\n",
       "        text-align: right;\n",
       "    }\n",
       "</style>\n",
       "<table border=\"1\" class=\"dataframe\">\n",
       "  <thead>\n",
       "    <tr style=\"text-align: right;\">\n",
       "      <th></th>\n",
       "      <th>High_Risk_Cancer</th>\n",
       "      <th>age</th>\n",
       "      <th>PSA_Level_Change</th>\n",
       "      <th>PSA_Recent_Change</th>\n",
       "      <th>BMI_chg_rate</th>\n",
       "      <th>race7</th>\n",
       "    </tr>\n",
       "  </thead>\n",
       "  <tbody>\n",
       "    <tr>\n",
       "      <th>0</th>\n",
       "      <td>0</td>\n",
       "      <td>0.692308</td>\n",
       "      <td>0.364222</td>\n",
       "      <td>0.354226</td>\n",
       "      <td>0.240616</td>\n",
       "      <td>0.166667</td>\n",
       "    </tr>\n",
       "    <tr>\n",
       "      <th>1</th>\n",
       "      <td>0</td>\n",
       "      <td>0.500000</td>\n",
       "      <td>0.350934</td>\n",
       "      <td>0.346665</td>\n",
       "      <td>0.239169</td>\n",
       "      <td>0.000000</td>\n",
       "    </tr>\n",
       "    <tr>\n",
       "      <th>2</th>\n",
       "      <td>0</td>\n",
       "      <td>0.307692</td>\n",
       "      <td>0.361680</td>\n",
       "      <td>0.359696</td>\n",
       "      <td>0.190402</td>\n",
       "      <td>0.000000</td>\n",
       "    </tr>\n",
       "    <tr>\n",
       "      <th>3</th>\n",
       "      <td>0</td>\n",
       "      <td>0.269231</td>\n",
       "      <td>0.351697</td>\n",
       "      <td>0.351396</td>\n",
       "      <td>0.381558</td>\n",
       "      <td>0.000000</td>\n",
       "    </tr>\n",
       "    <tr>\n",
       "      <th>4</th>\n",
       "      <td>0</td>\n",
       "      <td>0.269231</td>\n",
       "      <td>0.353664</td>\n",
       "      <td>0.349084</td>\n",
       "      <td>0.359403</td>\n",
       "      <td>0.000000</td>\n",
       "    </tr>\n",
       "  </tbody>\n",
       "</table>\n",
       "</div>"
      ],
      "text/plain": [
       "   High_Risk_Cancer       age  PSA_Level_Change  PSA_Recent_Change  \\\n",
       "0                 0  0.692308          0.364222           0.354226   \n",
       "1                 0  0.500000          0.350934           0.346665   \n",
       "2                 0  0.307692          0.361680           0.359696   \n",
       "3                 0  0.269231          0.351697           0.351396   \n",
       "4                 0  0.269231          0.353664           0.349084   \n",
       "\n",
       "   BMI_chg_rate     race7  \n",
       "0      0.240616  0.166667  \n",
       "1      0.239169  0.000000  \n",
       "2      0.190402  0.000000  \n",
       "3      0.381558  0.000000  \n",
       "4      0.359403  0.000000  "
      ]
     },
     "execution_count": 23,
     "metadata": {},
     "output_type": "execute_result"
    }
   ],
   "source": [
    "df_scale=df2.copy()\n",
    "df3=df2.copy()\n",
    "df_scale=min_max.fit_transform(df_scale[['PSA_Level_Change', 'PSA_Recent_Change', 'BMI_chg_rate', 'age','race7']])\n",
    "#df_scale=min_max.fit_transform(df_scale[['PSA_Level_Change', 'PSA_Recent_Change', 'PSA_Recent_2', 'BMI_chg_rate', 'age']])\n",
    "#df_scale=min_max.fit_transform(df_scale[['PSA_Level_Change', 'PSA_Recent_Change']])\n",
    "df_scale[:,1]\n",
    "df3['PSA_Level_Change']=df_scale[:,0]\n",
    "df3['PSA_Recent_Change']=df_scale[:,1]\n",
    "#df3['PSA_Recent_2']=df_scale[:,2]\n",
    "\n",
    "#added later \n",
    "df3['BMI_chg_rate']=df_scale[:,2]\n",
    "df3['age']=df_scale[:,3]\n",
    "df3['race7']=df_scale[:,4]\n",
    "df3.head()"
   ]
  },
  {
   "cell_type": "code",
   "execution_count": 24,
   "metadata": {},
   "outputs": [
    {
     "data": {
      "text/html": [
       "<div>\n",
       "<style scoped>\n",
       "    .dataframe tbody tr th:only-of-type {\n",
       "        vertical-align: middle;\n",
       "    }\n",
       "\n",
       "    .dataframe tbody tr th {\n",
       "        vertical-align: top;\n",
       "    }\n",
       "\n",
       "    .dataframe thead th {\n",
       "        text-align: right;\n",
       "    }\n",
       "</style>\n",
       "<table border=\"1\" class=\"dataframe\">\n",
       "  <thead>\n",
       "    <tr style=\"text-align: right;\">\n",
       "      <th></th>\n",
       "      <th>High_Risk_Cancer</th>\n",
       "      <th>age</th>\n",
       "      <th>PSA_Level_Change</th>\n",
       "      <th>PSA_Recent_Change</th>\n",
       "      <th>BMI_chg_rate</th>\n",
       "      <th>race7</th>\n",
       "    </tr>\n",
       "  </thead>\n",
       "  <tbody>\n",
       "    <tr>\n",
       "      <th>0</th>\n",
       "      <td>0</td>\n",
       "      <td>0.692308</td>\n",
       "      <td>0.364222</td>\n",
       "      <td>0.354226</td>\n",
       "      <td>0.240616</td>\n",
       "      <td>0.166667</td>\n",
       "    </tr>\n",
       "    <tr>\n",
       "      <th>1</th>\n",
       "      <td>0</td>\n",
       "      <td>0.500000</td>\n",
       "      <td>0.350934</td>\n",
       "      <td>0.346665</td>\n",
       "      <td>0.239169</td>\n",
       "      <td>0.000000</td>\n",
       "    </tr>\n",
       "    <tr>\n",
       "      <th>2</th>\n",
       "      <td>0</td>\n",
       "      <td>0.307692</td>\n",
       "      <td>0.361680</td>\n",
       "      <td>0.359696</td>\n",
       "      <td>0.190402</td>\n",
       "      <td>0.000000</td>\n",
       "    </tr>\n",
       "    <tr>\n",
       "      <th>3</th>\n",
       "      <td>0</td>\n",
       "      <td>0.269231</td>\n",
       "      <td>0.351697</td>\n",
       "      <td>0.351396</td>\n",
       "      <td>0.381558</td>\n",
       "      <td>0.000000</td>\n",
       "    </tr>\n",
       "    <tr>\n",
       "      <th>4</th>\n",
       "      <td>0</td>\n",
       "      <td>0.269231</td>\n",
       "      <td>0.353664</td>\n",
       "      <td>0.349084</td>\n",
       "      <td>0.359403</td>\n",
       "      <td>0.000000</td>\n",
       "    </tr>\n",
       "  </tbody>\n",
       "</table>\n",
       "</div>"
      ],
      "text/plain": [
       "   High_Risk_Cancer       age  PSA_Level_Change  PSA_Recent_Change  \\\n",
       "0                 0  0.692308          0.364222           0.354226   \n",
       "1                 0  0.500000          0.350934           0.346665   \n",
       "2                 0  0.307692          0.361680           0.359696   \n",
       "3                 0  0.269231          0.351697           0.351396   \n",
       "4                 0  0.269231          0.353664           0.349084   \n",
       "\n",
       "   BMI_chg_rate     race7  \n",
       "0      0.240616  0.166667  \n",
       "1      0.239169  0.000000  \n",
       "2      0.190402  0.000000  \n",
       "3      0.381558  0.000000  \n",
       "4      0.359403  0.000000  "
      ]
     },
     "execution_count": 24,
     "metadata": {},
     "output_type": "execute_result"
    }
   ],
   "source": [
    "df2=df3.copy()\n",
    "df2.head()"
   ]
  },
  {
   "cell_type": "markdown",
   "metadata": {},
   "source": [
    "## Divide features and Label"
   ]
  },
  {
   "cell_type": "code",
   "execution_count": null,
   "metadata": {},
   "outputs": [],
   "source": []
  },
  {
   "cell_type": "code",
   "execution_count": 25,
   "metadata": {},
   "outputs": [],
   "source": [
    "df_selected_data=df2[df2.columns[1:len(df2.columns)]]\n",
    "df_selected_label=df2[df2.columns[0:1]]\n"
   ]
  },
  {
   "cell_type": "code",
   "execution_count": 26,
   "metadata": {},
   "outputs": [],
   "source": [
    "from sklearn.neighbors import KNeighborsClassifier\n",
    "import numpy as np\n",
    "import pylab as pl\n",
    "import matplotlib.pyplot as plt\n",
    "\n",
    "df2.High_Risk_Cancer=df2.High_Risk_Cancer.astype('int64')\n",
    "#print(df_selected.info())"
   ]
  },
  {
   "cell_type": "code",
   "execution_count": 27,
   "metadata": {},
   "outputs": [
    {
     "data": {
      "text/html": [
       "<div>\n",
       "<style scoped>\n",
       "    .dataframe tbody tr th:only-of-type {\n",
       "        vertical-align: middle;\n",
       "    }\n",
       "\n",
       "    .dataframe tbody tr th {\n",
       "        vertical-align: top;\n",
       "    }\n",
       "\n",
       "    .dataframe thead th {\n",
       "        text-align: right;\n",
       "    }\n",
       "</style>\n",
       "<table border=\"1\" class=\"dataframe\">\n",
       "  <thead>\n",
       "    <tr style=\"text-align: right;\">\n",
       "      <th></th>\n",
       "      <th>High_Risk_Cancer</th>\n",
       "      <th>age</th>\n",
       "      <th>PSA_Level_Change</th>\n",
       "      <th>PSA_Recent_Change</th>\n",
       "      <th>BMI_chg_rate</th>\n",
       "      <th>race7</th>\n",
       "    </tr>\n",
       "  </thead>\n",
       "  <tbody>\n",
       "    <tr>\n",
       "      <th>26103</th>\n",
       "      <td>0</td>\n",
       "      <td>0.730769</td>\n",
       "      <td>0.394240</td>\n",
       "      <td>0.359957</td>\n",
       "      <td>0.140805</td>\n",
       "      <td>0.0</td>\n",
       "    </tr>\n",
       "    <tr>\n",
       "      <th>26104</th>\n",
       "      <td>0</td>\n",
       "      <td>0.576923</td>\n",
       "      <td>0.346111</td>\n",
       "      <td>0.351372</td>\n",
       "      <td>0.226741</td>\n",
       "      <td>0.0</td>\n",
       "    </tr>\n",
       "    <tr>\n",
       "      <th>26105</th>\n",
       "      <td>0</td>\n",
       "      <td>0.961538</td>\n",
       "      <td>0.345088</td>\n",
       "      <td>0.354658</td>\n",
       "      <td>0.190402</td>\n",
       "      <td>0.0</td>\n",
       "    </tr>\n",
       "    <tr>\n",
       "      <th>26106</th>\n",
       "      <td>0</td>\n",
       "      <td>0.230769</td>\n",
       "      <td>0.356758</td>\n",
       "      <td>0.346977</td>\n",
       "      <td>0.322570</td>\n",
       "      <td>0.0</td>\n",
       "    </tr>\n",
       "    <tr>\n",
       "      <th>26107</th>\n",
       "      <td>0</td>\n",
       "      <td>0.692308</td>\n",
       "      <td>0.356641</td>\n",
       "      <td>0.350733</td>\n",
       "      <td>0.127030</td>\n",
       "      <td>0.5</td>\n",
       "    </tr>\n",
       "    <tr>\n",
       "      <th>26108</th>\n",
       "      <td>0</td>\n",
       "      <td>0.730769</td>\n",
       "      <td>0.357168</td>\n",
       "      <td>0.349061</td>\n",
       "      <td>0.255610</td>\n",
       "      <td>0.0</td>\n",
       "    </tr>\n",
       "    <tr>\n",
       "      <th>26109</th>\n",
       "      <td>0</td>\n",
       "      <td>0.307692</td>\n",
       "      <td>0.352524</td>\n",
       "      <td>0.344987</td>\n",
       "      <td>0.226622</td>\n",
       "      <td>0.0</td>\n",
       "    </tr>\n",
       "    <tr>\n",
       "      <th>26110</th>\n",
       "      <td>0</td>\n",
       "      <td>0.500000</td>\n",
       "      <td>0.359845</td>\n",
       "      <td>0.355340</td>\n",
       "      <td>0.190402</td>\n",
       "      <td>0.5</td>\n",
       "    </tr>\n",
       "    <tr>\n",
       "      <th>26111</th>\n",
       "      <td>0</td>\n",
       "      <td>0.230769</td>\n",
       "      <td>0.354362</td>\n",
       "      <td>0.351167</td>\n",
       "      <td>0.333512</td>\n",
       "      <td>0.0</td>\n",
       "    </tr>\n",
       "    <tr>\n",
       "      <th>26112</th>\n",
       "      <td>0</td>\n",
       "      <td>0.230769</td>\n",
       "      <td>0.352015</td>\n",
       "      <td>0.345937</td>\n",
       "      <td>0.196130</td>\n",
       "      <td>0.0</td>\n",
       "    </tr>\n",
       "  </tbody>\n",
       "</table>\n",
       "</div>"
      ],
      "text/plain": [
       "       High_Risk_Cancer       age  PSA_Level_Change  PSA_Recent_Change  \\\n",
       "26103                 0  0.730769          0.394240           0.359957   \n",
       "26104                 0  0.576923          0.346111           0.351372   \n",
       "26105                 0  0.961538          0.345088           0.354658   \n",
       "26106                 0  0.230769          0.356758           0.346977   \n",
       "26107                 0  0.692308          0.356641           0.350733   \n",
       "26108                 0  0.730769          0.357168           0.349061   \n",
       "26109                 0  0.307692          0.352524           0.344987   \n",
       "26110                 0  0.500000          0.359845           0.355340   \n",
       "26111                 0  0.230769          0.354362           0.351167   \n",
       "26112                 0  0.230769          0.352015           0.345937   \n",
       "\n",
       "       BMI_chg_rate  race7  \n",
       "26103      0.140805    0.0  \n",
       "26104      0.226741    0.0  \n",
       "26105      0.190402    0.0  \n",
       "26106      0.322570    0.0  \n",
       "26107      0.127030    0.5  \n",
       "26108      0.255610    0.0  \n",
       "26109      0.226622    0.0  \n",
       "26110      0.190402    0.5  \n",
       "26111      0.333512    0.0  \n",
       "26112      0.196130    0.0  "
      ]
     },
     "execution_count": 27,
     "metadata": {},
     "output_type": "execute_result"
    }
   ],
   "source": [
    "df2.tail(10)"
   ]
  },
  {
   "cell_type": "markdown",
   "metadata": {},
   "source": [
    "## Split train and test Data"
   ]
  },
  {
   "cell_type": "code",
   "execution_count": 31,
   "metadata": {},
   "outputs": [],
   "source": [
    "\n",
    "from sklearn.model_selection import train_test_split\n",
    "\n",
    "K=11\n",
    "Num=5000\n",
    "df2=df2[:Num]\n",
    "\n",
    "x_trains, x_tests, y_trains, y_tests=train_test_split(df_selected_data, df_selected_label, test_size=0.3, random_state=Random_State_Split)\n"
   ]
  },
  {
   "cell_type": "code",
   "execution_count": 32,
   "metadata": {},
   "outputs": [
    {
     "name": "stdout",
     "output_type": "stream",
     "text": [
      "<class 'pandas.core.frame.DataFrame'>\n",
      "Int64Index: 18279 entries, 20309 to 235\n",
      "Data columns (total 1 columns):\n",
      "High_Risk_Cancer    18279 non-null int64\n",
      "dtypes: int64(1)\n",
      "memory usage: 285.6 KB\n",
      "None        High_Risk_Cancer\n",
      "count      18279.000000\n",
      "mean           0.009847\n",
      "std            0.098747\n",
      "min            0.000000\n",
      "25%            0.000000\n",
      "50%            0.000000\n",
      "75%            0.000000\n",
      "max            1.000000\n"
     ]
    },
    {
     "data": {
      "text/plain": [
       "(18279,)"
      ]
     },
     "execution_count": 32,
     "metadata": {},
     "output_type": "execute_result"
    }
   ],
   "source": [
    "#x_trains.info(),y_trains.info()\n",
    "print(y_trains.info(),y_trains.describe())\n",
    "yy=y_trains.values.ravel()\n",
    "yy.shape"
   ]
  },
  {
   "cell_type": "markdown",
   "metadata": {},
   "source": [
    "## Sampling"
   ]
  },
  {
   "cell_type": "code",
   "execution_count": 33,
   "metadata": {},
   "outputs": [
    {
     "name": "stdout",
     "output_type": "stream",
     "text": [
      "Before OverSampling, the shape of train_X: (18279, 5)\n",
      "Before OverSampling, the shape of train_y: (18279, 1) \n",
      "\n",
      "After OverSampling, the shape of train_X: (36198, 5)\n",
      "After OverSampling, the shape of train_y: (36198,) \n",
      "\n"
     ]
    },
    {
     "name": "stderr",
     "output_type": "stream",
     "text": [
      "C:\\Users\\Masud\\Anaconda3\\lib\\site-packages\\sklearn\\utils\\validation.py:724: DataConversionWarning: A column-vector y was passed when a 1d array was expected. Please change the shape of y to (n_samples, ), for example using ravel().\n",
      "  y = column_or_1d(y, warn=True)\n"
     ]
    }
   ],
   "source": [
    "print('Before OverSampling, the shape of train_X: {}'.format(x_trains.shape))\n",
    "print('Before OverSampling, the shape of train_y: {} \\n'.format( y_trains.shape))\n",
    "\n",
    "#from imblearn import under_sampling, over_sampling\n",
    "from imblearn.over_sampling import SMOTE,ADASYN, SVMSMOTE, RandomOverSampler,SMOTENC, BorderlineSMOTE,SMOTENC\n",
    "\n",
    "sm_smote = SMOTE(random_state=Random_State_Sampling, k_neighbors=10)\n",
    "sm_adasyn = ADASYN(random_state=Random_State_Sampling)\n",
    "sm_svmsmote=SVMSMOTE(random_state=Random_State_Sampling, k_neighbors=10, n_jobs=1, m_neighbors=20)\n",
    "\n",
    "sm_RandomOverSampler=RandomOverSampler(random_state=Random_State_Sampling)\n",
    "#sm_smotenc = SMOTENC(random_state=2)\n",
    "sm_BorderlineSMOTE = BorderlineSMOTE(random_state=Random_State_Sampling)\n",
    "\n",
    "sm=sm_smote\n",
    "\n",
    "X_train_res, y_train_res = sm.fit_sample(x_trains, y_trains)\n",
    "\n",
    "sum(y_train_res==0)\n",
    "\n",
    "x_trains=X_train_res\n",
    "y_trains=y_train_res\n",
    "y_trains\n",
    "\n",
    "print('After OverSampling, the shape of train_X: {}'.format(x_trains.shape))\n",
    "print('After OverSampling, the shape of train_y: {} \\n'.format( y_trains.shape))"
   ]
  },
  {
   "cell_type": "code",
   "execution_count": 157,
   "metadata": {},
   "outputs": [],
   "source": [
    "sampling_type=\" SMOTE\""
   ]
  },
  {
   "cell_type": "code",
   "execution_count": null,
   "metadata": {},
   "outputs": [],
   "source": []
  },
  {
   "cell_type": "markdown",
   "metadata": {},
   "source": [
    "## Apply KNN for Classification"
   ]
  },
  {
   "cell_type": "code",
   "execution_count": 158,
   "metadata": {},
   "outputs": [],
   "source": [
    "N_neighbors=15\n",
    "neighbors = np.arange(1,N_neighbors)\n",
    "train_accuracy =np.empty(len(neighbors))\n",
    "test_accuracy = np.empty(len(neighbors))\n",
    "\n",
    "for i,k in enumerate(neighbors):\n",
    "    #Setup a knn classifier with k neighbors\n",
    "    knn = KNeighborsClassifier(n_neighbors=k)\n",
    "\n",
    "    #Fit the model\n",
    "    knn.fit(x_trains, y_trains)\n",
    "\n",
    "    #Compute accuracy on the training set\n",
    "    train_accuracy[i] = knn.score(x_trains, y_trains)\n",
    "\n",
    "    #Compute accuracy on the test set\n",
    "    test_accuracy[i] = knn.score(x_tests, y_tests.values.ravel()) \n"
   ]
  },
  {
   "cell_type": "code",
   "execution_count": 159,
   "metadata": {},
   "outputs": [
    {
     "name": "stdout",
     "output_type": "stream",
     "text": [
      "[1.         0.98842286 0.97261826 0.96822502 0.9589412  0.9564821\n",
      " 0.94899425 0.94589965 0.94070513 0.93871574 0.93343833 0.93244363\n",
      " 0.92777409 0.92633731]\n"
     ]
    }
   ],
   "source": [
    "knn = KNeighborsClassifier(n_neighbors=3)\n",
    "knn.fit(x_trains, y_trains)\n",
    "\n",
    "y_pred_knn =knn.predict(x_tests)\n",
    "print(train_accuracy)\n"
   ]
  },
  {
   "cell_type": "code",
   "execution_count": null,
   "metadata": {},
   "outputs": [],
   "source": []
  },
  {
   "cell_type": "code",
   "execution_count": 160,
   "metadata": {},
   "outputs": [],
   "source": [
    "for i in range(len(train_accuracy)-1):\n",
    "    train_accuracy[i]=float(str(train_accuracy[i])[:6])\n",
    "    test_accuracy[i]=float(str(test_accuracy[i])[:6])\n",
    "#train_accuracy, test_accuracy"
   ]
  },
  {
   "cell_type": "code",
   "execution_count": 161,
   "metadata": {},
   "outputs": [
    {
     "data": {
      "image/png": "[encoded data removed]",
      "text/plain": [
       "<Figure size 432x288 with 1 Axes>"
      ]
     },
     "metadata": {
      "needs_background": "light"
     },
     "output_type": "display_data"
    }
   ],
   "source": [
    "#Generate plot\n",
    "plt.title('k-NN Varying number of neighbors')\n",
    "plt.plot(neighbors, test_accuracy, label='Testing Accuracy')\n",
    "plt.plot(neighbors, train_accuracy, label='Training accuracy')\n",
    "plt.legend()\n",
    "plt.xlabel('Number of neighbors')\n",
    "plt.ylabel('Accuracy')\n",
    "plt.show()\n"
   ]
  },
  {
   "cell_type": "code",
   "execution_count": null,
   "metadata": {},
   "outputs": [],
   "source": [
    "\n",
    "\n"
   ]
  },
  {
   "cell_type": "code",
   "execution_count": 162,
   "metadata": {},
   "outputs": [],
   "source": [
    "#print(pred_test)\n",
    "y_test = y_tests.High_Risk_Cancer #['High_Risk_Cancer']\n",
    "#print(y_tests)\n"
   ]
  },
  {
   "cell_type": "code",
   "execution_count": 163,
   "metadata": {},
   "outputs": [
    {
     "name": "stdout",
     "output_type": "stream",
     "text": [
      "predicted labels     0    1\n",
      "actual labels              \n",
      "0                 7148  585\n",
      "1                   80   21\n"
     ]
    }
   ],
   "source": [
    "from sklearn.metrics import confusion_matrix, classification_report\n",
    "conf_matrix=get_confusion_matrix(y_pred_knn, y_test)\n",
    "\n",
    "print(conf_matrix)\n"
   ]
  },
  {
   "cell_type": "code",
   "execution_count": 164,
   "metadata": {},
   "outputs": [
    {
     "data": {
      "text/plain": [
       "585"
      ]
     },
     "execution_count": 164,
     "metadata": {},
     "output_type": "execute_result"
    }
   ],
   "source": [
    "conf_matrix[1][0]"
   ]
  },
  {
   "cell_type": "markdown",
   "metadata": {},
   "source": [
    "## ROC Curve"
   ]
  },
  {
   "cell_type": "code",
   "execution_count": 165,
   "metadata": {},
   "outputs": [],
   "source": [
    "fpr_knn, tpr_knn, _ = roc_curve(y_tests,  y_pred_knn)\n",
    "auc_knn = roc_auc_score(y_test, y_pred_knn)\n",
    "    \n",
    "result_table = result_table.append({'classifiers':'KNN',\n",
    "                                        'fpr':fpr_knn, \n",
    "                                        'tpr':tpr_knn, \n",
    "                                        'auc':auc_knn}, ignore_index=True)\n",
    "\n",
    "acc_table=get_accuracy_table(accuracy_table, y_tests, y_pred_knn, 'KNN')\n"
   ]
  },
  {
   "cell_type": "code",
   "execution_count": 166,
   "metadata": {},
   "outputs": [
    {
     "data": {
      "text/html": [
       "<div>\n",
       "<style scoped>\n",
       "    .dataframe tbody tr th:only-of-type {\n",
       "        vertical-align: middle;\n",
       "    }\n",
       "\n",
       "    .dataframe tbody tr th {\n",
       "        vertical-align: top;\n",
       "    }\n",
       "\n",
       "    .dataframe thead th {\n",
       "        text-align: right;\n",
       "    }\n",
       "</style>\n",
       "<table border=\"1\" class=\"dataframe\">\n",
       "  <thead>\n",
       "    <tr style=\"text-align: right;\">\n",
       "      <th></th>\n",
       "      <th>Model</th>\n",
       "      <th>Accuracy</th>\n",
       "      <th>Sensitivity</th>\n",
       "      <th>Specificity</th>\n",
       "      <th>Precision</th>\n",
       "      <th>Recall</th>\n",
       "      <th>F1-Sore</th>\n",
       "      <th>AUC</th>\n",
       "      <th>Cost</th>\n",
       "    </tr>\n",
       "  </thead>\n",
       "  <tbody>\n",
       "    <tr>\n",
       "      <th>0</th>\n",
       "      <td>KNN</td>\n",
       "      <td>0.915114</td>\n",
       "      <td>0.207921</td>\n",
       "      <td>0.92435</td>\n",
       "      <td>0.034653</td>\n",
       "      <td>0.207921</td>\n",
       "      <td>0.059406</td>\n",
       "      <td>0.566135</td>\n",
       "      <td>8564</td>\n",
       "    </tr>\n",
       "  </tbody>\n",
       "</table>\n",
       "</div>"
      ],
      "text/plain": [
       "  Model  Accuracy  Sensitivity  Specificity  Precision    Recall   F1-Sore  \\\n",
       "0   KNN  0.915114     0.207921      0.92435   0.034653  0.207921  0.059406   \n",
       "\n",
       "        AUC  Cost  \n",
       "0  0.566135  8564  "
      ]
     },
     "execution_count": 166,
     "metadata": {},
     "output_type": "execute_result"
    }
   ],
   "source": [
    "accuracy_table\n",
    "acc_table"
   ]
  },
  {
   "cell_type": "code",
   "execution_count": 167,
   "metadata": {},
   "outputs": [
    {
     "data": {
      "image/png": "[encoded data removed]",
      "text/plain": [
       "<Figure size 432x288 with 1 Axes>"
      ]
     },
     "metadata": {
      "needs_background": "light"
     },
     "output_type": "display_data"
    },
    {
     "name": "stdout",
     "output_type": "stream",
     "text": [
      "Accuracy: 0.9151136073525657\n",
      "sensitivity: 0.2079207920792079\n",
      "specificity: 0.9243501875080823\n",
      "[[7148  585]\n",
      " [  80   21]]\n",
      "              precision    recall  f1-score   support\n",
      "\n",
      "           0       0.99      0.92      0.96      7733\n",
      "           1       0.03      0.21      0.06       101\n",
      "\n",
      "    accuracy                           0.92      7834\n",
      "   macro avg       0.51      0.57      0.51      7834\n",
      "weighted avg       0.98      0.92      0.94      7834\n",
      "\n"
     ]
    }
   ],
   "source": [
    "roc_curve_sen_spec(y_tests, y_pred_knn, 'KNN')"
   ]
  },
  {
   "cell_type": "markdown",
   "metadata": {},
   "source": [
    "## Logistic Regression"
   ]
  },
  {
   "cell_type": "code",
   "execution_count": 168,
   "metadata": {},
   "outputs": [
    {
     "name": "stdout",
     "output_type": "stream",
     "text": [
      "0.827674240490171\n",
      "[[6410 1323]\n",
      " [  27   74]]\n"
     ]
    },
    {
     "name": "stderr",
     "output_type": "stream",
     "text": [
      "C:\\Users\\syedm\\Anaconda3\\envs\\tf-gpu\\lib\\site-packages\\sklearn\\linear_model\\logistic.py:432: FutureWarning: Default solver will be changed to 'lbfgs' in 0.22. Specify a solver to silence this warning.\n",
      "  FutureWarning)\n"
     ]
    },
    {
     "data": {
      "text/html": [
       "<div>\n",
       "<style scoped>\n",
       "    .dataframe tbody tr th:only-of-type {\n",
       "        vertical-align: middle;\n",
       "    }\n",
       "\n",
       "    .dataframe tbody tr th {\n",
       "        vertical-align: top;\n",
       "    }\n",
       "\n",
       "    .dataframe thead th {\n",
       "        text-align: right;\n",
       "    }\n",
       "</style>\n",
       "<table border=\"1\" class=\"dataframe\">\n",
       "  <thead>\n",
       "    <tr style=\"text-align: right;\">\n",
       "      <th></th>\n",
       "      <th>Model</th>\n",
       "      <th>Accuracy</th>\n",
       "      <th>Sensitivity</th>\n",
       "      <th>Specificity</th>\n",
       "      <th>Precision</th>\n",
       "      <th>Recall</th>\n",
       "      <th>F1-Sore</th>\n",
       "      <th>AUC</th>\n",
       "      <th>Cost</th>\n",
       "    </tr>\n",
       "  </thead>\n",
       "  <tbody>\n",
       "    <tr>\n",
       "      <th>0</th>\n",
       "      <td>KNN</td>\n",
       "      <td>0.915114</td>\n",
       "      <td>0.207921</td>\n",
       "      <td>0.924350</td>\n",
       "      <td>0.034653</td>\n",
       "      <td>0.207921</td>\n",
       "      <td>0.059406</td>\n",
       "      <td>0.566135</td>\n",
       "      <td>8564</td>\n",
       "    </tr>\n",
       "    <tr>\n",
       "      <th>1</th>\n",
       "      <td>LR</td>\n",
       "      <td>0.827674</td>\n",
       "      <td>0.732673</td>\n",
       "      <td>0.828915</td>\n",
       "      <td>0.052971</td>\n",
       "      <td>0.732673</td>\n",
       "      <td>0.098798</td>\n",
       "      <td>0.780794</td>\n",
       "      <td>3949</td>\n",
       "    </tr>\n",
       "  </tbody>\n",
       "</table>\n",
       "</div>"
      ],
      "text/plain": [
       "  Model  Accuracy  Sensitivity  Specificity  Precision    Recall   F1-Sore  \\\n",
       "0   KNN  0.915114     0.207921     0.924350   0.034653  0.207921  0.059406   \n",
       "1    LR  0.827674     0.732673     0.828915   0.052971  0.732673  0.098798   \n",
       "\n",
       "        AUC  Cost  \n",
       "0  0.566135  8564  \n",
       "1  0.780794  3949  "
      ]
     },
     "execution_count": 168,
     "metadata": {},
     "output_type": "execute_result"
    }
   ],
   "source": [
    "from sklearn.linear_model import LogisticRegression\n",
    "\n",
    "LR = LogisticRegression(random_state=11,  tol=0.00001, C=28, intercept_scaling=1, max_iter=100)\n",
    "LR.fit(x_trains, y_trains)\n",
    "\n",
    "y_pred_LR=LR.predict(x_tests)\n",
    "\n",
    "\n",
    "print(LR.score(x_tests, y_tests))\n",
    "print(confusion_matrix(y_tests, y_pred_LR))\n",
    "fpr_lr, tpr_lr, _ = roc_curve(y_tests,  y_pred_LR)\n",
    "auc_lr = roc_auc_score(y_tests, y_pred_LR)\n",
    "    \n",
    "result_table = result_table.append({'classifiers':'LR',\n",
    "                                        'fpr':fpr_lr, \n",
    "                                        'tpr':tpr_lr, \n",
    "                                        'auc':auc_lr}, ignore_index=True)\n",
    "\n",
    "acc_table=get_accuracy_table(acc_table, y_tests, y_pred_LR, 'LR')\n",
    "\n",
    "acc_table"
   ]
  },
  {
   "cell_type": "markdown",
   "metadata": {},
   "source": [
    "## Random Forest"
   ]
  },
  {
   "cell_type": "code",
   "execution_count": null,
   "metadata": {},
   "outputs": [],
   "source": []
  },
  {
   "cell_type": "code",
   "execution_count": 169,
   "metadata": {},
   "outputs": [
    {
     "name": "stderr",
     "output_type": "stream",
     "text": [
      "[Parallel(n_jobs=1)]: Using backend SequentialBackend with 1 concurrent workers.\n",
      "[Parallel(n_jobs=1)]: Done  15 out of  15 | elapsed:    0.7s finished\n",
      "C:\\Users\\syedm\\Anaconda3\\envs\\tf-gpu\\lib\\site-packages\\sklearn\\ensemble\\forest.py:460: UserWarning: Some inputs do not have OOB scores. This probably means too few trees were used to compute any reliable oob estimates.\n",
      "  warn(\"Some inputs do not have OOB scores. \"\n",
      "C:\\Users\\syedm\\Anaconda3\\envs\\tf-gpu\\lib\\site-packages\\sklearn\\ensemble\\forest.py:465: RuntimeWarning: invalid value encountered in true_divide\n",
      "  predictions[k].sum(axis=1)[:, np.newaxis])\n"
     ]
    },
    {
     "data": {
      "text/plain": [
       "RandomForestClassifier(bootstrap=True, class_weight=None, criterion='gini',\n",
       "                       max_depth=None, max_features='auto', max_leaf_nodes=None,\n",
       "                       min_impurity_decrease=0.0, min_impurity_split=None,\n",
       "                       min_samples_leaf=1, min_samples_split=2,\n",
       "                       min_weight_fraction_leaf=0.0, n_estimators=15,\n",
       "                       n_jobs=None, oob_score=True, random_state=44, verbose=1,\n",
       "                       warm_start=False)"
      ]
     },
     "execution_count": 169,
     "metadata": {},
     "output_type": "execute_result"
    }
   ],
   "source": [
    "from sklearn.ensemble import RandomForestClassifier\n",
    "rf = RandomForestClassifier(n_estimators=15, \n",
    "                            oob_score=True, \n",
    "                            verbose=1,\n",
    "                            random_state=Random_State_RF)\n",
    "rf.fit(x_trains, y_trains)"
   ]
  },
  {
   "cell_type": "code",
   "execution_count": 170,
   "metadata": {},
   "outputs": [
    {
     "name": "stderr",
     "output_type": "stream",
     "text": [
      "[Parallel(n_jobs=1)]: Using backend SequentialBackend with 1 concurrent workers.\n",
      "[Parallel(n_jobs=1)]: Done  15 out of  15 | elapsed:    0.0s finished\n"
     ]
    },
    {
     "data": {
      "text/plain": [
       "0.9262190451876436"
      ]
     },
     "execution_count": 170,
     "metadata": {},
     "output_type": "execute_result"
    }
   ],
   "source": [
    "from sklearn.metrics import accuracy_score\n",
    "y_pred_rf = rf.predict(x_tests)\n",
    "accuracy = accuracy_score(y_tests, y_pred_rf)\n",
    "#print(f'Out-of-bag score estimate: {rf.oob_score_:.3}')\n",
    "#print(f'Mean accuracy score: {accuracy:.3}')\n",
    "accuracy\n"
   ]
  },
  {
   "cell_type": "code",
   "execution_count": 171,
   "metadata": {},
   "outputs": [],
   "source": [
    "fpr_rf, tpr_rf, _ = roc_curve(y_tests,  y_pred_rf)\n",
    "auc_rf = roc_auc_score(y_test, y_pred_rf)\n",
    "    \n",
    "result_table = result_table.append({'classifiers':'Random Forest',\n",
    "                                        'fpr':fpr_rf, \n",
    "                                        'tpr':tpr_rf, \n",
    "                                        'auc':auc_rf}, ignore_index=True)\n",
    "\n",
    "acc_table=get_accuracy_table(acc_table, y_tests, y_pred_rf, 'Random Forest')"
   ]
  },
  {
   "cell_type": "code",
   "execution_count": 172,
   "metadata": {},
   "outputs": [
    {
     "data": {
      "image/png": "[encoded data removed]",
      "text/plain": [
       "<Figure size 432x288 with 1 Axes>"
      ]
     },
     "metadata": {
      "needs_background": "light"
     },
     "output_type": "display_data"
    },
    {
     "name": "stdout",
     "output_type": "stream",
     "text": [
      "Accuracy: 0.9262190451876436\n",
      "sensitivity: 0.31683168316831684\n",
      "specificity: 0.9341781973360921\n",
      "[[7224  509]\n",
      " [  69   32]]\n",
      "              precision    recall  f1-score   support\n",
      "\n",
      "           0       0.99      0.93      0.96      7733\n",
      "           1       0.06      0.32      0.10       101\n",
      "\n",
      "    accuracy                           0.93      7834\n",
      "   macro avg       0.52      0.63      0.53      7834\n",
      "weighted avg       0.98      0.93      0.95      7834\n",
      "\n"
     ]
    }
   ],
   "source": [
    "roc_curve_sen_spec(y_tests, y_pred_rf, 'Random Forest')"
   ]
  },
  {
   "cell_type": "markdown",
   "metadata": {},
   "source": [
    "## Ada Boost"
   ]
  },
  {
   "cell_type": "code",
   "execution_count": 173,
   "metadata": {},
   "outputs": [
    {
     "data": {
      "text/plain": [
       "AdaBoostClassifier(algorithm='SAMME.R',\n",
       "                   base_estimator=DecisionTreeClassifier(class_weight=None,\n",
       "                                                         criterion='gini',\n",
       "                                                         max_depth=4,\n",
       "                                                         max_features=None,\n",
       "                                                         max_leaf_nodes=None,\n",
       "                                                         min_impurity_decrease=0.0,\n",
       "                                                         min_impurity_split=None,\n",
       "                                                         min_samples_leaf=1,\n",
       "                                                         min_samples_split=2,\n",
       "                                                         min_weight_fraction_leaf=0.0,\n",
       "                                                         presort=False,\n",
       "                                                         random_state=0,\n",
       "                                                         splitter='best'),\n",
       "                   learning_rate=0.005, n_estimators=150, random_state=44)"
      ]
     },
     "execution_count": 173,
     "metadata": {},
     "output_type": "execute_result"
    }
   ],
   "source": [
    "Random_State_Ada_DT=0\n",
    "from sklearn.ensemble import AdaBoostClassifier\n",
    "from sklearn.tree import DecisionTreeClassifier\n",
    "\n",
    "model_Ada = AdaBoostClassifier(\n",
    "    DecisionTreeClassifier(max_depth=4, random_state=Random_State_Ada_DT),\n",
    "    n_estimators=150,learning_rate=0.005, random_state=Random_State_Ada\n",
    ")\n",
    "'''\n",
    "#Working ok\n",
    "model_Ada = AdaBoostClassifier(\n",
    "    DecisionTreeClassifier(max_depth=1),\n",
    "    n_estimators=150\n",
    ")\n",
    "'''\n",
    "model_Ada.fit(x_trains, y_trains)"
   ]
  },
  {
   "cell_type": "code",
   "execution_count": 174,
   "metadata": {},
   "outputs": [
    {
     "data": {
      "text/plain": [
       "0.750191473066122"
      ]
     },
     "execution_count": 174,
     "metadata": {},
     "output_type": "execute_result"
    }
   ],
   "source": [
    "y_pred_ada = model_Ada.predict(x_tests)\n",
    "accuracy = accuracy_score(y_tests, y_pred_ada)\n",
    "accuracy"
   ]
  },
  {
   "cell_type": "code",
   "execution_count": 175,
   "metadata": {},
   "outputs": [],
   "source": [
    "fpr_ada, tpr_ada, _ = roc_curve(y_tests,  y_pred_ada)\n",
    "auc_ada = roc_auc_score(y_test, y_pred_ada)\n",
    "    \n",
    "result_table = result_table.append({'classifiers':'AdaBoost',\n",
    "                                        'fpr':fpr_ada, \n",
    "                                        'tpr':tpr_ada, \n",
    "                                        'auc':auc_ada}, ignore_index=True)\n",
    "acc_table=get_accuracy_table(acc_table, y_tests, y_pred_ada, 'AdaBoost')"
   ]
  },
  {
   "cell_type": "code",
   "execution_count": 176,
   "metadata": {},
   "outputs": [
    {
     "data": {
      "image/png": "[encoded data removed]",
      "text/plain": [
       "<Figure size 432x288 with 1 Axes>"
      ]
     },
     "metadata": {
      "needs_background": "light"
     },
     "output_type": "display_data"
    },
    {
     "name": "stdout",
     "output_type": "stream",
     "text": [
      "Accuracy: 0.750191473066122\n",
      "sensitivity: 0.7920792079207921\n",
      "specificity: 0.7496443812233285\n",
      "[[5797 1936]\n",
      " [  21   80]]\n",
      "              precision    recall  f1-score   support\n",
      "\n",
      "           0       1.00      0.75      0.86      7733\n",
      "           1       0.04      0.79      0.08       101\n",
      "\n",
      "    accuracy                           0.75      7834\n",
      "   macro avg       0.52      0.77      0.47      7834\n",
      "weighted avg       0.98      0.75      0.85      7834\n",
      "\n"
     ]
    }
   ],
   "source": [
    "roc_curve_sen_spec(y_tests, y_pred_ada, 'AdaBoost')"
   ]
  },
  {
   "cell_type": "markdown",
   "metadata": {},
   "source": [
    "## XGBoost"
   ]
  },
  {
   "cell_type": "code",
   "execution_count": null,
   "metadata": {},
   "outputs": [],
   "source": []
  },
  {
   "cell_type": "code",
   "execution_count": 177,
   "metadata": {},
   "outputs": [
    {
     "name": "stdout",
     "output_type": "stream",
     "text": [
      "[[5723 2010]\n",
      " [  22   79]]\n",
      "0.7406178197600204\n",
      "              precision    recall  f1-score   support\n",
      "\n",
      "           0       1.00      0.74      0.85      7733\n",
      "           1       0.04      0.78      0.07       101\n",
      "\n",
      "    accuracy                           0.74      7834\n",
      "   macro avg       0.52      0.76      0.46      7834\n",
      "weighted avg       0.98      0.74      0.84      7834\n",
      "\n"
     ]
    }
   ],
   "source": [
    "import xgboost as xgb\n",
    "xgb_model = xgb.XGBClassifier(objective=\"binary:logistic\", max_depth=1,\n",
    "learning_rate= 0.02,\n",
    "#silent= 1.0,\n",
    "#eta=0.0001,\n",
    "n_estimators= 310,                            \n",
    "random_state=123)\n",
    "\n",
    "x_trains_xg = x_trains.copy()\n",
    "x_trains_df=df = pd.DataFrame(\n",
    "x_trains_xg,\n",
    "columns=['age','PSA_Level_Change','PSA_Recent_Change','BMI_chg_rate','race7'])\n",
    "    \n",
    "#columns=['age','PSA_Level_Change','PSA_Recent_Change','BMI_chg_rate','race7'])\n",
    "\n",
    "xgb_model.fit(x_trains_df, y_trains)\n",
    "\n",
    "y_pred_xg = xgb_model.predict(x_tests)\n",
    "\n",
    "print(confusion_matrix(y_tests, y_pred_xg))\n",
    "\n",
    "accuracy = accuracy_score(y_tests, y_pred_xg)\n",
    "print(accuracy)\n",
    "print(classification_report(y_tests,y_pred_xg))\n",
    "#y_pred = y_pred[:, 1]  \n",
    "\n",
    "\n"
   ]
  },
  {
   "cell_type": "code",
   "execution_count": 178,
   "metadata": {},
   "outputs": [],
   "source": [
    "fpr_xg, tpr_xg, _ = roc_curve(y_tests,  y_pred_xg)\n",
    "auc_xg = roc_auc_score(y_test, y_pred_xg)\n",
    "\n",
    "result_table = result_table.append({'classifiers':'XGBoost',\n",
    "                                        'fpr':fpr_xg, \n",
    "                                        'tpr':tpr_xg, \n",
    "                                        'auc':auc_xg}, ignore_index=True)\n",
    "acc_table=get_accuracy_table(acc_table, y_tests, y_pred_xg, 'XGBoost')"
   ]
  },
  {
   "cell_type": "code",
   "execution_count": 179,
   "metadata": {},
   "outputs": [
    {
     "data": {
      "image/png": "[encoded data removed]",
      "text/plain": [
       "<Figure size 432x288 with 1 Axes>"
      ]
     },
     "metadata": {
      "needs_background": "light"
     },
     "output_type": "display_data"
    },
    {
     "name": "stdout",
     "output_type": "stream",
     "text": [
      "Accuracy: 0.7406178197600204\n",
      "sensitivity: 0.7821782178217822\n",
      "specificity: 0.740075003232898\n",
      "[[5723 2010]\n",
      " [  22   79]]\n",
      "              precision    recall  f1-score   support\n",
      "\n",
      "           0       1.00      0.74      0.85      7733\n",
      "           1       0.04      0.78      0.07       101\n",
      "\n",
      "    accuracy                           0.74      7834\n",
      "   macro avg       0.52      0.76      0.46      7834\n",
      "weighted avg       0.98      0.74      0.84      7834\n",
      "\n"
     ]
    }
   ],
   "source": [
    "roc_curve_sen_spec(y_tests, y_pred_xg, 'XGBoost')"
   ]
  },
  {
   "cell_type": "markdown",
   "metadata": {},
   "source": [
    "## Gradient Boost"
   ]
  },
  {
   "cell_type": "code",
   "execution_count": 180,
   "metadata": {},
   "outputs": [
    {
     "name": "stdout",
     "output_type": "stream",
     "text": [
      "              precision    recall  f1-score   support\n",
      "\n",
      "           0       1.00      0.75      0.86      7733\n",
      "           1       0.04      0.79      0.08       101\n",
      "\n",
      "    accuracy                           0.75      7834\n",
      "   macro avg       0.52      0.77      0.47      7834\n",
      "weighted avg       0.98      0.75      0.85      7834\n",
      "\n"
     ]
    }
   ],
   "source": [
    "#x_trains, x_tests, y_trains, y_tests\n",
    "\n",
    "from sklearn.ensemble import GradientBoostingClassifier\n",
    "\n",
    "model_GB = GradientBoostingClassifier(n_estimators=15)\n",
    "model_GB.fit(x_trains, y_trains)\n",
    "y_pred_gb = model_GB.predict(x_tests)\n",
    "target_names = ['0', '1']\n",
    "print(classification_report(y_tests, y_pred_gb,target_names=target_names))\n"
   ]
  },
  {
   "cell_type": "code",
   "execution_count": 181,
   "metadata": {},
   "outputs": [
    {
     "data": {
      "text/plain": [
       "'\\nEvaluation\\tValue\\nSensitivity\\t0.62\\nSpecificity\\t0.913\\nPPV\\t0.057\\nNPV\\t0.996\\nF1\\t0.106\\n'"
      ]
     },
     "execution_count": 181,
     "metadata": {},
     "output_type": "execute_result"
    }
   ],
   "source": [
    "'''\n",
    "Evaluation\tValue\n",
    "Sensitivity\t0.62\n",
    "Specificity\t0.913\n",
    "PPV\t0.057\n",
    "NPV\t0.996\n",
    "F1\t0.106\n",
    "'''"
   ]
  },
  {
   "cell_type": "code",
   "execution_count": 182,
   "metadata": {},
   "outputs": [
    {
     "name": "stdout",
     "output_type": "stream",
     "text": [
      "[[5817 1916]\n",
      " [  21   80]]\n",
      "              precision    recall  f1-score   support\n",
      "\n",
      "           0       1.00      0.75      0.86      7733\n",
      "           1       0.04      0.79      0.08       101\n",
      "\n",
      "    accuracy                           0.75      7834\n",
      "   macro avg       0.52      0.77      0.47      7834\n",
      "weighted avg       0.98      0.75      0.85      7834\n",
      "\n"
     ]
    }
   ],
   "source": [
    "print(confusion_matrix(y_tests, y_pred_gb))\n",
    "target_names = ['0', '1']\n",
    "print(classification_report(y_tests, y_pred_gb,target_names=target_names))\n"
   ]
  },
  {
   "cell_type": "code",
   "execution_count": 183,
   "metadata": {},
   "outputs": [],
   "source": [
    "fpr_gb, tpr_gb, _ = roc_curve(y_tests,  y_pred_gb)\n",
    "auc_gb = roc_auc_score(y_test, y_pred_gb)\n",
    "    \n",
    "result_table = result_table.append({'classifiers':'Gradient Boost',\n",
    "                                        'fpr':fpr_gb, \n",
    "                                        'tpr':tpr_gb, \n",
    "                                        'auc':auc_gb}, ignore_index=True)\n",
    "\n",
    "acc_table=get_accuracy_table(acc_table, y_tests, y_pred_gb, 'Gradient Boost')\n"
   ]
  },
  {
   "cell_type": "code",
   "execution_count": 184,
   "metadata": {},
   "outputs": [
    {
     "data": {
      "image/png": "[encoded data removed]",
      "text/plain": [
       "<Figure size 432x288 with 1 Axes>"
      ]
     },
     "metadata": {
      "needs_background": "light"
     },
     "output_type": "display_data"
    },
    {
     "name": "stdout",
     "output_type": "stream",
     "text": [
      "Accuracy: 0.7527444472810825\n",
      "sensitivity: 0.7920792079207921\n",
      "specificity: 0.7522306995991207\n",
      "[[5817 1916]\n",
      " [  21   80]]\n",
      "              precision    recall  f1-score   support\n",
      "\n",
      "           0       1.00      0.75      0.86      7733\n",
      "           1       0.04      0.79      0.08       101\n",
      "\n",
      "    accuracy                           0.75      7834\n",
      "   macro avg       0.52      0.77      0.47      7834\n",
      "weighted avg       0.98      0.75      0.85      7834\n",
      "\n"
     ]
    }
   ],
   "source": [
    "roc_curve_sen_spec(y_tests, y_pred_gb, 'Gradient Boost')"
   ]
  },
  {
   "cell_type": "code",
   "execution_count": 185,
   "metadata": {},
   "outputs": [
    {
     "data": {
      "text/html": [
       "<div>\n",
       "<style scoped>\n",
       "    .dataframe tbody tr th:only-of-type {\n",
       "        vertical-align: middle;\n",
       "    }\n",
       "\n",
       "    .dataframe tbody tr th {\n",
       "        vertical-align: top;\n",
       "    }\n",
       "\n",
       "    .dataframe thead th {\n",
       "        text-align: right;\n",
       "    }\n",
       "</style>\n",
       "<table border=\"1\" class=\"dataframe\">\n",
       "  <thead>\n",
       "    <tr style=\"text-align: right;\">\n",
       "      <th></th>\n",
       "      <th>Model</th>\n",
       "      <th>Accuracy</th>\n",
       "      <th>Sensitivity</th>\n",
       "      <th>Specificity</th>\n",
       "      <th>Precision</th>\n",
       "      <th>Recall</th>\n",
       "      <th>F1-Sore</th>\n",
       "      <th>AUC</th>\n",
       "      <th>Cost</th>\n",
       "    </tr>\n",
       "  </thead>\n",
       "  <tbody>\n",
       "    <tr>\n",
       "      <th>0</th>\n",
       "      <td>KNN</td>\n",
       "      <td>0.915114</td>\n",
       "      <td>0.207921</td>\n",
       "      <td>0.924350</td>\n",
       "      <td>0.034653</td>\n",
       "      <td>0.207921</td>\n",
       "      <td>0.059406</td>\n",
       "      <td>0.566135</td>\n",
       "      <td>8564</td>\n",
       "    </tr>\n",
       "    <tr>\n",
       "      <th>1</th>\n",
       "      <td>LR</td>\n",
       "      <td>0.827674</td>\n",
       "      <td>0.732673</td>\n",
       "      <td>0.828915</td>\n",
       "      <td>0.052971</td>\n",
       "      <td>0.732673</td>\n",
       "      <td>0.098798</td>\n",
       "      <td>0.780794</td>\n",
       "      <td>3949</td>\n",
       "    </tr>\n",
       "    <tr>\n",
       "      <th>2</th>\n",
       "      <td>Random Forest</td>\n",
       "      <td>0.926219</td>\n",
       "      <td>0.316832</td>\n",
       "      <td>0.934178</td>\n",
       "      <td>0.059150</td>\n",
       "      <td>0.316832</td>\n",
       "      <td>0.099688</td>\n",
       "      <td>0.625505</td>\n",
       "      <td>7377</td>\n",
       "    </tr>\n",
       "    <tr>\n",
       "      <th>3</th>\n",
       "      <td>AdaBoost</td>\n",
       "      <td>0.750191</td>\n",
       "      <td>0.792079</td>\n",
       "      <td>0.749644</td>\n",
       "      <td>0.039683</td>\n",
       "      <td>0.792079</td>\n",
       "      <td>0.075579</td>\n",
       "      <td>0.770862</td>\n",
       "      <td>3956</td>\n",
       "    </tr>\n",
       "    <tr>\n",
       "      <th>4</th>\n",
       "      <td>XGBoost</td>\n",
       "      <td>0.740618</td>\n",
       "      <td>0.782178</td>\n",
       "      <td>0.740075</td>\n",
       "      <td>0.037817</td>\n",
       "      <td>0.782178</td>\n",
       "      <td>0.072146</td>\n",
       "      <td>0.761127</td>\n",
       "      <td>4131</td>\n",
       "    </tr>\n",
       "  </tbody>\n",
       "</table>\n",
       "</div>"
      ],
      "text/plain": [
       "           Model  Accuracy  Sensitivity  Specificity  Precision    Recall  \\\n",
       "0            KNN  0.915114     0.207921     0.924350   0.034653  0.207921   \n",
       "1             LR  0.827674     0.732673     0.828915   0.052971  0.732673   \n",
       "2  Random Forest  0.926219     0.316832     0.934178   0.059150  0.316832   \n",
       "3       AdaBoost  0.750191     0.792079     0.749644   0.039683  0.792079   \n",
       "4        XGBoost  0.740618     0.782178     0.740075   0.037817  0.782178   \n",
       "\n",
       "    F1-Sore       AUC  Cost  \n",
       "0  0.059406  0.566135  8564  \n",
       "1  0.098798  0.780794  3949  \n",
       "2  0.099688  0.625505  7377  \n",
       "3  0.075579  0.770862  3956  \n",
       "4  0.072146  0.761127  4131  "
      ]
     },
     "execution_count": 185,
     "metadata": {},
     "output_type": "execute_result"
    }
   ],
   "source": [
    "acc_table.head()"
   ]
  },
  {
   "cell_type": "code",
   "execution_count": null,
   "metadata": {},
   "outputs": [],
   "source": []
  },
  {
   "cell_type": "code",
   "execution_count": 187,
   "metadata": {},
   "outputs": [],
   "source": [
    "def color_conf_mat(cm,algorithm):\n",
    "    plt.clf()\n",
    "    plt.imshow(cm, interpolation='nearest', cmap=plt.cm.cool)\n",
    "    classNames = ['Negative','Positive']\n",
    "    plt.title('Confusion Matrix-' + algorithm)\n",
    "    plt.ylabel('True label')\n",
    "    plt.xlabel('Predicted label')\n",
    "    tick_marks = np.arange(len(classNames))\n",
    "    plt.xticks(tick_marks, classNames, rotation=45)\n",
    "    plt.yticks(tick_marks, classNames)\n",
    "    s = [['TN','FP'], ['FN', 'TP']]\n",
    "    for i in range(2):\n",
    "        for j in range(2):\n",
    "            plt.text(j,i, str(s[i][j])+\" = \"+str(cm[i][j]), horizontalalignment='center')\n",
    "    plt.show()"
   ]
  },
  {
   "cell_type": "code",
   "execution_count": 189,
   "metadata": {},
   "outputs": [
    {
     "name": "stdout",
     "output_type": "stream",
     "text": [
      "           Model  Accuracy  Sensitivity  Specificity  Precision    Recall  \\\n",
      "0            KNN  0.915114     0.207921     0.924350   0.034653  0.207921   \n",
      "1             LR  0.827674     0.732673     0.828915   0.052971  0.732673   \n",
      "2  Random Forest  0.926219     0.316832     0.934178   0.059150  0.316832   \n",
      "3       AdaBoost  0.750191     0.792079     0.749644   0.039683  0.792079   \n",
      "4        XGBoost  0.740618     0.782178     0.740075   0.037817  0.782178   \n",
      "\n",
      "    F1-Sore       AUC  Cost  \n",
      "0  0.059406  0.566135  8564  \n",
      "1  0.098798  0.780794  3949  \n",
      "2  0.099688  0.625505  7377  \n",
      "3  0.075579  0.770862  3956  \n",
      "4  0.072146  0.761127  4131  \n"
     ]
    }
   ],
   "source": [
    "print(acc_table.head())"
   ]
  },
  {
   "cell_type": "markdown",
   "metadata": {},
   "source": [
    "## Multi-Layer Perceptron (MLP)"
   ]
  },
  {
   "cell_type": "markdown",
   "metadata": {},
   "source": [
    "#### Take copy of train and test data and labels as we shall make some preprocessing like one-hot encoding for NN"
   ]
  },
  {
   "cell_type": "code",
   "execution_count": 190,
   "metadata": {},
   "outputs": [
    {
     "data": {
      "text/plain": [
       "((36192,), (7834, 1))"
      ]
     },
     "execution_count": 190,
     "metadata": {},
     "output_type": "execute_result"
    }
   ],
   "source": [
    "\n",
    "x_trains_copy=x_trains.copy()\n",
    "y_trains_copy=y_trains.copy()\n",
    "x_tests_copy=x_tests.copy()\n",
    "y_tests_copy=y_tests.copy()\n",
    "y_trains_copy.shape, y_tests_copy.shape\n",
    "\n"
   ]
  },
  {
   "cell_type": "code",
   "execution_count": 191,
   "metadata": {},
   "outputs": [
    {
     "data": {
      "text/plain": [
       "((36192,), (7834, 1))"
      ]
     },
     "execution_count": 191,
     "metadata": {},
     "output_type": "execute_result"
    }
   ],
   "source": [
    "\n",
    "x_trains=x_trains_copy.copy()\n",
    "y_trains=y_trains_copy.copy()\n",
    "x_tests=x_tests_copy.copy()\n",
    "y_tests=y_tests_copy.copy()\n",
    "y_trains.shape, y_tests.shape\n"
   ]
  },
  {
   "cell_type": "code",
   "execution_count": 192,
   "metadata": {},
   "outputs": [
    {
     "name": "stdout",
     "output_type": "stream",
     "text": [
      "(36192, 5) (7834, 5)\n",
      "(7834, 2)\n"
     ]
    }
   ],
   "source": [
    "from keras.callbacks import EarlyStopping, ModelCheckpoint \n",
    "from keras.utils import to_categorical\n",
    "\n",
    "print(x_trains.shape, x_tests.shape)\n",
    "#y_trains = to_categorical(y_trains)\n",
    "y_tests = to_categorical(y_tests)\n",
    "print(y_tests.shape)\n",
    "\n",
    "from keras.callbacks import EarlyStopping, ModelCheckpoint \n",
    "early_stopping =EarlyStopping(monitor='val_loss', patience=100, mode='auto')  "
   ]
  },
  {
   "cell_type": "code",
   "execution_count": 193,
   "metadata": {},
   "outputs": [],
   "source": [
    "# Import `Sequential` from `keras.models`\n",
    "from keras.models import Sequential\n",
    "from keras.utils import to_categorical\n",
    "from keras.layers import Dense, Dropout, Activation, BatchNormalization\n",
    "from keras.optimizers import SGD, rmsprop,adam\n",
    "\n",
    "# Import `Dense` from `keras.layers`\n",
    "from keras.layers import Dense\n",
    "\n",
    "\n",
    "y_trains = to_categorical(y_trains)\n",
    "#y_tests = to_categorical(y_tests)\n",
    "\n",
    "# Initialize the constructor\n",
    "model = Sequential()\n",
    "\n",
    "model.add(BatchNormalization())\n",
    "# Add an input layer \n",
    "model.add(Dense(18, activation='relu', input_shape=(6,)))\n",
    "\n",
    "model.add(BatchNormalization())\n",
    "# Add one hidden layer \n",
    "#model.add(Dropout(0.5))\n",
    "model.add(Dense(9, activation='relu'))\n",
    "#model.add(Dropout(0.4))\n",
    "\n",
    "model.add(BatchNormalization())\n",
    "# Add one hidden layer \n",
    "#model.add(Dropout(0.5))\n",
    "model.add(Dense(6, activation='relu'))\n",
    "#model.add(Dropout(0.4))\n",
    "\n",
    "\n",
    "model.add(BatchNormalization())\n",
    "# Add one hidden layer \n",
    "#model.add(Dropout(0.5))\n",
    "model.add(Dense(5, activation='relu'))\n",
    "\n",
    "\n",
    "#added after we got good model to test for better this layer in oct 3 7pm \n",
    "#adding this layer gave 84 and 57 accuracy for 2 class\n",
    "\n",
    "model.add(BatchNormalization())\n",
    "# Add one hidden layer \n",
    "#model.add(Dropout(0.5))\n",
    "model.add(Dense(5, activation='relu'))\n",
    "\n",
    "\n",
    "\n",
    "\n",
    "model.add(BatchNormalization())\n",
    "# Add one hidden layer \n",
    "#model.add(Dropout(0.5))\n",
    "model.add(Dense(4, activation='relu'))\n",
    "\n",
    "model.add(BatchNormalization()) # added for test in 3 oct\n",
    "\n",
    "'''\n",
    "model.add(BatchNormalization())\n",
    "# Add one hidden layer \n",
    "#model.add(Dropout(0.5))\n",
    "model.add(Dense(4, activation='relu'))\n",
    "\n",
    "model.add(BatchNormalization()) # added for test in 5 oct\n",
    "\n",
    "\n",
    "'''\n",
    "\n",
    "# Add one hidden layer \n",
    "model.add(Dense(3, activation='relu'))\n",
    "\n",
    "model.add(BatchNormalization()) # added for test in 5 oct\n",
    "\n",
    "# Add one hidden layer \n",
    "model.add(Dense(3, activation='relu'))\n",
    "\n",
    "#model.add(BatchNormalization()) # added for test in 5 oct\n",
    "\n",
    "# Add an output layer \n",
    "model.add(Dense(2, activation='softmax'))"
   ]
  },
  {
   "cell_type": "markdown",
   "metadata": {},
   "source": [
    "### Optimize and Compile NN"
   ]
  },
  {
   "cell_type": "code",
   "execution_count": 195,
   "metadata": {},
   "outputs": [],
   "source": [
    "opt1 = SGD(lr=0.001, decay=1e-6, momentum=0.9, nesterov=True)\n",
    "opt2 = adam(lr=0.002)\n",
    "opt3 = rmsprop(lr=0.0017, decay=3e-6)\n",
    "\n",
    "opt4=keras.optimizers.RMSprop(lr=0.0025, rho=0.9)\n",
    "opt5=keras.optimizers.RMSprop(lr=0.002, rho=0.8, epsilon=None, decay=1e-5)\n",
    "\n",
    "adadelta1=keras.optimizers.Adadelta(lr=1.0, rho=0.95)\n",
    "rmsprop1=keras.optimizers.RMSprop(lr=0.001, rho=0.9)\n",
    "adam1=keras.optimizers.Adam(lr=0.001, beta_1=0.9, beta_2=0.999, amsgrad=False)\n",
    "\n",
    "early_stopping =EarlyStopping(monitor='val_loss', patience=100, mode='auto')  \n",
    "es = EarlyStopping(monitor='val_loss', mode='min', verbose=1, patience=30)\n",
    "mc = ModelCheckpoint('Saved_model/best_model.h5', monitor='val_acc', mode='max', verbose=1, save_best_only=True)\n",
    "\n",
    "model.compile(loss='categorical_crossentropy',\n",
    "              optimizer=opt3,\n",
    "              metrics=['accuracy']\n",
    "              #, validation_data=(x_tests, y_tests)\n",
    "             # , callbacks=[early_stopping]\n",
    "             )\n",
    "                   \n",
    "\n",
    "\n"
   ]
  },
  {
   "cell_type": "code",
   "execution_count": 196,
   "metadata": {},
   "outputs": [
    {
     "name": "stdout",
     "output_type": "stream",
     "text": [
      "Train on 36192 samples, validate on 7834 samples\n",
      "Epoch 1/150\n",
      "36192/36192 [==============================] - 8s 208us/step - loss: 0.5782 - acc: 0.7068 - val_loss: 0.5948 - val_acc: 0.7924\n",
      "\n",
      "Epoch 00001: val_acc improved from -inf to 0.79244, saving model to Saved_model/best_model.h5\n",
      "Epoch 2/150\n",
      "36192/36192 [==============================] - 5s 145us/step - loss: 0.5278 - acc: 0.7509 - val_loss: 0.6381 - val_acc: 0.7082\n",
      "\n",
      "Epoch 00002: val_acc did not improve from 0.79244\n",
      "Epoch 3/150\n",
      "36192/36192 [==============================] - 5s 134us/step - loss: 0.4979 - acc: 0.7745 - val_loss: 0.5676 - val_acc: 0.7257\n",
      "\n",
      "Epoch 00003: val_acc did not improve from 0.79244\n",
      "Epoch 4/150\n",
      "36192/36192 [==============================] - 5s 146us/step - loss: 0.4685 - acc: 0.7888 - val_loss: 0.5187 - val_acc: 0.7207\n",
      "\n",
      "Epoch 00004: val_acc did not improve from 0.79244\n",
      "Epoch 5/150\n",
      "36192/36192 [==============================] - 5s 136us/step - loss: 0.4594 - acc: 0.7931 - val_loss: 0.4419 - val_acc: 0.7705\n",
      "\n",
      "Epoch 00005: val_acc did not improve from 0.79244\n",
      "Epoch 6/150\n",
      "36192/36192 [==============================] - 5s 150us/step - loss: 0.4528 - acc: 0.7950 - val_loss: 0.4173 - val_acc: 0.7913\n",
      "\n",
      "Epoch 00006: val_acc did not improve from 0.79244\n",
      "Epoch 7/150\n",
      "36192/36192 [==============================] - 5s 139us/step - loss: 0.4493 - acc: 0.7952 - val_loss: 0.5151 - val_acc: 0.7148\n",
      "\n",
      "Epoch 00007: val_acc did not improve from 0.79244\n",
      "Epoch 8/150\n",
      "36192/36192 [==============================] - 5s 133us/step - loss: 0.4440 - acc: 0.7948 - val_loss: 0.3441 - val_acc: 0.8384\n",
      "\n",
      "Epoch 00008: val_acc improved from 0.79244 to 0.83840, saving model to Saved_model/best_model.h5\n",
      "Epoch 9/150\n",
      "36192/36192 [==============================] - 5s 133us/step - loss: 0.4397 - acc: 0.7974 - val_loss: 0.4142 - val_acc: 0.7687\n",
      "\n",
      "Epoch 00009: val_acc did not improve from 0.83840\n",
      "Epoch 10/150\n",
      "36192/36192 [==============================] - 5s 141us/step - loss: 0.4351 - acc: 0.7998 - val_loss: 0.4855 - val_acc: 0.7275\n",
      "\n",
      "Epoch 00010: val_acc did not improve from 0.83840\n",
      "Epoch 11/150\n",
      "36192/36192 [==============================] - 5s 135us/step - loss: 0.4348 - acc: 0.8004 - val_loss: 0.4797 - val_acc: 0.7350\n",
      "\n",
      "Epoch 00011: val_acc did not improve from 0.83840\n",
      "Epoch 12/150\n",
      "36192/36192 [==============================] - 5s 133us/step - loss: 0.4321 - acc: 0.8027 - val_loss: 0.4425 - val_acc: 0.7641\n",
      "\n",
      "Epoch 00012: val_acc did not improve from 0.83840\n",
      "Epoch 13/150\n",
      "36192/36192 [==============================] - 5s 137us/step - loss: 0.4279 - acc: 0.8053 - val_loss: 0.4662 - val_acc: 0.7340\n",
      "\n",
      "Epoch 00013: val_acc did not improve from 0.83840\n",
      "Epoch 14/150\n",
      "36192/36192 [==============================] - 5s 136us/step - loss: 0.4265 - acc: 0.8046 - val_loss: 0.3876 - val_acc: 0.8044\n",
      "\n",
      "Epoch 00014: val_acc did not improve from 0.83840\n",
      "Epoch 15/150\n",
      "36192/36192 [==============================] - 5s 132us/step - loss: 0.4235 - acc: 0.8056 - val_loss: 0.3630 - val_acc: 0.8013\n",
      "\n",
      "Epoch 00015: val_acc did not improve from 0.83840\n",
      "Epoch 16/150\n",
      "36192/36192 [==============================] - 5s 132us/step - loss: 0.4222 - acc: 0.8071 - val_loss: 0.4182 - val_acc: 0.7822\n",
      "\n",
      "Epoch 00016: val_acc did not improve from 0.83840\n",
      "Epoch 17/150\n",
      "36192/36192 [==============================] - 6s 160us/step - loss: 0.4191 - acc: 0.8057 - val_loss: 0.4999 - val_acc: 0.7174 1\n",
      "\n",
      "Epoch 00017: val_acc did not improve from 0.83840\n",
      "Epoch 18/150\n",
      "36192/36192 [==============================] - 5s 143us/step - loss: 0.4149 - acc: 0.8084 - val_loss: 0.4846 - val_acc: 0.7369\n",
      "\n",
      "Epoch 00018: val_acc did not improve from 0.83840\n",
      "Epoch 19/150\n",
      "36192/36192 [==============================] - 5s 138us/step - loss: 0.4145 - acc: 0.8099 - val_loss: 0.3678 - val_acc: 0.8141\n",
      "\n",
      "Epoch 00019: val_acc did not improve from 0.83840\n",
      "Epoch 20/150\n",
      "36192/36192 [==============================] - 5s 147us/step - loss: 0.4140 - acc: 0.8096 - val_loss: 0.4336 - val_acc: 0.7826\n",
      "\n",
      "Epoch 00020: val_acc did not improve from 0.83840\n",
      "Epoch 21/150\n",
      "36192/36192 [==============================] - 5s 140us/step - loss: 0.4128 - acc: 0.8076 - val_loss: 0.5003 - val_acc: 0.7281\n",
      "\n",
      "Epoch 00021: val_acc did not improve from 0.83840\n",
      "Epoch 22/150\n",
      "36192/36192 [==============================] - 5s 136us/step - loss: 0.4109 - acc: 0.8110 - val_loss: 0.5097 - val_acc: 0.7047\n",
      "\n",
      "Epoch 00022: val_acc did not improve from 0.83840\n",
      "Epoch 23/150\n",
      "36192/36192 [==============================] - 5s 141us/step - loss: 0.4099 - acc: 0.8110 - val_loss: 0.5204 - val_acc: 0.6949\n",
      "\n",
      "Epoch 00023: val_acc did not improve from 0.83840\n",
      "Epoch 24/150\n",
      "36192/36192 [==============================] - 5s 142us/step - loss: 0.4068 - acc: 0.8126 - val_loss: 0.4221 - val_acc: 0.7873\n",
      "\n",
      "Epoch 00024: val_acc did not improve from 0.83840\n",
      "Epoch 25/150\n",
      "36192/36192 [==============================] - 5s 144us/step - loss: 0.4076 - acc: 0.8108 - val_loss: 0.4298 - val_acc: 0.7862\n",
      "\n",
      "Epoch 00025: val_acc did not improve from 0.83840\n",
      "Epoch 26/150\n",
      "36192/36192 [==============================] - 5s 142us/step - loss: 0.4068 - acc: 0.8110 - val_loss: 0.4984 - val_acc: 0.6965\n",
      "\n",
      "Epoch 00026: val_acc did not improve from 0.83840\n",
      "Epoch 27/150\n",
      "36192/36192 [==============================] - 5s 152us/step - loss: 0.4078 - acc: 0.8127 - val_loss: 0.4296 - val_acc: 0.7761\n",
      "\n",
      "Epoch 00027: val_acc did not improve from 0.83840\n",
      "Epoch 28/150\n",
      "36192/36192 [==============================] - 5s 141us/step - loss: 0.4064 - acc: 0.8130 - val_loss: 0.3695 - val_acc: 0.8166\n",
      "\n",
      "Epoch 00028: val_acc did not improve from 0.83840\n",
      "Epoch 29/150\n",
      "36192/36192 [==============================] - 7s 192us/step - loss: 0.4063 - acc: 0.8120 - val_loss: 0.4239 - val_acc: 0.7770\n",
      "\n",
      "Epoch 00029: val_acc did not improve from 0.83840\n",
      "Epoch 30/150\n",
      "36192/36192 [==============================] - 6s 166us/step - loss: 0.4040 - acc: 0.8129 - val_loss: 0.3620 - val_acc: 0.8230\n",
      "\n",
      "Epoch 00030: val_acc did not improve from 0.83840\n",
      "Epoch 31/150\n",
      "36192/36192 [==============================] - 6s 153us/step - loss: 0.4047 - acc: 0.8136 - val_loss: 0.4408 - val_acc: 0.7752\n",
      "\n",
      "Epoch 00031: val_acc did not improve from 0.83840\n",
      "Epoch 32/150\n",
      "36192/36192 [==============================] - 6s 154us/step - loss: 0.4033 - acc: 0.8140 - val_loss: 0.4918 - val_acc: 0.7302\n",
      "\n",
      "Epoch 00032: val_acc did not improve from 0.83840\n",
      "Epoch 33/150\n",
      "36192/36192 [==============================] - 5s 150us/step - loss: 0.4037 - acc: 0.8121 - val_loss: 0.3561 - val_acc: 0.8260\n",
      "\n",
      "Epoch 00033: val_acc did not improve from 0.83840\n",
      "Epoch 34/150\n",
      "36192/36192 [==============================] - 5s 144us/step - loss: 0.4032 - acc: 0.8129 - val_loss: 0.4608 - val_acc: 0.7258\n",
      "\n",
      "Epoch 00034: val_acc did not improve from 0.83840\n",
      "Epoch 35/150\n",
      "36192/36192 [==============================] - 5s 148us/step - loss: 0.4032 - acc: 0.8153 - val_loss: 0.4379 - val_acc: 0.7471\n",
      "\n",
      "Epoch 00035: val_acc did not improve from 0.83840\n",
      "Epoch 36/150\n",
      "36192/36192 [==============================] - 5s 151us/step - loss: 0.4017 - acc: 0.8138 - val_loss: 0.5038 - val_acc: 0.7051\n",
      "\n",
      "Epoch 00036: val_acc did not improve from 0.83840\n",
      "Epoch 37/150\n",
      "36192/36192 [==============================] - 5s 150us/step - loss: 0.4027 - acc: 0.8129 - val_loss: 0.4522 - val_acc: 0.7363\n",
      "\n",
      "Epoch 00037: val_acc did not improve from 0.83840\n",
      "Epoch 38/150\n",
      "36192/36192 [==============================] - 5s 148us/step - loss: 0.4004 - acc: 0.8135 - val_loss: 0.3960 - val_acc: 0.7761\n",
      "\n",
      "Epoch 00038: val_acc did not improve from 0.83840\n",
      "Epoch 00038: early stopping\n"
     ]
    }
   ],
   "source": [
    "history = model.fit(x_trains, y_trains,epochs=150, batch_size=128, verbose=1\n",
    "                    , validation_data=(x_tests, y_tests)\n",
    "                    , callbacks=[es, mc]\n",
    "                   )"
   ]
  },
  {
   "cell_type": "code",
   "execution_count": 197,
   "metadata": {},
   "outputs": [],
   "source": [
    "#history = model.fit(x_trains, y_trains,epochs=100, batch_size=256, verbose=1)\n",
    "from keras.models import load_model\n",
    "saved_model = load_model('Saved_model/best_model.h5')"
   ]
  },
  {
   "cell_type": "code",
   "execution_count": 198,
   "metadata": {},
   "outputs": [
    {
     "name": "stdout",
     "output_type": "stream",
     "text": [
      "Train: 0.799, Test: 0.838\n"
     ]
    }
   ],
   "source": [
    "# evaluate the model\n",
    "_, train_acc = saved_model.evaluate(x_trains, y_trains, verbose=0)\n",
    "_, test_acc = saved_model.evaluate(x_tests, y_tests, verbose=0)\n",
    "print('Train: %.3f, Test: %.3f' % (train_acc, test_acc))"
   ]
  },
  {
   "cell_type": "code",
   "execution_count": 199,
   "metadata": {},
   "outputs": [
    {
     "data": {
      "image/png": "[encoded data removed]",
      "text/plain": [
       "<Figure size 432x288 with 1 Axes>"
      ]
     },
     "metadata": {
      "needs_background": "light"
     },
     "output_type": "display_data"
    },
    {
     "data": {
      "image/png": "[encoded data removed]",
      "text/plain": [
       "<Figure size 432x288 with 1 Axes>"
      ]
     },
     "metadata": {
      "needs_background": "light"
     },
     "output_type": "display_data"
    }
   ],
   "source": [
    "plt.plot(history.history['acc'])\n",
    "plt.plot(history.history['val_acc'])\n",
    "plt.title('model accuracy vs epoch')\n",
    "plt.ylabel('accuracy')\n",
    "plt.xlabel('epoch')\n",
    "plt.legend(['train', 'val'], loc='upper left')\n",
    "plt.show()\n",
    "\n",
    "plt.plot(history.history['loss'])\n",
    "plt.plot(history.history['val_loss'])\n",
    "plt.title('loss vs epoch')\n",
    "plt.ylabel('loss')\n",
    "plt.xlabel('epoch')\n",
    "plt.legend(['train', 'val'], loc='upper left')\n",
    "plt.show()\n",
    "\n",
    "model=saved_model"
   ]
  },
  {
   "cell_type": "code",
   "execution_count": 200,
   "metadata": {},
   "outputs": [
    {
     "data": {
      "text/plain": [
       "((7834, 5), (7834, 2))"
      ]
     },
     "execution_count": 200,
     "metadata": {},
     "output_type": "execute_result"
    }
   ],
   "source": [
    "#pl.plot(history.history['val_acc'])\n",
    "#model=saved_model\n",
    "x_tests.shape, y_tests.shape"
   ]
  },
  {
   "cell_type": "code",
   "execution_count": 201,
   "metadata": {},
   "outputs": [
    {
     "name": "stdout",
     "output_type": "stream",
     "text": [
      "7834/7834 [==============================] - 0s 33us/step\n"
     ]
    },
    {
     "data": {
      "text/plain": [
       "[0.34410086985537675, 0.8383967322234387]"
      ]
     },
     "execution_count": 201,
     "metadata": {},
     "output_type": "execute_result"
    }
   ],
   "source": [
    "#y_tests = to_categorical(y_tests_copy)\n",
    "score = model.evaluate(x_tests, y_tests, batch_size=128)\n",
    "score"
   ]
  },
  {
   "cell_type": "code",
   "execution_count": 202,
   "metadata": {},
   "outputs": [
    {
     "data": {
      "text/plain": [
       "(36192, 5)"
      ]
     },
     "execution_count": 202,
     "metadata": {},
     "output_type": "execute_result"
    }
   ],
   "source": [
    "x_trains.shape"
   ]
  },
  {
   "cell_type": "code",
   "execution_count": 203,
   "metadata": {},
   "outputs": [],
   "source": [
    "y_pred_nn = model.predict(x_tests)\n",
    "#print(confusion_matrix(y_tests, y_pred_nn))\n",
    "#yy=np.int64(y_pred_nn)\n",
    "\n",
    "y_pred_nn = np.argmax(y_pred_nn, axis=1)"
   ]
  },
  {
   "cell_type": "code",
   "execution_count": 204,
   "metadata": {},
   "outputs": [
    {
     "data": {
      "text/html": [
       "<div>\n",
       "<style scoped>\n",
       "    .dataframe tbody tr th:only-of-type {\n",
       "        vertical-align: middle;\n",
       "    }\n",
       "\n",
       "    .dataframe tbody tr th {\n",
       "        vertical-align: top;\n",
       "    }\n",
       "\n",
       "    .dataframe thead th {\n",
       "        text-align: right;\n",
       "    }\n",
       "</style>\n",
       "<table border=\"1\" class=\"dataframe\">\n",
       "  <thead>\n",
       "    <tr style=\"text-align: right;\">\n",
       "      <th></th>\n",
       "      <th>Model</th>\n",
       "      <th>Accuracy</th>\n",
       "      <th>Sensitivity</th>\n",
       "      <th>Specificity</th>\n",
       "      <th>Precision</th>\n",
       "      <th>Recall</th>\n",
       "      <th>F1-Sore</th>\n",
       "      <th>AUC</th>\n",
       "      <th>Cost</th>\n",
       "    </tr>\n",
       "  </thead>\n",
       "  <tbody>\n",
       "    <tr>\n",
       "      <th>0</th>\n",
       "      <td>KNN</td>\n",
       "      <td>0.915114</td>\n",
       "      <td>0.207921</td>\n",
       "      <td>0.924350</td>\n",
       "      <td>0.034653</td>\n",
       "      <td>0.207921</td>\n",
       "      <td>0.059406</td>\n",
       "      <td>0.566135</td>\n",
       "      <td>8564</td>\n",
       "    </tr>\n",
       "    <tr>\n",
       "      <th>1</th>\n",
       "      <td>LR</td>\n",
       "      <td>0.827674</td>\n",
       "      <td>0.732673</td>\n",
       "      <td>0.828915</td>\n",
       "      <td>0.052971</td>\n",
       "      <td>0.732673</td>\n",
       "      <td>0.098798</td>\n",
       "      <td>0.780794</td>\n",
       "      <td>3949</td>\n",
       "    </tr>\n",
       "    <tr>\n",
       "      <th>2</th>\n",
       "      <td>Random Forest</td>\n",
       "      <td>0.926219</td>\n",
       "      <td>0.316832</td>\n",
       "      <td>0.934178</td>\n",
       "      <td>0.059150</td>\n",
       "      <td>0.316832</td>\n",
       "      <td>0.099688</td>\n",
       "      <td>0.625505</td>\n",
       "      <td>7377</td>\n",
       "    </tr>\n",
       "    <tr>\n",
       "      <th>3</th>\n",
       "      <td>AdaBoost</td>\n",
       "      <td>0.750191</td>\n",
       "      <td>0.792079</td>\n",
       "      <td>0.749644</td>\n",
       "      <td>0.039683</td>\n",
       "      <td>0.792079</td>\n",
       "      <td>0.075579</td>\n",
       "      <td>0.770862</td>\n",
       "      <td>3956</td>\n",
       "    </tr>\n",
       "    <tr>\n",
       "      <th>4</th>\n",
       "      <td>XGBoost</td>\n",
       "      <td>0.740618</td>\n",
       "      <td>0.782178</td>\n",
       "      <td>0.740075</td>\n",
       "      <td>0.037817</td>\n",
       "      <td>0.782178</td>\n",
       "      <td>0.072146</td>\n",
       "      <td>0.761127</td>\n",
       "      <td>4131</td>\n",
       "    </tr>\n",
       "    <tr>\n",
       "      <th>5</th>\n",
       "      <td>Gradient Boost</td>\n",
       "      <td>0.752744</td>\n",
       "      <td>0.792079</td>\n",
       "      <td>0.752231</td>\n",
       "      <td>0.040080</td>\n",
       "      <td>0.792079</td>\n",
       "      <td>0.076299</td>\n",
       "      <td>0.772155</td>\n",
       "      <td>3936</td>\n",
       "    </tr>\n",
       "    <tr>\n",
       "      <th>6</th>\n",
       "      <td>NN</td>\n",
       "      <td>0.838397</td>\n",
       "      <td>0.693069</td>\n",
       "      <td>0.840295</td>\n",
       "      <td>0.053640</td>\n",
       "      <td>0.693069</td>\n",
       "      <td>0.099573</td>\n",
       "      <td>0.766682</td>\n",
       "      <td>4265</td>\n",
       "    </tr>\n",
       "  </tbody>\n",
       "</table>\n",
       "</div>"
      ],
      "text/plain": [
       "            Model  Accuracy  Sensitivity  Specificity  Precision    Recall  \\\n",
       "0             KNN  0.915114     0.207921     0.924350   0.034653  0.207921   \n",
       "1              LR  0.827674     0.732673     0.828915   0.052971  0.732673   \n",
       "2   Random Forest  0.926219     0.316832     0.934178   0.059150  0.316832   \n",
       "3        AdaBoost  0.750191     0.792079     0.749644   0.039683  0.792079   \n",
       "4         XGBoost  0.740618     0.782178     0.740075   0.037817  0.782178   \n",
       "5  Gradient Boost  0.752744     0.792079     0.752231   0.040080  0.792079   \n",
       "6              NN  0.838397     0.693069     0.840295   0.053640  0.693069   \n",
       "\n",
       "    F1-Sore       AUC  Cost  \n",
       "0  0.059406  0.566135  8564  \n",
       "1  0.098798  0.780794  3949  \n",
       "2  0.099688  0.625505  7377  \n",
       "3  0.075579  0.770862  3956  \n",
       "4  0.072146  0.761127  4131  \n",
       "5  0.076299  0.772155  3936  \n",
       "6  0.099573  0.766682  4265  "
      ]
     },
     "execution_count": 204,
     "metadata": {},
     "output_type": "execute_result"
    }
   ],
   "source": [
    "fpr_nn, tpr_nn, _ = roc_curve(y_tests_copy,  y_pred_nn)\n",
    "auc_nn = roc_auc_score(y_tests_copy, y_pred_nn)\n",
    "    \n",
    "result_table = result_table.append({'classifiers':'NN',\n",
    "                                        'fpr':fpr_nn, \n",
    "                                        'tpr':tpr_nn, \n",
    "                                        'auc':auc_nn}, ignore_index=True)\n",
    "\n",
    "acc_table=get_accuracy_table(acc_table, y_tests_copy, y_pred_nn, 'NN')\n",
    "\n",
    "acc_table"
   ]
  },
  {
   "cell_type": "code",
   "execution_count": 205,
   "metadata": {},
   "outputs": [
    {
     "data": {
      "text/html": [
       "<div>\n",
       "<style scoped>\n",
       "    .dataframe tbody tr th:only-of-type {\n",
       "        vertical-align: middle;\n",
       "    }\n",
       "\n",
       "    .dataframe tbody tr th {\n",
       "        vertical-align: top;\n",
       "    }\n",
       "\n",
       "    .dataframe thead th {\n",
       "        text-align: right;\n",
       "    }\n",
       "</style>\n",
       "<table border=\"1\" class=\"dataframe\">\n",
       "  <thead>\n",
       "    <tr style=\"text-align: right;\">\n",
       "      <th></th>\n",
       "      <th>Model</th>\n",
       "      <th>Accuracy</th>\n",
       "      <th>Sensitivity</th>\n",
       "      <th>Specificity</th>\n",
       "      <th>Precision</th>\n",
       "      <th>Recall</th>\n",
       "      <th>F1-Sore</th>\n",
       "      <th>AUC</th>\n",
       "      <th>Cost</th>\n",
       "    </tr>\n",
       "  </thead>\n",
       "  <tbody>\n",
       "    <tr>\n",
       "      <th>0</th>\n",
       "      <td>KNN</td>\n",
       "      <td>0.915114</td>\n",
       "      <td>0.207921</td>\n",
       "      <td>0.924350</td>\n",
       "      <td>0.034653</td>\n",
       "      <td>0.207921</td>\n",
       "      <td>0.059406</td>\n",
       "      <td>0.566135</td>\n",
       "      <td>8564</td>\n",
       "    </tr>\n",
       "    <tr>\n",
       "      <th>1</th>\n",
       "      <td>LR</td>\n",
       "      <td>0.827674</td>\n",
       "      <td>0.732673</td>\n",
       "      <td>0.828915</td>\n",
       "      <td>0.052971</td>\n",
       "      <td>0.732673</td>\n",
       "      <td>0.098798</td>\n",
       "      <td>0.780794</td>\n",
       "      <td>3949</td>\n",
       "    </tr>\n",
       "    <tr>\n",
       "      <th>2</th>\n",
       "      <td>Random Forest</td>\n",
       "      <td>0.926219</td>\n",
       "      <td>0.316832</td>\n",
       "      <td>0.934178</td>\n",
       "      <td>0.059150</td>\n",
       "      <td>0.316832</td>\n",
       "      <td>0.099688</td>\n",
       "      <td>0.625505</td>\n",
       "      <td>7377</td>\n",
       "    </tr>\n",
       "    <tr>\n",
       "      <th>3</th>\n",
       "      <td>AdaBoost</td>\n",
       "      <td>0.750191</td>\n",
       "      <td>0.792079</td>\n",
       "      <td>0.749644</td>\n",
       "      <td>0.039683</td>\n",
       "      <td>0.792079</td>\n",
       "      <td>0.075579</td>\n",
       "      <td>0.770862</td>\n",
       "      <td>3956</td>\n",
       "    </tr>\n",
       "    <tr>\n",
       "      <th>4</th>\n",
       "      <td>XGBoost</td>\n",
       "      <td>0.740618</td>\n",
       "      <td>0.782178</td>\n",
       "      <td>0.740075</td>\n",
       "      <td>0.037817</td>\n",
       "      <td>0.782178</td>\n",
       "      <td>0.072146</td>\n",
       "      <td>0.761127</td>\n",
       "      <td>4131</td>\n",
       "    </tr>\n",
       "    <tr>\n",
       "      <th>5</th>\n",
       "      <td>Gradient Boost</td>\n",
       "      <td>0.752744</td>\n",
       "      <td>0.792079</td>\n",
       "      <td>0.752231</td>\n",
       "      <td>0.040080</td>\n",
       "      <td>0.792079</td>\n",
       "      <td>0.076299</td>\n",
       "      <td>0.772155</td>\n",
       "      <td>3936</td>\n",
       "    </tr>\n",
       "    <tr>\n",
       "      <th>6</th>\n",
       "      <td>NN</td>\n",
       "      <td>0.838397</td>\n",
       "      <td>0.693069</td>\n",
       "      <td>0.840295</td>\n",
       "      <td>0.053640</td>\n",
       "      <td>0.693069</td>\n",
       "      <td>0.099573</td>\n",
       "      <td>0.766682</td>\n",
       "      <td>4265</td>\n",
       "    </tr>\n",
       "  </tbody>\n",
       "</table>\n",
       "</div>"
      ],
      "text/plain": [
       "            Model  Accuracy  Sensitivity  Specificity  Precision    Recall  \\\n",
       "0             KNN  0.915114     0.207921     0.924350   0.034653  0.207921   \n",
       "1              LR  0.827674     0.732673     0.828915   0.052971  0.732673   \n",
       "2   Random Forest  0.926219     0.316832     0.934178   0.059150  0.316832   \n",
       "3        AdaBoost  0.750191     0.792079     0.749644   0.039683  0.792079   \n",
       "4         XGBoost  0.740618     0.782178     0.740075   0.037817  0.782178   \n",
       "5  Gradient Boost  0.752744     0.792079     0.752231   0.040080  0.792079   \n",
       "6              NN  0.838397     0.693069     0.840295   0.053640  0.693069   \n",
       "\n",
       "    F1-Sore       AUC  Cost  \n",
       "0  0.059406  0.566135  8564  \n",
       "1  0.098798  0.780794  3949  \n",
       "2  0.099688  0.625505  7377  \n",
       "3  0.075579  0.770862  3956  \n",
       "4  0.072146  0.761127  4131  \n",
       "5  0.076299  0.772155  3936  \n",
       "6  0.099573  0.766682  4265  "
      ]
     },
     "execution_count": 205,
     "metadata": {},
     "output_type": "execute_result"
    }
   ],
   "source": [
    "#result_table=result_table.drop([5,6,7,8,9,10])\n",
    "result_table\n",
    "#acc_table=acc_table.drop([5,7])\n",
    "acc_table"
   ]
  },
  {
   "cell_type": "code",
   "execution_count": 206,
   "metadata": {},
   "outputs": [
    {
     "name": "stdout",
     "output_type": "stream",
     "text": [
      "[[6498 1235]\n",
      " [  31   70]]\n",
      "              precision    recall  f1-score   support\n",
      "\n",
      "           0       1.00      0.84      0.91      7733\n",
      "           1       0.05      0.69      0.10       101\n",
      "\n",
      "    accuracy                           0.84      7834\n",
      "   macro avg       0.52      0.77      0.51      7834\n",
      "weighted avg       0.98      0.84      0.90      7834\n",
      "\n"
     ]
    }
   ],
   "source": [
    "print(confusion_matrix(y_tests_copy, y_pred_nn))\n",
    "print(classification_report(y_tests_copy,y_pred_nn,target_names=target_names))"
   ]
  },
  {
   "cell_type": "code",
   "execution_count": 207,
   "metadata": {},
   "outputs": [
    {
     "data": {
      "image/png": "[encoded data removed]",
      "text/plain": [
       "<Figure size 576x432 with 1 Axes>"
      ]
     },
     "metadata": {
      "needs_background": "light"
     },
     "output_type": "display_data"
    }
   ],
   "source": [
    "plot_all_roc(result_table, \" SMOTE\")"
   ]
  },
  {
   "cell_type": "code",
   "execution_count": 208,
   "metadata": {},
   "outputs": [
    {
     "data": {
      "text/html": [
       "<div>\n",
       "<style scoped>\n",
       "    .dataframe tbody tr th:only-of-type {\n",
       "        vertical-align: middle;\n",
       "    }\n",
       "\n",
       "    .dataframe tbody tr th {\n",
       "        vertical-align: top;\n",
       "    }\n",
       "\n",
       "    .dataframe thead th {\n",
       "        text-align: right;\n",
       "    }\n",
       "</style>\n",
       "<table border=\"1\" class=\"dataframe\">\n",
       "  <thead>\n",
       "    <tr style=\"text-align: right;\">\n",
       "      <th></th>\n",
       "      <th>Model</th>\n",
       "      <th>Accuracy</th>\n",
       "      <th>Sensitivity</th>\n",
       "      <th>Specificity</th>\n",
       "      <th>Precision</th>\n",
       "      <th>Recall</th>\n",
       "      <th>F1-Sore</th>\n",
       "      <th>AUC</th>\n",
       "      <th>Cost</th>\n",
       "    </tr>\n",
       "  </thead>\n",
       "  <tbody>\n",
       "    <tr>\n",
       "      <th>0</th>\n",
       "      <td>KNN</td>\n",
       "      <td>0.915114</td>\n",
       "      <td>0.207921</td>\n",
       "      <td>0.924350</td>\n",
       "      <td>0.034653</td>\n",
       "      <td>0.207921</td>\n",
       "      <td>0.059406</td>\n",
       "      <td>0.566135</td>\n",
       "      <td>8564</td>\n",
       "    </tr>\n",
       "    <tr>\n",
       "      <th>1</th>\n",
       "      <td>LR</td>\n",
       "      <td>0.827674</td>\n",
       "      <td>0.732673</td>\n",
       "      <td>0.828915</td>\n",
       "      <td>0.052971</td>\n",
       "      <td>0.732673</td>\n",
       "      <td>0.098798</td>\n",
       "      <td>0.780794</td>\n",
       "      <td>3949</td>\n",
       "    </tr>\n",
       "    <tr>\n",
       "      <th>2</th>\n",
       "      <td>Random Forest</td>\n",
       "      <td>0.926219</td>\n",
       "      <td>0.316832</td>\n",
       "      <td>0.934178</td>\n",
       "      <td>0.059150</td>\n",
       "      <td>0.316832</td>\n",
       "      <td>0.099688</td>\n",
       "      <td>0.625505</td>\n",
       "      <td>7377</td>\n",
       "    </tr>\n",
       "    <tr>\n",
       "      <th>3</th>\n",
       "      <td>AdaBoost</td>\n",
       "      <td>0.750191</td>\n",
       "      <td>0.792079</td>\n",
       "      <td>0.749644</td>\n",
       "      <td>0.039683</td>\n",
       "      <td>0.792079</td>\n",
       "      <td>0.075579</td>\n",
       "      <td>0.770862</td>\n",
       "      <td>3956</td>\n",
       "    </tr>\n",
       "    <tr>\n",
       "      <th>4</th>\n",
       "      <td>XGBoost</td>\n",
       "      <td>0.740618</td>\n",
       "      <td>0.782178</td>\n",
       "      <td>0.740075</td>\n",
       "      <td>0.037817</td>\n",
       "      <td>0.782178</td>\n",
       "      <td>0.072146</td>\n",
       "      <td>0.761127</td>\n",
       "      <td>4131</td>\n",
       "    </tr>\n",
       "    <tr>\n",
       "      <th>5</th>\n",
       "      <td>Gradient Boost</td>\n",
       "      <td>0.752744</td>\n",
       "      <td>0.792079</td>\n",
       "      <td>0.752231</td>\n",
       "      <td>0.040080</td>\n",
       "      <td>0.792079</td>\n",
       "      <td>0.076299</td>\n",
       "      <td>0.772155</td>\n",
       "      <td>3936</td>\n",
       "    </tr>\n",
       "    <tr>\n",
       "      <th>6</th>\n",
       "      <td>NN</td>\n",
       "      <td>0.838397</td>\n",
       "      <td>0.693069</td>\n",
       "      <td>0.840295</td>\n",
       "      <td>0.053640</td>\n",
       "      <td>0.693069</td>\n",
       "      <td>0.099573</td>\n",
       "      <td>0.766682</td>\n",
       "      <td>4265</td>\n",
       "    </tr>\n",
       "  </tbody>\n",
       "</table>\n",
       "</div>"
      ],
      "text/plain": [
       "            Model  Accuracy  Sensitivity  Specificity  Precision    Recall  \\\n",
       "0             KNN  0.915114     0.207921     0.924350   0.034653  0.207921   \n",
       "1              LR  0.827674     0.732673     0.828915   0.052971  0.732673   \n",
       "2   Random Forest  0.926219     0.316832     0.934178   0.059150  0.316832   \n",
       "3        AdaBoost  0.750191     0.792079     0.749644   0.039683  0.792079   \n",
       "4         XGBoost  0.740618     0.782178     0.740075   0.037817  0.782178   \n",
       "5  Gradient Boost  0.752744     0.792079     0.752231   0.040080  0.792079   \n",
       "6              NN  0.838397     0.693069     0.840295   0.053640  0.693069   \n",
       "\n",
       "    F1-Sore       AUC  Cost  \n",
       "0  0.059406  0.566135  8564  \n",
       "1  0.098798  0.780794  3949  \n",
       "2  0.099688  0.625505  7377  \n",
       "3  0.075579  0.770862  3956  \n",
       "4  0.072146  0.761127  4131  \n",
       "5  0.076299  0.772155  3936  \n",
       "6  0.099573  0.766682  4265  "
      ]
     },
     "execution_count": 208,
     "metadata": {},
     "output_type": "execute_result"
    }
   ],
   "source": [
    "acc_table"
   ]
  },
  {
   "cell_type": "code",
   "execution_count": 209,
   "metadata": {},
   "outputs": [
    {
     "data": {
      "text/plain": [
       "((36192, 5), (36192, 2))"
      ]
     },
     "execution_count": 209,
     "metadata": {},
     "output_type": "execute_result"
    }
   ],
   "source": [
    "x_trains.shape, y_trains.shape"
   ]
  },
  {
   "cell_type": "markdown",
   "metadata": {},
   "source": [
    "## Naive Bayes"
   ]
  },
  {
   "cell_type": "code",
   "execution_count": 210,
   "metadata": {},
   "outputs": [],
   "source": [
    "y_trains=y_trains_copy\n",
    "x_trains=x_trains_copy\n",
    "y_tests=y_tests_copy\n",
    "from sklearn.naive_bayes import MultinomialNB\n",
    "from sklearn.naive_bayes import GaussianNB\n",
    "\n",
    "NB = GaussianNB().fit(x_trains, y_trains)"
   ]
  },
  {
   "cell_type": "code",
   "execution_count": 211,
   "metadata": {},
   "outputs": [],
   "source": [
    "import numpy as np\n",
    "\n",
    "y_pred_nb = NB.predict(x_tests)\n"
   ]
  },
  {
   "cell_type": "code",
   "execution_count": 212,
   "metadata": {},
   "outputs": [],
   "source": [
    "#print(confusion_matrix(y_tests, y_pred_nb))"
   ]
  },
  {
   "cell_type": "code",
   "execution_count": 213,
   "metadata": {},
   "outputs": [
    {
     "data": {
      "text/html": [
       "<div>\n",
       "<style scoped>\n",
       "    .dataframe tbody tr th:only-of-type {\n",
       "        vertical-align: middle;\n",
       "    }\n",
       "\n",
       "    .dataframe tbody tr th {\n",
       "        vertical-align: top;\n",
       "    }\n",
       "\n",
       "    .dataframe thead th {\n",
       "        text-align: right;\n",
       "    }\n",
       "</style>\n",
       "<table border=\"1\" class=\"dataframe\">\n",
       "  <thead>\n",
       "    <tr style=\"text-align: right;\">\n",
       "      <th></th>\n",
       "      <th>Model</th>\n",
       "      <th>Accuracy</th>\n",
       "      <th>Sensitivity</th>\n",
       "      <th>Specificity</th>\n",
       "      <th>Precision</th>\n",
       "      <th>Recall</th>\n",
       "      <th>F1-Sore</th>\n",
       "      <th>AUC</th>\n",
       "      <th>Cost</th>\n",
       "    </tr>\n",
       "  </thead>\n",
       "  <tbody>\n",
       "    <tr>\n",
       "      <th>0</th>\n",
       "      <td>KNN</td>\n",
       "      <td>0.915114</td>\n",
       "      <td>0.207921</td>\n",
       "      <td>0.924350</td>\n",
       "      <td>0.034653</td>\n",
       "      <td>0.207921</td>\n",
       "      <td>0.059406</td>\n",
       "      <td>0.566135</td>\n",
       "      <td>8564</td>\n",
       "    </tr>\n",
       "    <tr>\n",
       "      <th>1</th>\n",
       "      <td>LR</td>\n",
       "      <td>0.827674</td>\n",
       "      <td>0.732673</td>\n",
       "      <td>0.828915</td>\n",
       "      <td>0.052971</td>\n",
       "      <td>0.732673</td>\n",
       "      <td>0.098798</td>\n",
       "      <td>0.780794</td>\n",
       "      <td>3949</td>\n",
       "    </tr>\n",
       "    <tr>\n",
       "      <th>2</th>\n",
       "      <td>Random Forest</td>\n",
       "      <td>0.926219</td>\n",
       "      <td>0.316832</td>\n",
       "      <td>0.934178</td>\n",
       "      <td>0.059150</td>\n",
       "      <td>0.316832</td>\n",
       "      <td>0.099688</td>\n",
       "      <td>0.625505</td>\n",
       "      <td>7377</td>\n",
       "    </tr>\n",
       "    <tr>\n",
       "      <th>3</th>\n",
       "      <td>AdaBoost</td>\n",
       "      <td>0.750191</td>\n",
       "      <td>0.792079</td>\n",
       "      <td>0.749644</td>\n",
       "      <td>0.039683</td>\n",
       "      <td>0.792079</td>\n",
       "      <td>0.075579</td>\n",
       "      <td>0.770862</td>\n",
       "      <td>3956</td>\n",
       "    </tr>\n",
       "    <tr>\n",
       "      <th>4</th>\n",
       "      <td>XGBoost</td>\n",
       "      <td>0.740618</td>\n",
       "      <td>0.782178</td>\n",
       "      <td>0.740075</td>\n",
       "      <td>0.037817</td>\n",
       "      <td>0.782178</td>\n",
       "      <td>0.072146</td>\n",
       "      <td>0.761127</td>\n",
       "      <td>4131</td>\n",
       "    </tr>\n",
       "    <tr>\n",
       "      <th>5</th>\n",
       "      <td>Gradient Boost</td>\n",
       "      <td>0.752744</td>\n",
       "      <td>0.792079</td>\n",
       "      <td>0.752231</td>\n",
       "      <td>0.040080</td>\n",
       "      <td>0.792079</td>\n",
       "      <td>0.076299</td>\n",
       "      <td>0.772155</td>\n",
       "      <td>3936</td>\n",
       "    </tr>\n",
       "    <tr>\n",
       "      <th>6</th>\n",
       "      <td>NN</td>\n",
       "      <td>0.838397</td>\n",
       "      <td>0.693069</td>\n",
       "      <td>0.840295</td>\n",
       "      <td>0.053640</td>\n",
       "      <td>0.693069</td>\n",
       "      <td>0.099573</td>\n",
       "      <td>0.766682</td>\n",
       "      <td>4265</td>\n",
       "    </tr>\n",
       "    <tr>\n",
       "      <th>7</th>\n",
       "      <td>NB</td>\n",
       "      <td>0.903625</td>\n",
       "      <td>0.386139</td>\n",
       "      <td>0.910384</td>\n",
       "      <td>0.053279</td>\n",
       "      <td>0.386139</td>\n",
       "      <td>0.093637</td>\n",
       "      <td>0.648261</td>\n",
       "      <td>6854</td>\n",
       "    </tr>\n",
       "  </tbody>\n",
       "</table>\n",
       "</div>"
      ],
      "text/plain": [
       "            Model  Accuracy  Sensitivity  Specificity  Precision    Recall  \\\n",
       "0             KNN  0.915114     0.207921     0.924350   0.034653  0.207921   \n",
       "1              LR  0.827674     0.732673     0.828915   0.052971  0.732673   \n",
       "2   Random Forest  0.926219     0.316832     0.934178   0.059150  0.316832   \n",
       "3        AdaBoost  0.750191     0.792079     0.749644   0.039683  0.792079   \n",
       "4         XGBoost  0.740618     0.782178     0.740075   0.037817  0.782178   \n",
       "5  Gradient Boost  0.752744     0.792079     0.752231   0.040080  0.792079   \n",
       "6              NN  0.838397     0.693069     0.840295   0.053640  0.693069   \n",
       "7              NB  0.903625     0.386139     0.910384   0.053279  0.386139   \n",
       "\n",
       "    F1-Sore       AUC  Cost  \n",
       "0  0.059406  0.566135  8564  \n",
       "1  0.098798  0.780794  3949  \n",
       "2  0.099688  0.625505  7377  \n",
       "3  0.075579  0.770862  3956  \n",
       "4  0.072146  0.761127  4131  \n",
       "5  0.076299  0.772155  3936  \n",
       "6  0.099573  0.766682  4265  \n",
       "7  0.093637  0.648261  6854  "
      ]
     },
     "execution_count": 213,
     "metadata": {},
     "output_type": "execute_result"
    }
   ],
   "source": [
    "fpr_nb, tpr_nb, _ = roc_curve(y_tests,  y_pred_nb)\n",
    "auc_nb = roc_auc_score(y_tests, y_pred_nb)\n",
    "    \n",
    "result_table = result_table.append({'classifiers':'NB',\n",
    "                                        'fpr':fpr_nb, \n",
    "                                        'tpr':tpr_nb, \n",
    "                                        'auc':auc_nb}, ignore_index=True)\n",
    "\n",
    "acc_table=get_accuracy_table(acc_table, y_tests, y_pred_nb, 'NB')\n",
    "\n",
    "acc_table"
   ]
  },
  {
   "cell_type": "code",
   "execution_count": 214,
   "metadata": {},
   "outputs": [
    {
     "data": {
      "text/plain": [
       "0               KNN\n",
       "1                LR\n",
       "2     Random Forest\n",
       "3          AdaBoost\n",
       "4           XGBoost\n",
       "5    Gradient Boost\n",
       "6                NN\n",
       "7                NB\n",
       "Name: Model, dtype: object"
      ]
     },
     "execution_count": 214,
     "metadata": {},
     "output_type": "execute_result"
    }
   ],
   "source": [
    "acc_table['Model']"
   ]
  },
  {
   "cell_type": "markdown",
   "metadata": {},
   "source": [
    "### Visualize color confusion matrix for few models"
   ]
  },
  {
   "cell_type": "code",
   "execution_count": 215,
   "metadata": {},
   "outputs": [
    {
     "data": {
      "image/png": "[encoded data removed]",
      "text/plain": [
       "<Figure size 432x288 with 1 Axes>"
      ]
     },
     "metadata": {
      "needs_background": "light"
     },
     "output_type": "display_data"
    },
    {
     "name": "stdout",
     "output_type": "stream",
     "text": [
      "None\n"
     ]
    },
    {
     "data": {
      "image/png": "[encoded data removed]",
      "text/plain": [
       "<Figure size 432x288 with 1 Axes>"
      ]
     },
     "metadata": {
      "needs_background": "light"
     },
     "output_type": "display_data"
    },
    {
     "name": "stdout",
     "output_type": "stream",
     "text": [
      "None\n"
     ]
    },
    {
     "data": {
      "image/png": "[encoded data removed]",
      "text/plain": [
       "<Figure size 432x288 with 1 Axes>"
      ]
     },
     "metadata": {
      "needs_background": "light"
     },
     "output_type": "display_data"
    },
    {
     "name": "stdout",
     "output_type": "stream",
     "text": [
      "None\n"
     ]
    },
    {
     "data": {
      "image/png": "[encoded data removed]",
      "text/plain": [
       "<Figure size 432x288 with 1 Axes>"
      ]
     },
     "metadata": {
      "needs_background": "light"
     },
     "output_type": "display_data"
    },
    {
     "name": "stdout",
     "output_type": "stream",
     "text": [
      "None\n"
     ]
    },
    {
     "data": {
      "image/png": "[encoded data removed]",
      "text/plain": [
       "<Figure size 432x288 with 1 Axes>"
      ]
     },
     "metadata": {
      "needs_background": "light"
     },
     "output_type": "display_data"
    }
   ],
   "source": [
    "cm_ada=confusion_matrix(y_tests, y_pred_ada)\n",
    "cm_knn=confusion_matrix(y_tests, y_pred_knn)\n",
    "cm_nn=confusion_matrix(y_tests, y_pred_nn)\n",
    "cm_nb=confusion_matrix(y_tests, y_pred_nb)\n",
    "cm_lr=confusion_matrix(y_tests, y_pred_LR)\n",
    "\n",
    "print(color_conf_mat(cm_ada, 'AdaBoost'))\n",
    "print(color_conf_mat(cm_nb, 'Naive Bayes'))\n",
    "\n",
    "print(color_conf_mat(cm_knn, 'KNN'))\n",
    "print(color_conf_mat(cm_lr, 'Logistic Regression'))\n",
    "color_conf_mat(cm_nn, 'NN')"
   ]
  },
  {
   "cell_type": "markdown",
   "metadata": {},
   "source": [
    "### Classification results using all metrics for all models after applying SMOTE sampling algorithms and removing PSA_Recent_2 Features"
   ]
  },
  {
   "cell_type": "code",
   "execution_count": 217,
   "metadata": {},
   "outputs": [
    {
     "data": {
      "text/html": [
       "<div>\n",
       "<style scoped>\n",
       "    .dataframe tbody tr th:only-of-type {\n",
       "        vertical-align: middle;\n",
       "    }\n",
       "\n",
       "    .dataframe tbody tr th {\n",
       "        vertical-align: top;\n",
       "    }\n",
       "\n",
       "    .dataframe thead th {\n",
       "        text-align: right;\n",
       "    }\n",
       "</style>\n",
       "<table border=\"1\" class=\"dataframe\">\n",
       "  <thead>\n",
       "    <tr style=\"text-align: right;\">\n",
       "      <th></th>\n",
       "      <th>Model</th>\n",
       "      <th>Accuracy</th>\n",
       "      <th>Sensitivity</th>\n",
       "      <th>Specificity</th>\n",
       "      <th>Precision</th>\n",
       "      <th>Recall</th>\n",
       "      <th>F1-Sore</th>\n",
       "      <th>AUC</th>\n",
       "      <th>Cost</th>\n",
       "    </tr>\n",
       "  </thead>\n",
       "  <tbody>\n",
       "    <tr>\n",
       "      <th>0</th>\n",
       "      <td>KNN</td>\n",
       "      <td>0.915114</td>\n",
       "      <td>0.207921</td>\n",
       "      <td>0.924350</td>\n",
       "      <td>0.034653</td>\n",
       "      <td>0.207921</td>\n",
       "      <td>0.059406</td>\n",
       "      <td>0.566135</td>\n",
       "      <td>8564</td>\n",
       "    </tr>\n",
       "    <tr>\n",
       "      <th>1</th>\n",
       "      <td>LR</td>\n",
       "      <td>0.827674</td>\n",
       "      <td>0.732673</td>\n",
       "      <td>0.828915</td>\n",
       "      <td>0.052971</td>\n",
       "      <td>0.732673</td>\n",
       "      <td>0.098798</td>\n",
       "      <td>0.780794</td>\n",
       "      <td>3949</td>\n",
       "    </tr>\n",
       "    <tr>\n",
       "      <th>2</th>\n",
       "      <td>Random Forest</td>\n",
       "      <td>0.926219</td>\n",
       "      <td>0.316832</td>\n",
       "      <td>0.934178</td>\n",
       "      <td>0.059150</td>\n",
       "      <td>0.316832</td>\n",
       "      <td>0.099688</td>\n",
       "      <td>0.625505</td>\n",
       "      <td>7377</td>\n",
       "    </tr>\n",
       "    <tr>\n",
       "      <th>3</th>\n",
       "      <td>AdaBoost</td>\n",
       "      <td>0.750191</td>\n",
       "      <td>0.792079</td>\n",
       "      <td>0.749644</td>\n",
       "      <td>0.039683</td>\n",
       "      <td>0.792079</td>\n",
       "      <td>0.075579</td>\n",
       "      <td>0.770862</td>\n",
       "      <td>3956</td>\n",
       "    </tr>\n",
       "    <tr>\n",
       "      <th>4</th>\n",
       "      <td>XGBoost</td>\n",
       "      <td>0.740618</td>\n",
       "      <td>0.782178</td>\n",
       "      <td>0.740075</td>\n",
       "      <td>0.037817</td>\n",
       "      <td>0.782178</td>\n",
       "      <td>0.072146</td>\n",
       "      <td>0.761127</td>\n",
       "      <td>4131</td>\n",
       "    </tr>\n",
       "    <tr>\n",
       "      <th>5</th>\n",
       "      <td>Gradient Boost</td>\n",
       "      <td>0.752744</td>\n",
       "      <td>0.792079</td>\n",
       "      <td>0.752231</td>\n",
       "      <td>0.040080</td>\n",
       "      <td>0.792079</td>\n",
       "      <td>0.076299</td>\n",
       "      <td>0.772155</td>\n",
       "      <td>3936</td>\n",
       "    </tr>\n",
       "    <tr>\n",
       "      <th>6</th>\n",
       "      <td>NN</td>\n",
       "      <td>0.838397</td>\n",
       "      <td>0.693069</td>\n",
       "      <td>0.840295</td>\n",
       "      <td>0.053640</td>\n",
       "      <td>0.693069</td>\n",
       "      <td>0.099573</td>\n",
       "      <td>0.766682</td>\n",
       "      <td>4265</td>\n",
       "    </tr>\n",
       "    <tr>\n",
       "      <th>7</th>\n",
       "      <td>NB</td>\n",
       "      <td>0.903625</td>\n",
       "      <td>0.386139</td>\n",
       "      <td>0.910384</td>\n",
       "      <td>0.053279</td>\n",
       "      <td>0.386139</td>\n",
       "      <td>0.093637</td>\n",
       "      <td>0.648261</td>\n",
       "      <td>6854</td>\n",
       "    </tr>\n",
       "  </tbody>\n",
       "</table>\n",
       "</div>"
      ],
      "text/plain": [
       "            Model  Accuracy  Sensitivity  Specificity  Precision    Recall  \\\n",
       "0             KNN  0.915114     0.207921     0.924350   0.034653  0.207921   \n",
       "1              LR  0.827674     0.732673     0.828915   0.052971  0.732673   \n",
       "2   Random Forest  0.926219     0.316832     0.934178   0.059150  0.316832   \n",
       "3        AdaBoost  0.750191     0.792079     0.749644   0.039683  0.792079   \n",
       "4         XGBoost  0.740618     0.782178     0.740075   0.037817  0.782178   \n",
       "5  Gradient Boost  0.752744     0.792079     0.752231   0.040080  0.792079   \n",
       "6              NN  0.838397     0.693069     0.840295   0.053640  0.693069   \n",
       "7              NB  0.903625     0.386139     0.910384   0.053279  0.386139   \n",
       "\n",
       "    F1-Sore       AUC  Cost  \n",
       "0  0.059406  0.566135  8564  \n",
       "1  0.098798  0.780794  3949  \n",
       "2  0.099688  0.625505  7377  \n",
       "3  0.075579  0.770862  3956  \n",
       "4  0.072146  0.761127  4131  \n",
       "5  0.076299  0.772155  3936  \n",
       "6  0.099573  0.766682  4265  \n",
       "7  0.093637  0.648261  6854  "
      ]
     },
     "execution_count": 217,
     "metadata": {},
     "output_type": "execute_result"
    }
   ],
   "source": [
    "acc_table"
   ]
  },
  {
   "cell_type": "code",
   "execution_count": 218,
   "metadata": {},
   "outputs": [
    {
     "data": {
      "image/png": "[encoded data removed]",
      "text/plain": [
       "<Figure size 576x432 with 1 Axes>"
      ]
     },
     "metadata": {
      "needs_background": "light"
     },
     "output_type": "display_data"
    }
   ],
   "source": [
    "plot_all_roc(result_table, sampling_type)"
   ]
  },
  {
   "cell_type": "markdown",
   "metadata": {},
   "source": [
    "### ROC curves for models after applying SMOTE sampling algorithms and removing PSA_Recent_2 Features"
   ]
  },
  {
   "cell_type": "code",
   "execution_count": 219,
   "metadata": {},
   "outputs": [
    {
     "data": {
      "image/png": "[encoded data removed]",
      "text/plain": [
       "<Figure size 576x432 with 1 Axes>"
      ]
     },
     "metadata": {
      "needs_background": "light"
     },
     "output_type": "display_data"
    }
   ],
   "source": [
    "plot_all_roc(result_table, sampling_type)"
   ]
  },
  {
   "cell_type": "code",
   "execution_count": null,
   "metadata": {},
   "outputs": [],
   "source": []
  }
 ],
 "metadata": {
  "kernelspec": {
   "display_name": "Python 3",
   "language": "python",
   "name": "python3"
  },
  "language_info": {
   "codemirror_mode": {
    "name": "ipython",
    "version": 3
   },
   "file_extension": ".py",
   "mimetype": "text/x-python",
   "name": "python",
   "nbconvert_exporter": "python",
   "pygments_lexer": "ipython3",
   "version": "3.6.8"
  }
 },
 "nbformat": 4,
 "nbformat_minor": 2
}
